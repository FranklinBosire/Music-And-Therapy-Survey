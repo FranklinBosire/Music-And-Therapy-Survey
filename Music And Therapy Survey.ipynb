{
 "cells": [
  {
   "cell_type": "code",
   "execution_count": 34,
   "id": "21ae8344",
   "metadata": {},
   "outputs": [],
   "source": [
    "import numpy as np\n",
    "import plotly.express as px\n",
    "import matplotlib.pyplot as plt\n",
    "import pandas as pd\n",
    "import seaborn as sns\n",
    "from matplotlib.sankey import Sankey\n",
    "from bokeh.plotting import figure, output_file, show\n",
    "from bokeh.palettes import magma\n",
    "from scipy import stats\n",
    "dat = pd.read_csv('Music-and-Therapy-survey-1.csv')\n"
   ]
  },
  {
   "cell_type": "code",
   "execution_count": 35,
   "id": "94fcc671",
   "metadata": {},
   "outputs": [
    {
     "data": {
      "text/html": [
       "<div>\n",
       "<style scoped>\n",
       "    .dataframe tbody tr th:only-of-type {\n",
       "        vertical-align: middle;\n",
       "    }\n",
       "\n",
       "    .dataframe tbody tr th {\n",
       "        vertical-align: top;\n",
       "    }\n",
       "\n",
       "    .dataframe thead th {\n",
       "        text-align: right;\n",
       "    }\n",
       "</style>\n",
       "<table border=\"1\" class=\"dataframe\">\n",
       "  <thead>\n",
       "    <tr style=\"text-align: right;\">\n",
       "      <th></th>\n",
       "      <th>Timestamp</th>\n",
       "      <th>Age</th>\n",
       "      <th>Primary streaming service</th>\n",
       "      <th>Hours per day</th>\n",
       "      <th>While working</th>\n",
       "      <th>Instrumentalist</th>\n",
       "      <th>Composer</th>\n",
       "      <th>Fav genre</th>\n",
       "      <th>Exploratory</th>\n",
       "      <th>Foreign languages</th>\n",
       "      <th>...</th>\n",
       "      <th>Frequency [R&amp;B]</th>\n",
       "      <th>Frequency [Rap]</th>\n",
       "      <th>Frequency [Rock]</th>\n",
       "      <th>Frequency [Video game music]</th>\n",
       "      <th>Anxiety</th>\n",
       "      <th>Depression</th>\n",
       "      <th>Insomnia</th>\n",
       "      <th>OCD</th>\n",
       "      <th>Music effects</th>\n",
       "      <th>Permissions</th>\n",
       "    </tr>\n",
       "  </thead>\n",
       "  <tbody>\n",
       "    <tr>\n",
       "      <th>0</th>\n",
       "      <td>8/27/2022 19:29</td>\n",
       "      <td>18.0</td>\n",
       "      <td>Spotify</td>\n",
       "      <td>3.0</td>\n",
       "      <td>Yes</td>\n",
       "      <td>Yes</td>\n",
       "      <td>Yes</td>\n",
       "      <td>Latin</td>\n",
       "      <td>Yes</td>\n",
       "      <td>Yes</td>\n",
       "      <td>...</td>\n",
       "      <td>Sometimes</td>\n",
       "      <td>Very frequently</td>\n",
       "      <td>Never</td>\n",
       "      <td>Sometimes</td>\n",
       "      <td>3.0</td>\n",
       "      <td>0.0</td>\n",
       "      <td>1.0</td>\n",
       "      <td>0.0</td>\n",
       "      <td>NaN</td>\n",
       "      <td>I understand.</td>\n",
       "    </tr>\n",
       "    <tr>\n",
       "      <th>1</th>\n",
       "      <td>8/27/2022 19:57</td>\n",
       "      <td>63.0</td>\n",
       "      <td>Pandora</td>\n",
       "      <td>1.5</td>\n",
       "      <td>Yes</td>\n",
       "      <td>No</td>\n",
       "      <td>No</td>\n",
       "      <td>Rock</td>\n",
       "      <td>Yes</td>\n",
       "      <td>No</td>\n",
       "      <td>...</td>\n",
       "      <td>Sometimes</td>\n",
       "      <td>Rarely</td>\n",
       "      <td>Very frequently</td>\n",
       "      <td>Rarely</td>\n",
       "      <td>7.0</td>\n",
       "      <td>2.0</td>\n",
       "      <td>2.0</td>\n",
       "      <td>1.0</td>\n",
       "      <td>NaN</td>\n",
       "      <td>I understand.</td>\n",
       "    </tr>\n",
       "    <tr>\n",
       "      <th>2</th>\n",
       "      <td>8/27/2022 21:28</td>\n",
       "      <td>18.0</td>\n",
       "      <td>Spotify</td>\n",
       "      <td>4.0</td>\n",
       "      <td>No</td>\n",
       "      <td>No</td>\n",
       "      <td>No</td>\n",
       "      <td>Video game music</td>\n",
       "      <td>No</td>\n",
       "      <td>Yes</td>\n",
       "      <td>...</td>\n",
       "      <td>Never</td>\n",
       "      <td>Rarely</td>\n",
       "      <td>Rarely</td>\n",
       "      <td>Very frequently</td>\n",
       "      <td>7.0</td>\n",
       "      <td>7.0</td>\n",
       "      <td>10.0</td>\n",
       "      <td>2.0</td>\n",
       "      <td>No effect</td>\n",
       "      <td>I understand.</td>\n",
       "    </tr>\n",
       "    <tr>\n",
       "      <th>3</th>\n",
       "      <td>8/27/2022 21:40</td>\n",
       "      <td>61.0</td>\n",
       "      <td>YouTube Music</td>\n",
       "      <td>2.5</td>\n",
       "      <td>Yes</td>\n",
       "      <td>No</td>\n",
       "      <td>Yes</td>\n",
       "      <td>Jazz</td>\n",
       "      <td>Yes</td>\n",
       "      <td>Yes</td>\n",
       "      <td>...</td>\n",
       "      <td>Sometimes</td>\n",
       "      <td>Never</td>\n",
       "      <td>Never</td>\n",
       "      <td>Never</td>\n",
       "      <td>9.0</td>\n",
       "      <td>7.0</td>\n",
       "      <td>3.0</td>\n",
       "      <td>3.0</td>\n",
       "      <td>Improve</td>\n",
       "      <td>I understand.</td>\n",
       "    </tr>\n",
       "    <tr>\n",
       "      <th>4</th>\n",
       "      <td>8/27/2022 21:54</td>\n",
       "      <td>18.0</td>\n",
       "      <td>Spotify</td>\n",
       "      <td>4.0</td>\n",
       "      <td>Yes</td>\n",
       "      <td>No</td>\n",
       "      <td>No</td>\n",
       "      <td>R&amp;B</td>\n",
       "      <td>Yes</td>\n",
       "      <td>No</td>\n",
       "      <td>...</td>\n",
       "      <td>Very frequently</td>\n",
       "      <td>Very frequently</td>\n",
       "      <td>Never</td>\n",
       "      <td>Rarely</td>\n",
       "      <td>7.0</td>\n",
       "      <td>2.0</td>\n",
       "      <td>5.0</td>\n",
       "      <td>9.0</td>\n",
       "      <td>Improve</td>\n",
       "      <td>I understand.</td>\n",
       "    </tr>\n",
       "  </tbody>\n",
       "</table>\n",
       "<p>5 rows × 33 columns</p>\n",
       "</div>"
      ],
      "text/plain": [
       "         Timestamp   Age Primary streaming service  Hours per day  \\\n",
       "0  8/27/2022 19:29  18.0                   Spotify            3.0   \n",
       "1  8/27/2022 19:57  63.0                   Pandora            1.5   \n",
       "2  8/27/2022 21:28  18.0                   Spotify            4.0   \n",
       "3  8/27/2022 21:40  61.0             YouTube Music            2.5   \n",
       "4  8/27/2022 21:54  18.0                   Spotify            4.0   \n",
       "\n",
       "  While working Instrumentalist Composer         Fav genre Exploratory  \\\n",
       "0           Yes             Yes      Yes             Latin         Yes   \n",
       "1           Yes              No       No              Rock         Yes   \n",
       "2            No              No       No  Video game music          No   \n",
       "3           Yes              No      Yes              Jazz         Yes   \n",
       "4           Yes              No       No               R&B         Yes   \n",
       "\n",
       "  Foreign languages  ...  Frequency [R&B]  Frequency [Rap] Frequency [Rock]  \\\n",
       "0               Yes  ...        Sometimes  Very frequently            Never   \n",
       "1                No  ...        Sometimes           Rarely  Very frequently   \n",
       "2               Yes  ...            Never           Rarely           Rarely   \n",
       "3               Yes  ...        Sometimes            Never            Never   \n",
       "4                No  ...  Very frequently  Very frequently            Never   \n",
       "\n",
       "  Frequency [Video game music] Anxiety Depression Insomnia  OCD Music effects  \\\n",
       "0                    Sometimes     3.0        0.0      1.0  0.0           NaN   \n",
       "1                       Rarely     7.0        2.0      2.0  1.0           NaN   \n",
       "2              Very frequently     7.0        7.0     10.0  2.0     No effect   \n",
       "3                        Never     9.0        7.0      3.0  3.0       Improve   \n",
       "4                       Rarely     7.0        2.0      5.0  9.0       Improve   \n",
       "\n",
       "     Permissions  \n",
       "0  I understand.  \n",
       "1  I understand.  \n",
       "2  I understand.  \n",
       "3  I understand.  \n",
       "4  I understand.  \n",
       "\n",
       "[5 rows x 33 columns]"
      ]
     },
     "execution_count": 35,
     "metadata": {},
     "output_type": "execute_result"
    }
   ],
   "source": [
    "dat.head()"
   ]
  },
  {
   "cell_type": "markdown",
   "id": "e813eb79",
   "metadata": {},
   "source": [
    "# Detecting Missing Values"
   ]
  },
  {
   "cell_type": "markdown",
   "id": "5cd6d268",
   "metadata": {},
   "source": [
    "# data my be missing due to some reasons:\n",
    "1. user forgot to fill in a field.\n",
    "2. Data was lost while transferring manually from a legacy database.\n",
    "3. There was a programming error.\n",
    "4. Users chose not to fill out a field tied to their beliefs about how the results would be used or interpreted.\n",
    "# Finding missing values procudures.\n",
    "1. load the data frame and study the structure of the data frame\n",
    "2. Separate categorical and numerical columns in the data frame\n",
    "3. Find the missing values\n",
    "# Finding missing values in the data frame using Python\n",
    "1. Use isnull() function to identify the missing values in the data frame\n",
    "2. Use sum() functions to get sum of all missing values per column.\n",
    "3. use sort_values(ascending=False) function to get columns with the missing values in descending order.\n",
    "4. Divide by len(df) to get % of missing values in each column."
   ]
  },
  {
   "cell_type": "code",
   "execution_count": 65,
   "id": "a3999dd4",
   "metadata": {},
   "outputs": [
    {
     "data": {
      "text/plain": [
       "Timestamp                       False\n",
       "Age                             False\n",
       "Primary streaming service       False\n",
       "Hours per day                   False\n",
       "While working                   False\n",
       "Instrumentalist                 False\n",
       "Composer                        False\n",
       "Fav genre                       False\n",
       "Exploratory                     False\n",
       "Foreign languages               False\n",
       "BPM                             False\n",
       "Frequency [Classical]           False\n",
       "Frequency [Country]             False\n",
       "Frequency [EDM]                 False\n",
       "Frequency [Folk]                False\n",
       "Frequency [Gospel]              False\n",
       "Frequency [Hip hop]             False\n",
       "Frequency [Jazz]                False\n",
       "Frequency [K pop]               False\n",
       "Frequency [Latin]               False\n",
       "Frequency [Lofi]                False\n",
       "Frequency [Metal]               False\n",
       "Frequency [Pop]                 False\n",
       "Frequency [R_B]                 False\n",
       "Frequency [Rap]                 False\n",
       "Frequency [Rock]                False\n",
       "Frequency [Video game music]    False\n",
       "Anxiety                         False\n",
       "Depression                      False\n",
       "Insomnia                        False\n",
       "OCD                             False\n",
       "Music effects                   False\n",
       "Permissions                     False\n",
       "dtype: bool"
      ]
     },
     "execution_count": 65,
     "metadata": {},
     "output_type": "execute_result"
    }
   ],
   "source": [
    "#Separate categorical and numerical columns in the data frame\n",
    "dat.dtypes == 'objects'"
   ]
  },
  {
   "cell_type": "code",
   "execution_count": 67,
   "id": "8fb448e6",
   "metadata": {},
   "outputs": [
    {
     "name": "stdout",
     "output_type": "stream",
     "text": [
      "Index(['Timestamp', 'Age', 'Primary streaming service', 'Hours per day',\n",
      "       'While working', 'Instrumentalist', 'Composer', 'Fav genre',\n",
      "       'Exploratory', 'Foreign languages', 'BPM', 'Frequency [Classical]',\n",
      "       'Frequency [Country]', 'Frequency [EDM]', 'Frequency [Folk]',\n",
      "       'Frequency [Gospel]', 'Frequency [Hip hop]', 'Frequency [Jazz]',\n",
      "       'Frequency [K pop]', 'Frequency [Latin]', 'Frequency [Lofi]',\n",
      "       'Frequency [Metal]', 'Frequency [Pop]', 'Frequency [R_B]',\n",
      "       'Frequency [Rap]', 'Frequency [Rock]', 'Frequency [Video game music]',\n",
      "       'Anxiety', 'Depression', 'Insomnia', 'OCD', 'Music effects',\n",
      "       'Permissions'],\n",
      "      dtype='object')\n",
      "Index([], dtype='object')\n"
     ]
    }
   ],
   "source": [
    "num_vars = dat.columns[dat.dtypes !='objects']\n",
    "cat_vars = dat.columns[dat.dtypes =='objects']\n",
    "print(num_vars)\n",
    "print(cat_vars)"
   ]
  },
  {
   "cell_type": "code",
   "execution_count": 69,
   "id": "8a92d5a3",
   "metadata": {},
   "outputs": [
    {
     "data": {
      "text/plain": [
       "Timestamp                         0\n",
       "Age                               1\n",
       "Primary streaming service         1\n",
       "Hours per day                     0\n",
       "While working                     3\n",
       "Instrumentalist                   4\n",
       "Composer                          1\n",
       "Fav genre                         0\n",
       "Exploratory                       0\n",
       "Foreign languages                 4\n",
       "BPM                             107\n",
       "Frequency [Classical]             0\n",
       "Frequency [Country]               0\n",
       "Frequency [EDM]                   0\n",
       "Frequency [Folk]                  0\n",
       "Frequency [Gospel]                0\n",
       "Frequency [Hip hop]               0\n",
       "Frequency [Jazz]                  0\n",
       "Frequency [K pop]                 0\n",
       "Frequency [Latin]                 0\n",
       "Frequency [Lofi]                  0\n",
       "Frequency [Metal]                 0\n",
       "Frequency [Pop]                   0\n",
       "Frequency [R_B]                   0\n",
       "Frequency [Rap]                   0\n",
       "Frequency [Rock]                  0\n",
       "Frequency [Video game music]      0\n",
       "Anxiety                           0\n",
       "Depression                        0\n",
       "Insomnia                          0\n",
       "OCD                               0\n",
       "Music effects                     8\n",
       "Permissions                       0\n",
       "dtype: int64"
      ]
     },
     "execution_count": 69,
     "metadata": {},
     "output_type": "execute_result"
    }
   ],
   "source": [
    "dat[num_vars].isnull().sum()"
   ]
  },
  {
   "cell_type": "code",
   "execution_count": 74,
   "id": "161db602",
   "metadata": {},
   "outputs": [
    {
     "data": {
      "text/plain": [
       "BPM                             107\n",
       "Music effects                     8\n",
       "Instrumentalist                   4\n",
       "Foreign languages                 4\n",
       "While working                     3\n",
       "Primary streaming service         1\n",
       "Composer                          1\n",
       "Age                               1\n",
       "Frequency [Video game music]      0\n",
       "Frequency [Pop]                   0\n",
       "Frequency [R_B]                   0\n",
       "Frequency [Rap]                   0\n",
       "Frequency [Rock]                  0\n",
       "Timestamp                         0\n",
       "Anxiety                           0\n",
       "Depression                        0\n",
       "Frequency [Lofi]                  0\n",
       "Insomnia                          0\n",
       "OCD                               0\n",
       "Frequency [Metal]                 0\n",
       "Frequency [Hip hop]               0\n",
       "Frequency [Latin]                 0\n",
       "Frequency [K pop]                 0\n",
       "Frequency [Jazz]                  0\n",
       "Frequency [Gospel]                0\n",
       "Frequency [Folk]                  0\n",
       "Frequency [EDM]                   0\n",
       "Frequency [Country]               0\n",
       "Frequency [Classical]             0\n",
       "Exploratory                       0\n",
       "Fav genre                         0\n",
       "Hours per day                     0\n",
       "Permissions                       0\n",
       "dtype: int64"
      ]
     },
     "execution_count": 74,
     "metadata": {},
     "output_type": "execute_result"
    }
   ],
   "source": [
    "dat[num_vars].isnull().sum().sort_values(ascending=False)"
   ]
  },
  {
   "cell_type": "code",
   "execution_count": 76,
   "id": "eac3857f",
   "metadata": {},
   "outputs": [
    {
     "data": {
      "text/plain": [
       "BPM                             0.145380\n",
       "Music effects                   0.010870\n",
       "Instrumentalist                 0.005435\n",
       "Foreign languages               0.005435\n",
       "While working                   0.004076\n",
       "Primary streaming service       0.001359\n",
       "Composer                        0.001359\n",
       "Age                             0.001359\n",
       "Frequency [Video game music]    0.000000\n",
       "Frequency [Pop]                 0.000000\n",
       "Frequency [R_B]                 0.000000\n",
       "Frequency [Rap]                 0.000000\n",
       "Frequency [Rock]                0.000000\n",
       "Timestamp                       0.000000\n",
       "Anxiety                         0.000000\n",
       "Depression                      0.000000\n",
       "Frequency [Lofi]                0.000000\n",
       "Insomnia                        0.000000\n",
       "OCD                             0.000000\n",
       "Frequency [Metal]               0.000000\n",
       "Frequency [Hip hop]             0.000000\n",
       "Frequency [Latin]               0.000000\n",
       "Frequency [K pop]               0.000000\n",
       "Frequency [Jazz]                0.000000\n",
       "Frequency [Gospel]              0.000000\n",
       "Frequency [Folk]                0.000000\n",
       "Frequency [EDM]                 0.000000\n",
       "Frequency [Country]             0.000000\n",
       "Frequency [Classical]           0.000000\n",
       "Exploratory                     0.000000\n",
       "Fav genre                       0.000000\n",
       "Hours per day                   0.000000\n",
       "Permissions                     0.000000\n",
       "dtype: float64"
      ]
     },
     "execution_count": 76,
     "metadata": {},
     "output_type": "execute_result"
    }
   ],
   "source": [
    "dat[num_vars].isnull().sum().sort_values(ascending=False)/len(dat)"
   ]
  },
  {
   "cell_type": "code",
   "execution_count": null,
   "id": "edb9de6d",
   "metadata": {},
   "outputs": [],
   "source": []
  },
  {
   "cell_type": "code",
   "execution_count": null,
   "id": "6be8a9ae",
   "metadata": {},
   "outputs": [],
   "source": []
  },
  {
   "cell_type": "code",
   "execution_count": 68,
   "id": "02f87d4a",
   "metadata": {},
   "outputs": [
    {
     "data": {
      "text/html": [
       "<div>\n",
       "<style scoped>\n",
       "    .dataframe tbody tr th:only-of-type {\n",
       "        vertical-align: middle;\n",
       "    }\n",
       "\n",
       "    .dataframe tbody tr th {\n",
       "        vertical-align: top;\n",
       "    }\n",
       "\n",
       "    .dataframe thead th {\n",
       "        text-align: right;\n",
       "    }\n",
       "</style>\n",
       "<table border=\"1\" class=\"dataframe\">\n",
       "  <thead>\n",
       "    <tr style=\"text-align: right;\">\n",
       "      <th></th>\n",
       "      <th>Timestamp</th>\n",
       "      <th>Age</th>\n",
       "      <th>Primary streaming service</th>\n",
       "      <th>Hours per day</th>\n",
       "      <th>While working</th>\n",
       "      <th>Instrumentalist</th>\n",
       "      <th>Composer</th>\n",
       "      <th>Fav genre</th>\n",
       "      <th>Exploratory</th>\n",
       "      <th>Foreign languages</th>\n",
       "      <th>...</th>\n",
       "      <th>Frequency [R_B]</th>\n",
       "      <th>Frequency [Rap]</th>\n",
       "      <th>Frequency [Rock]</th>\n",
       "      <th>Frequency [Video game music]</th>\n",
       "      <th>Anxiety</th>\n",
       "      <th>Depression</th>\n",
       "      <th>Insomnia</th>\n",
       "      <th>OCD</th>\n",
       "      <th>Music effects</th>\n",
       "      <th>Permissions</th>\n",
       "    </tr>\n",
       "  </thead>\n",
       "  <tbody>\n",
       "    <tr>\n",
       "      <th>0</th>\n",
       "      <td>8/27/2022 19:29</td>\n",
       "      <td>18.0</td>\n",
       "      <td>Spotify</td>\n",
       "      <td>3.0</td>\n",
       "      <td>Yes</td>\n",
       "      <td>Yes</td>\n",
       "      <td>Yes</td>\n",
       "      <td>Latin</td>\n",
       "      <td>Yes</td>\n",
       "      <td>Yes</td>\n",
       "      <td>...</td>\n",
       "      <td>Sometimes</td>\n",
       "      <td>Very frequently</td>\n",
       "      <td>Never</td>\n",
       "      <td>Sometimes</td>\n",
       "      <td>3.0</td>\n",
       "      <td>0.0</td>\n",
       "      <td>1.0</td>\n",
       "      <td>0.0</td>\n",
       "      <td>NaN</td>\n",
       "      <td>I understand.</td>\n",
       "    </tr>\n",
       "    <tr>\n",
       "      <th>1</th>\n",
       "      <td>8/27/2022 19:57</td>\n",
       "      <td>63.0</td>\n",
       "      <td>Pandora</td>\n",
       "      <td>1.5</td>\n",
       "      <td>Yes</td>\n",
       "      <td>No</td>\n",
       "      <td>No</td>\n",
       "      <td>Rock</td>\n",
       "      <td>Yes</td>\n",
       "      <td>No</td>\n",
       "      <td>...</td>\n",
       "      <td>Sometimes</td>\n",
       "      <td>Rarely</td>\n",
       "      <td>Very frequently</td>\n",
       "      <td>Rarely</td>\n",
       "      <td>7.0</td>\n",
       "      <td>2.0</td>\n",
       "      <td>2.0</td>\n",
       "      <td>1.0</td>\n",
       "      <td>NaN</td>\n",
       "      <td>I understand.</td>\n",
       "    </tr>\n",
       "    <tr>\n",
       "      <th>2</th>\n",
       "      <td>8/27/2022 21:28</td>\n",
       "      <td>18.0</td>\n",
       "      <td>Spotify</td>\n",
       "      <td>4.0</td>\n",
       "      <td>No</td>\n",
       "      <td>No</td>\n",
       "      <td>No</td>\n",
       "      <td>Video game music</td>\n",
       "      <td>No</td>\n",
       "      <td>Yes</td>\n",
       "      <td>...</td>\n",
       "      <td>Never</td>\n",
       "      <td>Rarely</td>\n",
       "      <td>Rarely</td>\n",
       "      <td>Very frequently</td>\n",
       "      <td>7.0</td>\n",
       "      <td>7.0</td>\n",
       "      <td>10.0</td>\n",
       "      <td>2.0</td>\n",
       "      <td>No effect</td>\n",
       "      <td>I understand.</td>\n",
       "    </tr>\n",
       "    <tr>\n",
       "      <th>3</th>\n",
       "      <td>8/27/2022 21:40</td>\n",
       "      <td>61.0</td>\n",
       "      <td>YouTube Music</td>\n",
       "      <td>2.5</td>\n",
       "      <td>Yes</td>\n",
       "      <td>No</td>\n",
       "      <td>Yes</td>\n",
       "      <td>Jazz</td>\n",
       "      <td>Yes</td>\n",
       "      <td>Yes</td>\n",
       "      <td>...</td>\n",
       "      <td>Sometimes</td>\n",
       "      <td>Never</td>\n",
       "      <td>Never</td>\n",
       "      <td>Never</td>\n",
       "      <td>9.0</td>\n",
       "      <td>7.0</td>\n",
       "      <td>3.0</td>\n",
       "      <td>3.0</td>\n",
       "      <td>Improve</td>\n",
       "      <td>I understand.</td>\n",
       "    </tr>\n",
       "    <tr>\n",
       "      <th>4</th>\n",
       "      <td>8/27/2022 21:54</td>\n",
       "      <td>18.0</td>\n",
       "      <td>Spotify</td>\n",
       "      <td>4.0</td>\n",
       "      <td>Yes</td>\n",
       "      <td>No</td>\n",
       "      <td>No</td>\n",
       "      <td>R&amp;B</td>\n",
       "      <td>Yes</td>\n",
       "      <td>No</td>\n",
       "      <td>...</td>\n",
       "      <td>Very frequently</td>\n",
       "      <td>Very frequently</td>\n",
       "      <td>Never</td>\n",
       "      <td>Rarely</td>\n",
       "      <td>7.0</td>\n",
       "      <td>2.0</td>\n",
       "      <td>5.0</td>\n",
       "      <td>9.0</td>\n",
       "      <td>Improve</td>\n",
       "      <td>I understand.</td>\n",
       "    </tr>\n",
       "    <tr>\n",
       "      <th>...</th>\n",
       "      <td>...</td>\n",
       "      <td>...</td>\n",
       "      <td>...</td>\n",
       "      <td>...</td>\n",
       "      <td>...</td>\n",
       "      <td>...</td>\n",
       "      <td>...</td>\n",
       "      <td>...</td>\n",
       "      <td>...</td>\n",
       "      <td>...</td>\n",
       "      <td>...</td>\n",
       "      <td>...</td>\n",
       "      <td>...</td>\n",
       "      <td>...</td>\n",
       "      <td>...</td>\n",
       "      <td>...</td>\n",
       "      <td>...</td>\n",
       "      <td>...</td>\n",
       "      <td>...</td>\n",
       "      <td>...</td>\n",
       "      <td>...</td>\n",
       "    </tr>\n",
       "    <tr>\n",
       "      <th>731</th>\n",
       "      <td>10/30/2022 14:37</td>\n",
       "      <td>17.0</td>\n",
       "      <td>Spotify</td>\n",
       "      <td>2.0</td>\n",
       "      <td>Yes</td>\n",
       "      <td>Yes</td>\n",
       "      <td>No</td>\n",
       "      <td>Rock</td>\n",
       "      <td>Yes</td>\n",
       "      <td>Yes</td>\n",
       "      <td>...</td>\n",
       "      <td>Never</td>\n",
       "      <td>Rarely</td>\n",
       "      <td>Very frequently</td>\n",
       "      <td>Never</td>\n",
       "      <td>7.0</td>\n",
       "      <td>6.0</td>\n",
       "      <td>0.0</td>\n",
       "      <td>9.0</td>\n",
       "      <td>Improve</td>\n",
       "      <td>I understand.</td>\n",
       "    </tr>\n",
       "    <tr>\n",
       "      <th>732</th>\n",
       "      <td>11/1/2022 22:26</td>\n",
       "      <td>18.0</td>\n",
       "      <td>Spotify</td>\n",
       "      <td>1.0</td>\n",
       "      <td>Yes</td>\n",
       "      <td>Yes</td>\n",
       "      <td>No</td>\n",
       "      <td>Pop</td>\n",
       "      <td>Yes</td>\n",
       "      <td>Yes</td>\n",
       "      <td>...</td>\n",
       "      <td>Never</td>\n",
       "      <td>Never</td>\n",
       "      <td>Sometimes</td>\n",
       "      <td>Sometimes</td>\n",
       "      <td>3.0</td>\n",
       "      <td>2.0</td>\n",
       "      <td>2.0</td>\n",
       "      <td>5.0</td>\n",
       "      <td>Improve</td>\n",
       "      <td>I understand.</td>\n",
       "    </tr>\n",
       "    <tr>\n",
       "      <th>733</th>\n",
       "      <td>11/3/2022 23:24</td>\n",
       "      <td>19.0</td>\n",
       "      <td>Other streaming service</td>\n",
       "      <td>6.0</td>\n",
       "      <td>Yes</td>\n",
       "      <td>No</td>\n",
       "      <td>Yes</td>\n",
       "      <td>Rap</td>\n",
       "      <td>Yes</td>\n",
       "      <td>No</td>\n",
       "      <td>...</td>\n",
       "      <td>Sometimes</td>\n",
       "      <td>Sometimes</td>\n",
       "      <td>Rarely</td>\n",
       "      <td>Rarely</td>\n",
       "      <td>2.0</td>\n",
       "      <td>2.0</td>\n",
       "      <td>2.0</td>\n",
       "      <td>2.0</td>\n",
       "      <td>Improve</td>\n",
       "      <td>I understand.</td>\n",
       "    </tr>\n",
       "    <tr>\n",
       "      <th>734</th>\n",
       "      <td>11/4/2022 17:31</td>\n",
       "      <td>19.0</td>\n",
       "      <td>Spotify</td>\n",
       "      <td>5.0</td>\n",
       "      <td>Yes</td>\n",
       "      <td>Yes</td>\n",
       "      <td>No</td>\n",
       "      <td>Classical</td>\n",
       "      <td>No</td>\n",
       "      <td>No</td>\n",
       "      <td>...</td>\n",
       "      <td>Never</td>\n",
       "      <td>Never</td>\n",
       "      <td>Never</td>\n",
       "      <td>Sometimes</td>\n",
       "      <td>2.0</td>\n",
       "      <td>3.0</td>\n",
       "      <td>2.0</td>\n",
       "      <td>1.0</td>\n",
       "      <td>Improve</td>\n",
       "      <td>I understand.</td>\n",
       "    </tr>\n",
       "    <tr>\n",
       "      <th>735</th>\n",
       "      <td>11/9/2022 1:55</td>\n",
       "      <td>29.0</td>\n",
       "      <td>YouTube Music</td>\n",
       "      <td>2.0</td>\n",
       "      <td>Yes</td>\n",
       "      <td>No</td>\n",
       "      <td>No</td>\n",
       "      <td>Hip hop</td>\n",
       "      <td>Yes</td>\n",
       "      <td>Yes</td>\n",
       "      <td>...</td>\n",
       "      <td>Very frequently</td>\n",
       "      <td>Very frequently</td>\n",
       "      <td>Very frequently</td>\n",
       "      <td>Rarely</td>\n",
       "      <td>2.0</td>\n",
       "      <td>2.0</td>\n",
       "      <td>2.0</td>\n",
       "      <td>5.0</td>\n",
       "      <td>Improve</td>\n",
       "      <td>I understand.</td>\n",
       "    </tr>\n",
       "  </tbody>\n",
       "</table>\n",
       "<p>736 rows × 33 columns</p>\n",
       "</div>"
      ],
      "text/plain": [
       "            Timestamp   Age Primary streaming service  Hours per day  \\\n",
       "0     8/27/2022 19:29  18.0                   Spotify            3.0   \n",
       "1     8/27/2022 19:57  63.0                   Pandora            1.5   \n",
       "2     8/27/2022 21:28  18.0                   Spotify            4.0   \n",
       "3     8/27/2022 21:40  61.0             YouTube Music            2.5   \n",
       "4     8/27/2022 21:54  18.0                   Spotify            4.0   \n",
       "..                ...   ...                       ...            ...   \n",
       "731  10/30/2022 14:37  17.0                   Spotify            2.0   \n",
       "732   11/1/2022 22:26  18.0                   Spotify            1.0   \n",
       "733   11/3/2022 23:24  19.0   Other streaming service            6.0   \n",
       "734   11/4/2022 17:31  19.0                   Spotify            5.0   \n",
       "735    11/9/2022 1:55  29.0             YouTube Music            2.0   \n",
       "\n",
       "    While working Instrumentalist Composer         Fav genre Exploratory  \\\n",
       "0             Yes             Yes      Yes             Latin         Yes   \n",
       "1             Yes              No       No              Rock         Yes   \n",
       "2              No              No       No  Video game music          No   \n",
       "3             Yes              No      Yes              Jazz         Yes   \n",
       "4             Yes              No       No               R&B         Yes   \n",
       "..            ...             ...      ...               ...         ...   \n",
       "731           Yes             Yes       No              Rock         Yes   \n",
       "732           Yes             Yes       No               Pop         Yes   \n",
       "733           Yes              No      Yes               Rap         Yes   \n",
       "734           Yes             Yes       No         Classical          No   \n",
       "735           Yes              No       No           Hip hop         Yes   \n",
       "\n",
       "    Foreign languages  ...  Frequency [R_B]  Frequency [Rap] Frequency [Rock]  \\\n",
       "0                 Yes  ...        Sometimes  Very frequently            Never   \n",
       "1                  No  ...        Sometimes           Rarely  Very frequently   \n",
       "2                 Yes  ...            Never           Rarely           Rarely   \n",
       "3                 Yes  ...        Sometimes            Never            Never   \n",
       "4                  No  ...  Very frequently  Very frequently            Never   \n",
       "..                ...  ...              ...              ...              ...   \n",
       "731               Yes  ...            Never           Rarely  Very frequently   \n",
       "732               Yes  ...            Never            Never        Sometimes   \n",
       "733                No  ...        Sometimes        Sometimes           Rarely   \n",
       "734                No  ...            Never            Never            Never   \n",
       "735               Yes  ...  Very frequently  Very frequently  Very frequently   \n",
       "\n",
       "    Frequency [Video game music] Anxiety Depression Insomnia  OCD  \\\n",
       "0                      Sometimes     3.0        0.0      1.0  0.0   \n",
       "1                         Rarely     7.0        2.0      2.0  1.0   \n",
       "2                Very frequently     7.0        7.0     10.0  2.0   \n",
       "3                          Never     9.0        7.0      3.0  3.0   \n",
       "4                         Rarely     7.0        2.0      5.0  9.0   \n",
       "..                           ...     ...        ...      ...  ...   \n",
       "731                        Never     7.0        6.0      0.0  9.0   \n",
       "732                    Sometimes     3.0        2.0      2.0  5.0   \n",
       "733                       Rarely     2.0        2.0      2.0  2.0   \n",
       "734                    Sometimes     2.0        3.0      2.0  1.0   \n",
       "735                       Rarely     2.0        2.0      2.0  5.0   \n",
       "\n",
       "    Music effects    Permissions  \n",
       "0             NaN  I understand.  \n",
       "1             NaN  I understand.  \n",
       "2       No effect  I understand.  \n",
       "3         Improve  I understand.  \n",
       "4         Improve  I understand.  \n",
       "..            ...            ...  \n",
       "731       Improve  I understand.  \n",
       "732       Improve  I understand.  \n",
       "733       Improve  I understand.  \n",
       "734       Improve  I understand.  \n",
       "735       Improve  I understand.  \n",
       "\n",
       "[736 rows x 33 columns]"
      ]
     },
     "execution_count": 68,
     "metadata": {},
     "output_type": "execute_result"
    }
   ],
   "source": [
    "dat[num_vars]"
   ]
  },
  {
   "cell_type": "code",
   "execution_count": 64,
   "id": "196026a8",
   "metadata": {},
   "outputs": [
    {
     "data": {
      "text/html": [
       "<div>\n",
       "<style scoped>\n",
       "    .dataframe tbody tr th:only-of-type {\n",
       "        vertical-align: middle;\n",
       "    }\n",
       "\n",
       "    .dataframe tbody tr th {\n",
       "        vertical-align: top;\n",
       "    }\n",
       "\n",
       "    .dataframe thead th {\n",
       "        text-align: right;\n",
       "    }\n",
       "</style>\n",
       "<table border=\"1\" class=\"dataframe\">\n",
       "  <thead>\n",
       "    <tr style=\"text-align: right;\">\n",
       "      <th></th>\n",
       "      <th>Timestamp</th>\n",
       "      <th>Age</th>\n",
       "      <th>Primary streaming service</th>\n",
       "      <th>Hours per day</th>\n",
       "      <th>While working</th>\n",
       "      <th>Instrumentalist</th>\n",
       "      <th>Composer</th>\n",
       "      <th>Fav genre</th>\n",
       "      <th>Exploratory</th>\n",
       "      <th>Foreign languages</th>\n",
       "      <th>...</th>\n",
       "      <th>Frequency [R_B]</th>\n",
       "      <th>Frequency [Rap]</th>\n",
       "      <th>Frequency [Rock]</th>\n",
       "      <th>Frequency [Video game music]</th>\n",
       "      <th>Anxiety</th>\n",
       "      <th>Depression</th>\n",
       "      <th>Insomnia</th>\n",
       "      <th>OCD</th>\n",
       "      <th>Music effects</th>\n",
       "      <th>Permissions</th>\n",
       "    </tr>\n",
       "  </thead>\n",
       "  <tbody>\n",
       "    <tr>\n",
       "      <th>2</th>\n",
       "      <td>8/27/2022 21:28</td>\n",
       "      <td>18.0</td>\n",
       "      <td>Spotify</td>\n",
       "      <td>4.0</td>\n",
       "      <td>No</td>\n",
       "      <td>No</td>\n",
       "      <td>No</td>\n",
       "      <td>Video game music</td>\n",
       "      <td>No</td>\n",
       "      <td>Yes</td>\n",
       "      <td>...</td>\n",
       "      <td>Never</td>\n",
       "      <td>Rarely</td>\n",
       "      <td>Rarely</td>\n",
       "      <td>Very frequently</td>\n",
       "      <td>7.0</td>\n",
       "      <td>7.0</td>\n",
       "      <td>10.0</td>\n",
       "      <td>2.0</td>\n",
       "      <td>No effect</td>\n",
       "      <td>I understand.</td>\n",
       "    </tr>\n",
       "    <tr>\n",
       "      <th>3</th>\n",
       "      <td>8/27/2022 21:40</td>\n",
       "      <td>61.0</td>\n",
       "      <td>YouTube Music</td>\n",
       "      <td>2.5</td>\n",
       "      <td>Yes</td>\n",
       "      <td>No</td>\n",
       "      <td>Yes</td>\n",
       "      <td>Jazz</td>\n",
       "      <td>Yes</td>\n",
       "      <td>Yes</td>\n",
       "      <td>...</td>\n",
       "      <td>Sometimes</td>\n",
       "      <td>Never</td>\n",
       "      <td>Never</td>\n",
       "      <td>Never</td>\n",
       "      <td>9.0</td>\n",
       "      <td>7.0</td>\n",
       "      <td>3.0</td>\n",
       "      <td>3.0</td>\n",
       "      <td>Improve</td>\n",
       "      <td>I understand.</td>\n",
       "    </tr>\n",
       "    <tr>\n",
       "      <th>4</th>\n",
       "      <td>8/27/2022 21:54</td>\n",
       "      <td>18.0</td>\n",
       "      <td>Spotify</td>\n",
       "      <td>4.0</td>\n",
       "      <td>Yes</td>\n",
       "      <td>No</td>\n",
       "      <td>No</td>\n",
       "      <td>R&amp;B</td>\n",
       "      <td>Yes</td>\n",
       "      <td>No</td>\n",
       "      <td>...</td>\n",
       "      <td>Very frequently</td>\n",
       "      <td>Very frequently</td>\n",
       "      <td>Never</td>\n",
       "      <td>Rarely</td>\n",
       "      <td>7.0</td>\n",
       "      <td>2.0</td>\n",
       "      <td>5.0</td>\n",
       "      <td>9.0</td>\n",
       "      <td>Improve</td>\n",
       "      <td>I understand.</td>\n",
       "    </tr>\n",
       "    <tr>\n",
       "      <th>5</th>\n",
       "      <td>8/27/2022 21:56</td>\n",
       "      <td>18.0</td>\n",
       "      <td>Spotify</td>\n",
       "      <td>5.0</td>\n",
       "      <td>Yes</td>\n",
       "      <td>Yes</td>\n",
       "      <td>Yes</td>\n",
       "      <td>Jazz</td>\n",
       "      <td>Yes</td>\n",
       "      <td>Yes</td>\n",
       "      <td>...</td>\n",
       "      <td>Very frequently</td>\n",
       "      <td>Very frequently</td>\n",
       "      <td>Very frequently</td>\n",
       "      <td>Never</td>\n",
       "      <td>8.0</td>\n",
       "      <td>8.0</td>\n",
       "      <td>7.0</td>\n",
       "      <td>7.0</td>\n",
       "      <td>Improve</td>\n",
       "      <td>I understand.</td>\n",
       "    </tr>\n",
       "    <tr>\n",
       "      <th>6</th>\n",
       "      <td>8/27/2022 22:00</td>\n",
       "      <td>18.0</td>\n",
       "      <td>YouTube Music</td>\n",
       "      <td>3.0</td>\n",
       "      <td>Yes</td>\n",
       "      <td>Yes</td>\n",
       "      <td>No</td>\n",
       "      <td>Video game music</td>\n",
       "      <td>Yes</td>\n",
       "      <td>Yes</td>\n",
       "      <td>...</td>\n",
       "      <td>Rarely</td>\n",
       "      <td>Never</td>\n",
       "      <td>Never</td>\n",
       "      <td>Sometimes</td>\n",
       "      <td>4.0</td>\n",
       "      <td>8.0</td>\n",
       "      <td>6.0</td>\n",
       "      <td>0.0</td>\n",
       "      <td>Improve</td>\n",
       "      <td>I understand.</td>\n",
       "    </tr>\n",
       "    <tr>\n",
       "      <th>...</th>\n",
       "      <td>...</td>\n",
       "      <td>...</td>\n",
       "      <td>...</td>\n",
       "      <td>...</td>\n",
       "      <td>...</td>\n",
       "      <td>...</td>\n",
       "      <td>...</td>\n",
       "      <td>...</td>\n",
       "      <td>...</td>\n",
       "      <td>...</td>\n",
       "      <td>...</td>\n",
       "      <td>...</td>\n",
       "      <td>...</td>\n",
       "      <td>...</td>\n",
       "      <td>...</td>\n",
       "      <td>...</td>\n",
       "      <td>...</td>\n",
       "      <td>...</td>\n",
       "      <td>...</td>\n",
       "      <td>...</td>\n",
       "      <td>...</td>\n",
       "    </tr>\n",
       "    <tr>\n",
       "      <th>731</th>\n",
       "      <td>10/30/2022 14:37</td>\n",
       "      <td>17.0</td>\n",
       "      <td>Spotify</td>\n",
       "      <td>2.0</td>\n",
       "      <td>Yes</td>\n",
       "      <td>Yes</td>\n",
       "      <td>No</td>\n",
       "      <td>Rock</td>\n",
       "      <td>Yes</td>\n",
       "      <td>Yes</td>\n",
       "      <td>...</td>\n",
       "      <td>Never</td>\n",
       "      <td>Rarely</td>\n",
       "      <td>Very frequently</td>\n",
       "      <td>Never</td>\n",
       "      <td>7.0</td>\n",
       "      <td>6.0</td>\n",
       "      <td>0.0</td>\n",
       "      <td>9.0</td>\n",
       "      <td>Improve</td>\n",
       "      <td>I understand.</td>\n",
       "    </tr>\n",
       "    <tr>\n",
       "      <th>732</th>\n",
       "      <td>11/1/2022 22:26</td>\n",
       "      <td>18.0</td>\n",
       "      <td>Spotify</td>\n",
       "      <td>1.0</td>\n",
       "      <td>Yes</td>\n",
       "      <td>Yes</td>\n",
       "      <td>No</td>\n",
       "      <td>Pop</td>\n",
       "      <td>Yes</td>\n",
       "      <td>Yes</td>\n",
       "      <td>...</td>\n",
       "      <td>Never</td>\n",
       "      <td>Never</td>\n",
       "      <td>Sometimes</td>\n",
       "      <td>Sometimes</td>\n",
       "      <td>3.0</td>\n",
       "      <td>2.0</td>\n",
       "      <td>2.0</td>\n",
       "      <td>5.0</td>\n",
       "      <td>Improve</td>\n",
       "      <td>I understand.</td>\n",
       "    </tr>\n",
       "    <tr>\n",
       "      <th>733</th>\n",
       "      <td>11/3/2022 23:24</td>\n",
       "      <td>19.0</td>\n",
       "      <td>Other streaming service</td>\n",
       "      <td>6.0</td>\n",
       "      <td>Yes</td>\n",
       "      <td>No</td>\n",
       "      <td>Yes</td>\n",
       "      <td>Rap</td>\n",
       "      <td>Yes</td>\n",
       "      <td>No</td>\n",
       "      <td>...</td>\n",
       "      <td>Sometimes</td>\n",
       "      <td>Sometimes</td>\n",
       "      <td>Rarely</td>\n",
       "      <td>Rarely</td>\n",
       "      <td>2.0</td>\n",
       "      <td>2.0</td>\n",
       "      <td>2.0</td>\n",
       "      <td>2.0</td>\n",
       "      <td>Improve</td>\n",
       "      <td>I understand.</td>\n",
       "    </tr>\n",
       "    <tr>\n",
       "      <th>734</th>\n",
       "      <td>11/4/2022 17:31</td>\n",
       "      <td>19.0</td>\n",
       "      <td>Spotify</td>\n",
       "      <td>5.0</td>\n",
       "      <td>Yes</td>\n",
       "      <td>Yes</td>\n",
       "      <td>No</td>\n",
       "      <td>Classical</td>\n",
       "      <td>No</td>\n",
       "      <td>No</td>\n",
       "      <td>...</td>\n",
       "      <td>Never</td>\n",
       "      <td>Never</td>\n",
       "      <td>Never</td>\n",
       "      <td>Sometimes</td>\n",
       "      <td>2.0</td>\n",
       "      <td>3.0</td>\n",
       "      <td>2.0</td>\n",
       "      <td>1.0</td>\n",
       "      <td>Improve</td>\n",
       "      <td>I understand.</td>\n",
       "    </tr>\n",
       "    <tr>\n",
       "      <th>735</th>\n",
       "      <td>11/9/2022 1:55</td>\n",
       "      <td>29.0</td>\n",
       "      <td>YouTube Music</td>\n",
       "      <td>2.0</td>\n",
       "      <td>Yes</td>\n",
       "      <td>No</td>\n",
       "      <td>No</td>\n",
       "      <td>Hip hop</td>\n",
       "      <td>Yes</td>\n",
       "      <td>Yes</td>\n",
       "      <td>...</td>\n",
       "      <td>Very frequently</td>\n",
       "      <td>Very frequently</td>\n",
       "      <td>Very frequently</td>\n",
       "      <td>Rarely</td>\n",
       "      <td>2.0</td>\n",
       "      <td>2.0</td>\n",
       "      <td>2.0</td>\n",
       "      <td>5.0</td>\n",
       "      <td>Improve</td>\n",
       "      <td>I understand.</td>\n",
       "    </tr>\n",
       "  </tbody>\n",
       "</table>\n",
       "<p>616 rows × 33 columns</p>\n",
       "</div>"
      ],
      "text/plain": [
       "            Timestamp   Age Primary streaming service  Hours per day  \\\n",
       "2     8/27/2022 21:28  18.0                   Spotify            4.0   \n",
       "3     8/27/2022 21:40  61.0             YouTube Music            2.5   \n",
       "4     8/27/2022 21:54  18.0                   Spotify            4.0   \n",
       "5     8/27/2022 21:56  18.0                   Spotify            5.0   \n",
       "6     8/27/2022 22:00  18.0             YouTube Music            3.0   \n",
       "..                ...   ...                       ...            ...   \n",
       "731  10/30/2022 14:37  17.0                   Spotify            2.0   \n",
       "732   11/1/2022 22:26  18.0                   Spotify            1.0   \n",
       "733   11/3/2022 23:24  19.0   Other streaming service            6.0   \n",
       "734   11/4/2022 17:31  19.0                   Spotify            5.0   \n",
       "735    11/9/2022 1:55  29.0             YouTube Music            2.0   \n",
       "\n",
       "    While working Instrumentalist Composer         Fav genre Exploratory  \\\n",
       "2              No              No       No  Video game music          No   \n",
       "3             Yes              No      Yes              Jazz         Yes   \n",
       "4             Yes              No       No               R&B         Yes   \n",
       "5             Yes             Yes      Yes              Jazz         Yes   \n",
       "6             Yes             Yes       No  Video game music         Yes   \n",
       "..            ...             ...      ...               ...         ...   \n",
       "731           Yes             Yes       No              Rock         Yes   \n",
       "732           Yes             Yes       No               Pop         Yes   \n",
       "733           Yes              No      Yes               Rap         Yes   \n",
       "734           Yes             Yes       No         Classical          No   \n",
       "735           Yes              No       No           Hip hop         Yes   \n",
       "\n",
       "    Foreign languages  ...  Frequency [R_B]  Frequency [Rap] Frequency [Rock]  \\\n",
       "2                 Yes  ...            Never           Rarely           Rarely   \n",
       "3                 Yes  ...        Sometimes            Never            Never   \n",
       "4                  No  ...  Very frequently  Very frequently            Never   \n",
       "5                 Yes  ...  Very frequently  Very frequently  Very frequently   \n",
       "6                 Yes  ...           Rarely            Never            Never   \n",
       "..                ...  ...              ...              ...              ...   \n",
       "731               Yes  ...            Never           Rarely  Very frequently   \n",
       "732               Yes  ...            Never            Never        Sometimes   \n",
       "733                No  ...        Sometimes        Sometimes           Rarely   \n",
       "734                No  ...            Never            Never            Never   \n",
       "735               Yes  ...  Very frequently  Very frequently  Very frequently   \n",
       "\n",
       "    Frequency [Video game music] Anxiety Depression Insomnia  OCD  \\\n",
       "2                Very frequently     7.0        7.0     10.0  2.0   \n",
       "3                          Never     9.0        7.0      3.0  3.0   \n",
       "4                         Rarely     7.0        2.0      5.0  9.0   \n",
       "5                          Never     8.0        8.0      7.0  7.0   \n",
       "6                      Sometimes     4.0        8.0      6.0  0.0   \n",
       "..                           ...     ...        ...      ...  ...   \n",
       "731                        Never     7.0        6.0      0.0  9.0   \n",
       "732                    Sometimes     3.0        2.0      2.0  5.0   \n",
       "733                       Rarely     2.0        2.0      2.0  2.0   \n",
       "734                    Sometimes     2.0        3.0      2.0  1.0   \n",
       "735                       Rarely     2.0        2.0      2.0  5.0   \n",
       "\n",
       "    Music effects    Permissions  \n",
       "2       No effect  I understand.  \n",
       "3         Improve  I understand.  \n",
       "4         Improve  I understand.  \n",
       "5         Improve  I understand.  \n",
       "6         Improve  I understand.  \n",
       "..            ...            ...  \n",
       "731       Improve  I understand.  \n",
       "732       Improve  I understand.  \n",
       "733       Improve  I understand.  \n",
       "734       Improve  I understand.  \n",
       "735       Improve  I understand.  \n",
       "\n",
       "[616 rows x 33 columns]"
      ]
     },
     "execution_count": 64,
     "metadata": {},
     "output_type": "execute_result"
    }
   ],
   "source": [
    "# making new data frame with dropped NA values \n",
    "new_dat = dat.dropna(axis = 0, how ='any')     \n",
    "new_dat"
   ]
  },
  {
   "cell_type": "code",
   "execution_count": 59,
   "id": "001cd9e6",
   "metadata": {},
   "outputs": [
    {
     "data": {
      "text/html": [
       "<div>\n",
       "<style scoped>\n",
       "    .dataframe tbody tr th:only-of-type {\n",
       "        vertical-align: middle;\n",
       "    }\n",
       "\n",
       "    .dataframe tbody tr th {\n",
       "        vertical-align: top;\n",
       "    }\n",
       "\n",
       "    .dataframe thead th {\n",
       "        text-align: right;\n",
       "    }\n",
       "</style>\n",
       "<table border=\"1\" class=\"dataframe\">\n",
       "  <thead>\n",
       "    <tr style=\"text-align: right;\">\n",
       "      <th></th>\n",
       "      <th>Timestamp</th>\n",
       "      <th>Age</th>\n",
       "      <th>Primary streaming service</th>\n",
       "      <th>Hours per day</th>\n",
       "      <th>While working</th>\n",
       "      <th>Instrumentalist</th>\n",
       "      <th>Composer</th>\n",
       "      <th>Fav genre</th>\n",
       "      <th>Exploratory</th>\n",
       "      <th>Foreign languages</th>\n",
       "      <th>...</th>\n",
       "      <th>Frequency [R_B]</th>\n",
       "      <th>Frequency [Rap]</th>\n",
       "      <th>Frequency [Rock]</th>\n",
       "      <th>Frequency [Video game music]</th>\n",
       "      <th>Anxiety</th>\n",
       "      <th>Depression</th>\n",
       "      <th>Insomnia</th>\n",
       "      <th>OCD</th>\n",
       "      <th>Music effects</th>\n",
       "      <th>Permissions</th>\n",
       "    </tr>\n",
       "  </thead>\n",
       "  <tbody>\n",
       "    <tr>\n",
       "      <th>0</th>\n",
       "      <td>8/27/2022 19:29</td>\n",
       "      <td>18.0</td>\n",
       "      <td>Spotify</td>\n",
       "      <td>3.0</td>\n",
       "      <td>Yes</td>\n",
       "      <td>Yes</td>\n",
       "      <td>Yes</td>\n",
       "      <td>Latin</td>\n",
       "      <td>Yes</td>\n",
       "      <td>Yes</td>\n",
       "      <td>...</td>\n",
       "      <td>Sometimes</td>\n",
       "      <td>Very frequently</td>\n",
       "      <td>Never</td>\n",
       "      <td>Sometimes</td>\n",
       "      <td>3.0</td>\n",
       "      <td>0.0</td>\n",
       "      <td>1.0</td>\n",
       "      <td>0.0</td>\n",
       "      <td>NaN</td>\n",
       "      <td>I understand.</td>\n",
       "    </tr>\n",
       "    <tr>\n",
       "      <th>1</th>\n",
       "      <td>8/27/2022 19:57</td>\n",
       "      <td>63.0</td>\n",
       "      <td>Pandora</td>\n",
       "      <td>1.5</td>\n",
       "      <td>Yes</td>\n",
       "      <td>No</td>\n",
       "      <td>No</td>\n",
       "      <td>Rock</td>\n",
       "      <td>Yes</td>\n",
       "      <td>No</td>\n",
       "      <td>...</td>\n",
       "      <td>Sometimes</td>\n",
       "      <td>Rarely</td>\n",
       "      <td>Very frequently</td>\n",
       "      <td>Rarely</td>\n",
       "      <td>7.0</td>\n",
       "      <td>2.0</td>\n",
       "      <td>2.0</td>\n",
       "      <td>1.0</td>\n",
       "      <td>NaN</td>\n",
       "      <td>I understand.</td>\n",
       "    </tr>\n",
       "    <tr>\n",
       "      <th>2</th>\n",
       "      <td>8/27/2022 21:28</td>\n",
       "      <td>18.0</td>\n",
       "      <td>Spotify</td>\n",
       "      <td>4.0</td>\n",
       "      <td>No</td>\n",
       "      <td>No</td>\n",
       "      <td>No</td>\n",
       "      <td>Video game music</td>\n",
       "      <td>No</td>\n",
       "      <td>Yes</td>\n",
       "      <td>...</td>\n",
       "      <td>Never</td>\n",
       "      <td>Rarely</td>\n",
       "      <td>Rarely</td>\n",
       "      <td>Very frequently</td>\n",
       "      <td>7.0</td>\n",
       "      <td>7.0</td>\n",
       "      <td>10.0</td>\n",
       "      <td>2.0</td>\n",
       "      <td>No effect</td>\n",
       "      <td>I understand.</td>\n",
       "    </tr>\n",
       "    <tr>\n",
       "      <th>3</th>\n",
       "      <td>8/27/2022 21:40</td>\n",
       "      <td>61.0</td>\n",
       "      <td>YouTube Music</td>\n",
       "      <td>2.5</td>\n",
       "      <td>Yes</td>\n",
       "      <td>No</td>\n",
       "      <td>Yes</td>\n",
       "      <td>Jazz</td>\n",
       "      <td>Yes</td>\n",
       "      <td>Yes</td>\n",
       "      <td>...</td>\n",
       "      <td>Sometimes</td>\n",
       "      <td>Never</td>\n",
       "      <td>Never</td>\n",
       "      <td>Never</td>\n",
       "      <td>9.0</td>\n",
       "      <td>7.0</td>\n",
       "      <td>3.0</td>\n",
       "      <td>3.0</td>\n",
       "      <td>Improve</td>\n",
       "      <td>I understand.</td>\n",
       "    </tr>\n",
       "    <tr>\n",
       "      <th>4</th>\n",
       "      <td>8/27/2022 21:54</td>\n",
       "      <td>18.0</td>\n",
       "      <td>Spotify</td>\n",
       "      <td>4.0</td>\n",
       "      <td>Yes</td>\n",
       "      <td>No</td>\n",
       "      <td>No</td>\n",
       "      <td>R&amp;B</td>\n",
       "      <td>Yes</td>\n",
       "      <td>No</td>\n",
       "      <td>...</td>\n",
       "      <td>Very frequently</td>\n",
       "      <td>Very frequently</td>\n",
       "      <td>Never</td>\n",
       "      <td>Rarely</td>\n",
       "      <td>7.0</td>\n",
       "      <td>2.0</td>\n",
       "      <td>5.0</td>\n",
       "      <td>9.0</td>\n",
       "      <td>Improve</td>\n",
       "      <td>I understand.</td>\n",
       "    </tr>\n",
       "  </tbody>\n",
       "</table>\n",
       "<p>5 rows × 33 columns</p>\n",
       "</div>"
      ],
      "text/plain": [
       "         Timestamp   Age Primary streaming service  Hours per day  \\\n",
       "0  8/27/2022 19:29  18.0                   Spotify            3.0   \n",
       "1  8/27/2022 19:57  63.0                   Pandora            1.5   \n",
       "2  8/27/2022 21:28  18.0                   Spotify            4.0   \n",
       "3  8/27/2022 21:40  61.0             YouTube Music            2.5   \n",
       "4  8/27/2022 21:54  18.0                   Spotify            4.0   \n",
       "\n",
       "  While working Instrumentalist Composer         Fav genre Exploratory  \\\n",
       "0           Yes             Yes      Yes             Latin         Yes   \n",
       "1           Yes              No       No              Rock         Yes   \n",
       "2            No              No       No  Video game music          No   \n",
       "3           Yes              No      Yes              Jazz         Yes   \n",
       "4           Yes              No       No               R&B         Yes   \n",
       "\n",
       "  Foreign languages  ...  Frequency [R_B]  Frequency [Rap] Frequency [Rock]  \\\n",
       "0               Yes  ...        Sometimes  Very frequently            Never   \n",
       "1                No  ...        Sometimes           Rarely  Very frequently   \n",
       "2               Yes  ...            Never           Rarely           Rarely   \n",
       "3               Yes  ...        Sometimes            Never            Never   \n",
       "4                No  ...  Very frequently  Very frequently            Never   \n",
       "\n",
       "  Frequency [Video game music] Anxiety Depression Insomnia  OCD Music effects  \\\n",
       "0                    Sometimes     3.0        0.0      1.0  0.0           NaN   \n",
       "1                       Rarely     7.0        2.0      2.0  1.0           NaN   \n",
       "2              Very frequently     7.0        7.0     10.0  2.0     No effect   \n",
       "3                        Never     9.0        7.0      3.0  3.0       Improve   \n",
       "4                       Rarely     7.0        2.0      5.0  9.0       Improve   \n",
       "\n",
       "     Permissions  \n",
       "0  I understand.  \n",
       "1  I understand.  \n",
       "2  I understand.  \n",
       "3  I understand.  \n",
       "4  I understand.  \n",
       "\n",
       "[5 rows x 33 columns]"
      ]
     },
     "execution_count": 59,
     "metadata": {},
     "output_type": "execute_result"
    }
   ],
   "source": [
    "dat.columns=dat.columns.str.replace('&','_')\n",
    "dat.head()\n"
   ]
  },
  {
   "cell_type": "code",
   "execution_count": 36,
   "id": "5e18b65a",
   "metadata": {
    "scrolled": true
   },
   "outputs": [
    {
     "data": {
      "text/html": [
       "<div>\n",
       "<style scoped>\n",
       "    .dataframe tbody tr th:only-of-type {\n",
       "        vertical-align: middle;\n",
       "    }\n",
       "\n",
       "    .dataframe tbody tr th {\n",
       "        vertical-align: top;\n",
       "    }\n",
       "\n",
       "    .dataframe thead th {\n",
       "        text-align: right;\n",
       "    }\n",
       "</style>\n",
       "<table border=\"1\" class=\"dataframe\">\n",
       "  <thead>\n",
       "    <tr style=\"text-align: right;\">\n",
       "      <th></th>\n",
       "      <th>Timestamp</th>\n",
       "      <th>Age</th>\n",
       "      <th>Primary streaming service</th>\n",
       "      <th>Hours per day</th>\n",
       "      <th>While working</th>\n",
       "      <th>Instrumentalist</th>\n",
       "      <th>Composer</th>\n",
       "      <th>Fav genre</th>\n",
       "      <th>Exploratory</th>\n",
       "      <th>Foreign languages</th>\n",
       "      <th>...</th>\n",
       "      <th>Frequency [R&amp;B]</th>\n",
       "      <th>Frequency [Rap]</th>\n",
       "      <th>Frequency [Rock]</th>\n",
       "      <th>Frequency [Video game music]</th>\n",
       "      <th>Anxiety</th>\n",
       "      <th>Depression</th>\n",
       "      <th>Insomnia</th>\n",
       "      <th>OCD</th>\n",
       "      <th>Music effects</th>\n",
       "      <th>Permissions</th>\n",
       "    </tr>\n",
       "  </thead>\n",
       "  <tbody>\n",
       "    <tr>\n",
       "      <th>0</th>\n",
       "      <td>False</td>\n",
       "      <td>False</td>\n",
       "      <td>False</td>\n",
       "      <td>False</td>\n",
       "      <td>False</td>\n",
       "      <td>False</td>\n",
       "      <td>False</td>\n",
       "      <td>False</td>\n",
       "      <td>False</td>\n",
       "      <td>False</td>\n",
       "      <td>...</td>\n",
       "      <td>False</td>\n",
       "      <td>False</td>\n",
       "      <td>False</td>\n",
       "      <td>False</td>\n",
       "      <td>False</td>\n",
       "      <td>False</td>\n",
       "      <td>False</td>\n",
       "      <td>False</td>\n",
       "      <td>True</td>\n",
       "      <td>False</td>\n",
       "    </tr>\n",
       "    <tr>\n",
       "      <th>1</th>\n",
       "      <td>False</td>\n",
       "      <td>False</td>\n",
       "      <td>False</td>\n",
       "      <td>False</td>\n",
       "      <td>False</td>\n",
       "      <td>False</td>\n",
       "      <td>False</td>\n",
       "      <td>False</td>\n",
       "      <td>False</td>\n",
       "      <td>False</td>\n",
       "      <td>...</td>\n",
       "      <td>False</td>\n",
       "      <td>False</td>\n",
       "      <td>False</td>\n",
       "      <td>False</td>\n",
       "      <td>False</td>\n",
       "      <td>False</td>\n",
       "      <td>False</td>\n",
       "      <td>False</td>\n",
       "      <td>True</td>\n",
       "      <td>False</td>\n",
       "    </tr>\n",
       "    <tr>\n",
       "      <th>2</th>\n",
       "      <td>False</td>\n",
       "      <td>False</td>\n",
       "      <td>False</td>\n",
       "      <td>False</td>\n",
       "      <td>False</td>\n",
       "      <td>False</td>\n",
       "      <td>False</td>\n",
       "      <td>False</td>\n",
       "      <td>False</td>\n",
       "      <td>False</td>\n",
       "      <td>...</td>\n",
       "      <td>False</td>\n",
       "      <td>False</td>\n",
       "      <td>False</td>\n",
       "      <td>False</td>\n",
       "      <td>False</td>\n",
       "      <td>False</td>\n",
       "      <td>False</td>\n",
       "      <td>False</td>\n",
       "      <td>False</td>\n",
       "      <td>False</td>\n",
       "    </tr>\n",
       "    <tr>\n",
       "      <th>3</th>\n",
       "      <td>False</td>\n",
       "      <td>False</td>\n",
       "      <td>False</td>\n",
       "      <td>False</td>\n",
       "      <td>False</td>\n",
       "      <td>False</td>\n",
       "      <td>False</td>\n",
       "      <td>False</td>\n",
       "      <td>False</td>\n",
       "      <td>False</td>\n",
       "      <td>...</td>\n",
       "      <td>False</td>\n",
       "      <td>False</td>\n",
       "      <td>False</td>\n",
       "      <td>False</td>\n",
       "      <td>False</td>\n",
       "      <td>False</td>\n",
       "      <td>False</td>\n",
       "      <td>False</td>\n",
       "      <td>False</td>\n",
       "      <td>False</td>\n",
       "    </tr>\n",
       "    <tr>\n",
       "      <th>4</th>\n",
       "      <td>False</td>\n",
       "      <td>False</td>\n",
       "      <td>False</td>\n",
       "      <td>False</td>\n",
       "      <td>False</td>\n",
       "      <td>False</td>\n",
       "      <td>False</td>\n",
       "      <td>False</td>\n",
       "      <td>False</td>\n",
       "      <td>False</td>\n",
       "      <td>...</td>\n",
       "      <td>False</td>\n",
       "      <td>False</td>\n",
       "      <td>False</td>\n",
       "      <td>False</td>\n",
       "      <td>False</td>\n",
       "      <td>False</td>\n",
       "      <td>False</td>\n",
       "      <td>False</td>\n",
       "      <td>False</td>\n",
       "      <td>False</td>\n",
       "    </tr>\n",
       "  </tbody>\n",
       "</table>\n",
       "<p>5 rows × 33 columns</p>\n",
       "</div>"
      ],
      "text/plain": [
       "   Timestamp    Age  Primary streaming service  Hours per day  While working  \\\n",
       "0      False  False                      False          False          False   \n",
       "1      False  False                      False          False          False   \n",
       "2      False  False                      False          False          False   \n",
       "3      False  False                      False          False          False   \n",
       "4      False  False                      False          False          False   \n",
       "\n",
       "   Instrumentalist  Composer  Fav genre  Exploratory  Foreign languages  ...  \\\n",
       "0            False     False      False        False              False  ...   \n",
       "1            False     False      False        False              False  ...   \n",
       "2            False     False      False        False              False  ...   \n",
       "3            False     False      False        False              False  ...   \n",
       "4            False     False      False        False              False  ...   \n",
       "\n",
       "   Frequency [R&B]  Frequency [Rap]  Frequency [Rock]  \\\n",
       "0            False            False             False   \n",
       "1            False            False             False   \n",
       "2            False            False             False   \n",
       "3            False            False             False   \n",
       "4            False            False             False   \n",
       "\n",
       "   Frequency [Video game music]  Anxiety  Depression  Insomnia    OCD  \\\n",
       "0                         False    False       False     False  False   \n",
       "1                         False    False       False     False  False   \n",
       "2                         False    False       False     False  False   \n",
       "3                         False    False       False     False  False   \n",
       "4                         False    False       False     False  False   \n",
       "\n",
       "   Music effects  Permissions  \n",
       "0           True        False  \n",
       "1           True        False  \n",
       "2          False        False  \n",
       "3          False        False  \n",
       "4          False        False  \n",
       "\n",
       "[5 rows x 33 columns]"
      ]
     },
     "execution_count": 36,
     "metadata": {},
     "output_type": "execute_result"
    }
   ],
   "source": [
    "#missing values\n",
    "null = pd.isnull(dat)\n",
    "null.head()\n"
   ]
  },
  {
   "cell_type": "code",
   "execution_count": 37,
   "id": "552bdd90",
   "metadata": {},
   "outputs": [
    {
     "data": {
      "text/plain": [
       "129"
      ]
     },
     "execution_count": 37,
     "metadata": {},
     "output_type": "execute_result"
    }
   ],
   "source": [
    "#counting the total number of missing values\n",
    "pd.isnull(dat).sum().sum()"
   ]
  },
  {
   "cell_type": "markdown",
   "id": "de99a86c",
   "metadata": {},
   "source": [
    "# Outliers\n",
    "An outlier is a data point in a data set that is distant from all other observations. outliers are the extreme values within the dataset.\n",
    "\n",
    "# An outlier could exist in a dataset due to\n",
    "1. Variability in the data\n",
    "2. An experimental measurement error\n",
    "\n",
    "# ways to identify an outlier\n",
    "1. using scatter plots\n",
    "2. using Z score\n",
    "3. using the IQR interquartile range\n"
   ]
  },
  {
   "cell_type": "code",
   "execution_count": null,
   "id": "975816fe",
   "metadata": {},
   "outputs": [],
   "source": []
  },
  {
   "cell_type": "code",
   "execution_count": 38,
   "id": "02e59ac9",
   "metadata": {},
   "outputs": [
    {
     "name": "stderr",
     "output_type": "stream",
     "text": [
      "C:\\ProgramData\\Anaconda3\\lib\\site-packages\\seaborn\\distributions.py:2619: FutureWarning:\n",
      "\n",
      "`distplot` is a deprecated function and will be removed in a future version. Please adapt your code to use either `displot` (a figure-level function with similar flexibility) or `histplot` (an axes-level function for histograms).\n",
      "\n"
     ]
    },
    {
     "data": {
      "text/plain": [
       "<AxesSubplot:xlabel='Hours per day', ylabel='Density'>"
      ]
     },
     "execution_count": 38,
     "metadata": {},
     "output_type": "execute_result"
    },
    {
     "data": {
      "image/png": "[encoded data removed]",
      "text/plain": [
       "<Figure size 640x480 with 1 Axes>"
      ]
     },
     "metadata": {},
     "output_type": "display_data"
    }
   ],
   "source": [
    "#outliers in hoyrs per day\n",
    "sns.distplot(dat['Hours per day'])"
   ]
  },
  {
   "cell_type": "code",
   "execution_count": 39,
   "id": "5bea6a4f",
   "metadata": {},
   "outputs": [
    {
     "name": "stderr",
     "output_type": "stream",
     "text": [
      "C:\\ProgramData\\Anaconda3\\lib\\site-packages\\seaborn\\_decorators.py:36: FutureWarning:\n",
      "\n",
      "Pass the following variable as a keyword arg: x. From version 0.12, the only valid positional argument will be `data`, and passing other arguments without an explicit keyword will result in an error or misinterpretation.\n",
      "\n"
     ]
    },
    {
     "data": {
      "text/plain": [
       "<AxesSubplot:xlabel='Age'>"
      ]
     },
     "execution_count": 39,
     "metadata": {},
     "output_type": "execute_result"
    },
    {
     "data": {
      "image/png": "[encoded data removed]",
      "text/plain": [
       "<Figure size 640x480 with 1 Axes>"
      ]
     },
     "metadata": {},
     "output_type": "display_data"
    }
   ],
   "source": [
    "#outliers in Age\n",
    "sns.boxplot(dat['Age'])"
   ]
  },
  {
   "cell_type": "markdown",
   "id": "a6b9cd40",
   "metadata": {},
   "source": [
    "# Boxplot"
   ]
  },
  {
   "cell_type": "code",
   "execution_count": 40,
   "id": "6345a9e2",
   "metadata": {
    "scrolled": true
   },
   "outputs": [
    {
     "name": "stderr",
     "output_type": "stream",
     "text": [
      "C:\\ProgramData\\Anaconda3\\lib\\site-packages\\seaborn\\_decorators.py:36: FutureWarning:\n",
      "\n",
      "Pass the following variable as a keyword arg: x. From version 0.12, the only valid positional argument will be `data`, and passing other arguments without an explicit keyword will result in an error or misinterpretation.\n",
      "\n"
     ]
    },
    {
     "data": {
      "text/plain": [
       "<AxesSubplot:xlabel='Hours per day'>"
      ]
     },
     "execution_count": 40,
     "metadata": {},
     "output_type": "execute_result"
    },
    {
     "data": {
      "image/png": "[encoded data removed]",
      "text/plain": [
       "<Figure size 640x480 with 1 Axes>"
      ]
     },
     "metadata": {},
     "output_type": "display_data"
    }
   ],
   "source": [
    "#Boxplot in hours per day\n",
    "sns.boxplot(dat['Hours per day'])"
   ]
  },
  {
   "cell_type": "code",
   "execution_count": 41,
   "id": "0ffbd62b",
   "metadata": {},
   "outputs": [
    {
     "data": {
      "image/png": "[encoded data removed]",
      "text/plain": [
       "<Figure size 1800x1000 with 1 Axes>"
      ]
     },
     "metadata": {},
     "output_type": "display_data"
    }
   ],
   "source": [
    "# Scatter plot\n",
    "fig, ax = plt.subplots(figsize = (18,10))\n",
    "ax.scatter(dat['Age'], dat['Hours per day'])\n",
    " \n",
    "# x-axis label\n",
    "ax.set_xlabel('Age')\n",
    " \n",
    "# y-axis label\n",
    "ax.set_ylabel('Hours Per Day')\n",
    "plt.show()"
   ]
  },
  {
   "cell_type": "code",
   "execution_count": 42,
   "id": "63bc6626",
   "metadata": {},
   "outputs": [
    {
     "name": "stdout",
     "output_type": "stream",
     "text": [
      "0      1.584570\n",
      "1      0.923809\n",
      "2      0.728094\n",
      "3      0.728094\n",
      "4      0.923809\n",
      "         ...   \n",
      "731    0.397714\n",
      "732    0.923809\n",
      "733    0.923809\n",
      "734    0.593428\n",
      "735    0.923809\n",
      "Name: Depression, Length: 736, dtype: float64\n"
     ]
    }
   ],
   "source": [
    "z = np.abs(stats.zscore(dat['Depression']))\n",
    "print(z)"
   ]
  },
  {
   "cell_type": "code",
   "execution_count": 43,
   "id": "63080878",
   "metadata": {},
   "outputs": [
    {
     "name": "stdout",
     "output_type": "stream",
     "text": [
      "0      0.189270\n",
      "1      0.684951\n",
      "2      0.141184\n",
      "3      0.354497\n",
      "4      0.141184\n",
      "         ...   \n",
      "731    0.519724\n",
      "732    0.850178\n",
      "733    0.802091\n",
      "734    0.471638\n",
      "735    0.519724\n",
      "Name: Hours per day, Length: 736, dtype: float64\n"
     ]
    }
   ],
   "source": [
    "z = np.abs(stats.zscore(dat['Hours per day']))\n",
    "print(z)"
   ]
  },
  {
   "cell_type": "code",
   "execution_count": 44,
   "id": "1b4c7500",
   "metadata": {},
   "outputs": [
    {
     "name": "stdout",
     "output_type": "stream",
     "text": [
      "0      1.016652\n",
      "1      0.416445\n",
      "2      0.416445\n",
      "3      1.132994\n",
      "4      0.416445\n",
      "         ...   \n",
      "731    0.416445\n",
      "732    1.016652\n",
      "733    1.374927\n",
      "734    1.374927\n",
      "735    1.374927\n",
      "Name: Anxiety, Length: 736, dtype: float64\n"
     ]
    }
   ],
   "source": [
    "z = np.abs(stats.zscore(dat['Anxiety']))\n",
    "print(z)"
   ]
  },
  {
   "cell_type": "markdown",
   "id": "76199c9c",
   "metadata": {},
   "source": [
    "# Visualization"
   ]
  },
  {
   "cell_type": "code",
   "execution_count": 45,
   "id": "6e262615",
   "metadata": {},
   "outputs": [
    {
     "data": {
      "image/png": "[encoded data removed]",
      "text/plain": [
       "<Figure size 640x480 with 1 Axes>"
      ]
     },
     "metadata": {},
     "output_type": "display_data"
    }
   ],
   "source": [
    "#Scatter plot of age against hours per day\n",
    "plt.scatter(dat['Age'], dat['Hours per day'])\n",
    "plt.title(\"Scatter Plot\")\n",
    "plt.xlabel('Age')\n",
    "plt.ylabel('Hours per day')\n",
    " \n",
    "plt.show()"
   ]
  },
  {
   "cell_type": "code",
   "execution_count": 46,
   "id": "4642e781",
   "metadata": {},
   "outputs": [
    {
     "data": {
      "image/png": "[encoded data removed]",
      "text/plain": [
       "<Figure size 640x480 with 2 Axes>"
      ]
     },
     "metadata": {},
     "output_type": "display_data"
    }
   ],
   "source": [
    "#scatter plot showing data of depression on age against hours per day\n",
    "plt.scatter(dat['Age'], dat['Hours per day'], c=dat['Depression'],\n",
    "            s=dat['OCD'])\n",
    " \n",
    "plt.title(\"Scatter Plot\")\n",
    " \n",
    "plt.xlabel('Age')\n",
    "plt.ylabel('Hours per day')\n",
    " \n",
    "plt.colorbar()\n",
    " \n",
    "plt.show()"
   ]
  },
  {
   "cell_type": "code",
   "execution_count": 47,
   "id": "478af43a",
   "metadata": {},
   "outputs": [
    {
     "data": {
      "image/png": "[encoded data removed]",
      "text/plain": [
       "<Figure size 640x480 with 1 Axes>"
      ]
     },
     "metadata": {},
     "output_type": "display_data"
    }
   ],
   "source": [
    "plt.plot(dat['Age'])\n",
    "plt.plot(dat['Hours per day'])\n",
    " \n",
    "plt.title(\"Scatter Plot\")\n",
    "\n",
    "plt.xlabel('Age')\n",
    "plt.ylabel('Hours per day')\n",
    " \n",
    "plt.show()"
   ]
  },
  {
   "cell_type": "code",
   "execution_count": 48,
   "id": "fe3d9d1f",
   "metadata": {},
   "outputs": [
    {
     "data": {
      "image/png": "[encoded data removed]",
      "text/plain": [
       "<Figure size 640x480 with 1 Axes>"
      ]
     },
     "metadata": {},
     "output_type": "display_data"
    }
   ],
   "source": [
    "#histogram\n",
    "plt.hist(dat['Age'])\n",
    " \n",
    "plt.title(\"Histogram\")\n",
    "\n",
    "plt.show()"
   ]
  },
  {
   "cell_type": "code",
   "execution_count": 49,
   "id": "65a02c33",
   "metadata": {},
   "outputs": [
    {
     "data": {
      "image/png": "[encoded data removed]",
      "text/plain": [
       "<Figure size 640x480 with 1 Axes>"
      ]
     },
     "metadata": {},
     "output_type": "display_data"
    }
   ],
   "source": [
    "#scatterplot showing primary streaming service on age against hour per day\n",
    "sns.scatterplot(x='Age', y='Hours per day', data=dat,\n",
    "               hue='Primary streaming service')\n",
    "plt.show()"
   ]
  },
  {
   "cell_type": "code",
   "execution_count": 50,
   "id": "7c5ba509",
   "metadata": {},
   "outputs": [
    {
     "data": {
      "image/png": "[encoded data removed]",
      "text/plain": [
       "<Figure size 640x480 with 1 Axes>"
      ]
     },
     "metadata": {},
     "output_type": "display_data"
    }
   ],
   "source": [
    "#lineplot of primary streaming service\n",
    "sns.lineplot(data=dat.drop(['Primary streaming service'], axis=1))\n",
    "plt.show()"
   ]
  },
  {
   "cell_type": "code",
   "execution_count": 51,
   "id": "d35123df",
   "metadata": {},
   "outputs": [
    {
     "data": {
      "image/png": "[encoded data removed]",
      "text/plain": [
       "<Figure size 640x480 with 1 Axes>"
      ]
     },
     "metadata": {},
     "output_type": "display_data"
    }
   ],
   "source": [
    "#barplot of primary streaming service on age against hours per day\n",
    "sns.barplot(x='Age',y='Hours per day', data=dat,\n",
    "            hue='Primary streaming service')\n",
    " \n",
    "plt.show()"
   ]
  },
  {
   "cell_type": "markdown",
   "id": "3e93f6f9",
   "metadata": {},
   "source": [
    "# Boxplot"
   ]
  },
  {
   "cell_type": "code",
   "execution_count": 52,
   "id": "ca2c023d",
   "metadata": {},
   "outputs": [
    {
     "data": {
      "text/plain": [
       "<AxesSubplot:title={'center':'Hours per day'}, xlabel='Age'>"
      ]
     },
     "execution_count": 52,
     "metadata": {},
     "output_type": "execute_result"
    },
    {
     "data": {
      "image/png": "[encoded data removed]",
      "text/plain": [
       "<Figure size 640x480 with 1 Axes>"
      ]
     },
     "metadata": {},
     "output_type": "display_data"
    }
   ],
   "source": [
    "#boxplot grouped by age\n",
    "dat.boxplot(by ='Age', column =['Hours per day'], grid = False)"
   ]
  },
  {
   "cell_type": "code",
   "execution_count": 53,
   "id": "9ca1accc",
   "metadata": {},
   "outputs": [
    {
     "data": {
      "text/plain": [
       "<AxesSubplot:title={'center':'Age'}, xlabel='Primary streaming service'>"
      ]
     },
     "execution_count": 53,
     "metadata": {},
     "output_type": "execute_result"
    },
    {
     "data": {
      "image/png": "[encoded data removed]",
      "text/plain": [
       "<Figure size 640x480 with 1 Axes>"
      ]
     },
     "metadata": {},
     "output_type": "display_data"
    }
   ],
   "source": [
    "#boxplot grouped by primary streaming service\n",
    "dat.boxplot(by ='Primary streaming service', column =['Age'], grid = False)"
   ]
  },
  {
   "cell_type": "code",
   "execution_count": 54,
   "id": "3aa01d0e",
   "metadata": {},
   "outputs": [
    {
     "data": {
      "text/plain": [
       "<AxesSubplot:xlabel='Age', ylabel='Primary streaming service'>"
      ]
     },
     "execution_count": 54,
     "metadata": {},
     "output_type": "execute_result"
    },
    {
     "data": {
      "image/png": "[encoded data removed]",
      "text/plain": [
       "<Figure size 640x480 with 1 Axes>"
      ]
     },
     "metadata": {},
     "output_type": "display_data"
    }
   ],
   "source": [
    "# subplot on Primary streaming service  against age \n",
    "sns.set_style(\"whitegrid\")\n",
    "  \n",
    "sns.boxplot(x = 'Age', y = 'Primary streaming service', data = dat)"
   ]
  },
  {
   "cell_type": "code",
   "execution_count": 55,
   "id": "1a15727c",
   "metadata": {},
   "outputs": [
    {
     "data": {
      "text/plain": [
       "<AxesSubplot:xlabel='Hours per day', ylabel='Age'>"
      ]
     },
     "execution_count": 55,
     "metadata": {},
     "output_type": "execute_result"
    },
    {
     "data": {
      "image/png": "[encoded data removed]",
      "text/plain": [
       "<Figure size 640x480 with 1 Axes>"
      ]
     },
     "metadata": {},
     "output_type": "display_data"
    }
   ],
   "source": [
    "#set_style \n",
    "sns.set_style(\"whitegrid\")\n",
    "  \n",
    "sns.boxplot(x = 'Hours per day', y = 'Age', data = dat)"
   ]
  },
  {
   "cell_type": "markdown",
   "id": "6130876b",
   "metadata": {},
   "source": [
    "# Bubble chart"
   ]
  },
  {
   "cell_type": "code",
   "execution_count": 56,
   "id": "520aa4b7",
   "metadata": {},
   "outputs": [
    {
     "data": {
      "application/vnd.plotly.v1+json": {
       "config": {
        "plotlyServerURL": "https://plot.ly"
       },
       "data": [
        {
         "hovertemplate": "Age=%{x}<br>Fav genre=%{y}<extra></extra>",
         "legendgroup": "",
         "marker": {
          "color": "#636efa",
          "symbol": "circle"
         },
         "mode": "markers",
         "name": "",
         "orientation": "h",
         "showlegend": false,
         "type": "scatter",
         "x": [
          18,
          63,
          18,
          61,
          18,
          18,
          18,
          21,
          19,
          18,
          18,
          19,
          null,
          19,
          18,
          17,
          16,
          16,
          17,
          15,
          15,
          17,
          19,
          18,
          16,
          18,
          14,
          18,
          17,
          17,
          20,
          19,
          19,
          17,
          16,
          18,
          21,
          17,
          26,
          20,
          23,
          18,
          37,
          17,
          18,
          17,
          36,
          24,
          18,
          19,
          17,
          16,
          23,
          23,
          22,
          16,
          18,
          42,
          23,
          23,
          19,
          22,
          15,
          25,
          32,
          36,
          24,
          29,
          41,
          36,
          19,
          31,
          16,
          26,
          22,
          16,
          17,
          19,
          18,
          18,
          19,
          19,
          22,
          16,
          19,
          37,
          14,
          33,
          26,
          32,
          30,
          43,
          24,
          36,
          19,
          22,
          20,
          31,
          19,
          15,
          18,
          25,
          17,
          28,
          20,
          21,
          41,
          20,
          34,
          21,
          23,
          16,
          19,
          22,
          19,
          23,
          23,
          22,
          17,
          28,
          23,
          19,
          17,
          21,
          29,
          22,
          18,
          13,
          24,
          35,
          29,
          28,
          32,
          32,
          21,
          18,
          19,
          18,
          16,
          25,
          17,
          16,
          27,
          53,
          25,
          34,
          22,
          17,
          26,
          19,
          21,
          32,
          21,
          25,
          26,
          21,
          17,
          28,
          41,
          18,
          22,
          18,
          49,
          21,
          27,
          19,
          27,
          27,
          19,
          42,
          60,
          19,
          20,
          28,
          16,
          18,
          34,
          18,
          21,
          38,
          17,
          35,
          21,
          25,
          18,
          16,
          19,
          31,
          26,
          16,
          26,
          17,
          22,
          20,
          30,
          26,
          19,
          21,
          33,
          28,
          25,
          22,
          19,
          44,
          22,
          26,
          23,
          17,
          42,
          30,
          35,
          20,
          18,
          21,
          19,
          37,
          31,
          29,
          20,
          36,
          18,
          18,
          25,
          18,
          31,
          17,
          21,
          30,
          40,
          64,
          14,
          26,
          35,
          33,
          30,
          31,
          27,
          53,
          23,
          25,
          16,
          18,
          29,
          31,
          31,
          38,
          17,
          25,
          20,
          15,
          16,
          20,
          23,
          22,
          15,
          17,
          22,
          21,
          19,
          32,
          34,
          18,
          21,
          20,
          19,
          25,
          31,
          21,
          31,
          20,
          19,
          19,
          23,
          24,
          20,
          15,
          17,
          20,
          14,
          24,
          14,
          23,
          28,
          22,
          25,
          27,
          18,
          17,
          23,
          40,
          27,
          18,
          16,
          18,
          23,
          15,
          20,
          16,
          16,
          20,
          33,
          22,
          21,
          21,
          29,
          56,
          17,
          22,
          26,
          30,
          49,
          22,
          32,
          32,
          22,
          17,
          21,
          17,
          25,
          15,
          13,
          38,
          23,
          17,
          59,
          22,
          17,
          27,
          23,
          15,
          22,
          23,
          19,
          32,
          40,
          21,
          21,
          23,
          21,
          35,
          18,
          21,
          22,
          23,
          13,
          19,
          33,
          18,
          17,
          16,
          18,
          19,
          15,
          17,
          25,
          24,
          23,
          16,
          25,
          16,
          20,
          17,
          29,
          20,
          16,
          21,
          16,
          43,
          32,
          10,
          27,
          24,
          18,
          17,
          19,
          16,
          64,
          33,
          32,
          15,
          27,
          20,
          23,
          19,
          12,
          16,
          17,
          14,
          32,
          20,
          54,
          18,
          14,
          13,
          19,
          14,
          14,
          18,
          15,
          24,
          17,
          44,
          23,
          21,
          57,
          23,
          18,
          26,
          13,
          15,
          57,
          12,
          26,
          17,
          17,
          69,
          17,
          32,
          22,
          38,
          18,
          14,
          14,
          19,
          20,
          18,
          30,
          31,
          72,
          73,
          16,
          19,
          16,
          12,
          39,
          15,
          14,
          21,
          38,
          23,
          16,
          21,
          13,
          16,
          18,
          21,
          17,
          24,
          14,
          25,
          22,
          20,
          23,
          61,
          24,
          34,
          49,
          33,
          22,
          38,
          23,
          34,
          40,
          27,
          54,
          16,
          23,
          35,
          22,
          41,
          63,
          28,
          22,
          58,
          58,
          67,
          70,
          60,
          15,
          18,
          58,
          28,
          22,
          49,
          20,
          55,
          48,
          14,
          18,
          25,
          71,
          60,
          18,
          19,
          74,
          36,
          14,
          20,
          15,
          19,
          29,
          24,
          18,
          21,
          19,
          25,
          28,
          27,
          60,
          25,
          60,
          43,
          51,
          63,
          64,
          22,
          24,
          19,
          56,
          20,
          19,
          20,
          60,
          65,
          28,
          18,
          42,
          80,
          22,
          56,
          20,
          15,
          67,
          57,
          22,
          17,
          19,
          50,
          24,
          67,
          18,
          20,
          15,
          17,
          32,
          18,
          18,
          18,
          19,
          18,
          17,
          34,
          18,
          18,
          22,
          18,
          19,
          25,
          17,
          25,
          18,
          21,
          24,
          16,
          18,
          18,
          16,
          68,
          16,
          21,
          53,
          29,
          18,
          29,
          18,
          22,
          19,
          13,
          26,
          14,
          27,
          26,
          59,
          30,
          27,
          18,
          23,
          18,
          40,
          24,
          23,
          56,
          29,
          16,
          18,
          21,
          32,
          22,
          17,
          18,
          18,
          24,
          21,
          46,
          18,
          16,
          21,
          19,
          20,
          21,
          56,
          21,
          20,
          21,
          25,
          33,
          20,
          17,
          24,
          26,
          17,
          16,
          27,
          28,
          48,
          19,
          21,
          21,
          15,
          20,
          21,
          22,
          22,
          31,
          20,
          49,
          42,
          26,
          17,
          30,
          23,
          30,
          31,
          42,
          16,
          34,
          21,
          27,
          18,
          26,
          37,
          26,
          19,
          22,
          43,
          24,
          21,
          28,
          23,
          20,
          17,
          19,
          32,
          18,
          20,
          27,
          15,
          26,
          24,
          20,
          21,
          16,
          21,
          27,
          17,
          21,
          17,
          21,
          17,
          36,
          18,
          18,
          18,
          18,
          18,
          18,
          18,
          18,
          18,
          20,
          19,
          17,
          23,
          18,
          19,
          89,
          20,
          16,
          17,
          16,
          20,
          30,
          37,
          44,
          21,
          19,
          23,
          26,
          18,
          35,
          16,
          19,
          23,
          17,
          29,
          21,
          17,
          23,
          17,
          22,
          17,
          19,
          19,
          16,
          19,
          13,
          18,
          26,
          14,
          21,
          21,
          17,
          18,
          19,
          19,
          29
         ],
         "xaxis": "x",
         "y": [
          "Latin",
          "Rock",
          "Video game music",
          "Jazz",
          "R&B",
          "Jazz",
          "Video game music",
          "K pop",
          "Rock",
          "R&B",
          "Country",
          "EDM",
          "Hip hop",
          "Country",
          "Jazz",
          "Pop",
          "Hip hop",
          "Hip hop",
          "Rap",
          "Hip hop",
          "Hip hop",
          "Rap",
          "R&B",
          "Pop",
          "Rock",
          "Pop",
          "Rock",
          "Pop",
          "Pop",
          "Pop",
          "Rock",
          "Classical",
          "Metal",
          "Rock",
          "Classical",
          "Pop",
          "Pop",
          "Pop",
          "Rock",
          "EDM",
          "Video game music",
          "Rock",
          "Video game music",
          "Classical",
          "Metal",
          "Folk",
          "Classical",
          "Rock",
          "Metal",
          "Pop",
          "EDM",
          "K pop",
          "Rap",
          "Pop",
          "Rock",
          "Classical",
          "Rock",
          "Rock",
          "Folk",
          "Video game music",
          "K pop",
          "Rock",
          "Rock",
          "Metal",
          "Rock",
          "Metal",
          "Rock",
          "Hip hop",
          "Metal",
          "Rock",
          "Rock",
          "Rock",
          "Rock",
          "Hip hop",
          "Hip hop",
          "Jazz",
          "Metal",
          "R&B",
          "EDM",
          "Hip hop",
          "Rock",
          "Jazz",
          "K pop",
          "Rock",
          "R&B",
          "Rock",
          "Jazz",
          "Metal",
          "R&B",
          "Hip hop",
          "Metal",
          "Video game music",
          "Classical",
          "Rock",
          "Video game music",
          "Metal",
          "EDM",
          "Rock",
          "Metal",
          "Rock",
          "Metal",
          "Classical",
          "Metal",
          "Rock",
          "Rock",
          "Metal",
          "Pop",
          "Pop",
          "Metal",
          "Metal",
          "Metal",
          "Pop",
          "Pop",
          "Rock",
          "K pop",
          "Hip hop",
          "Metal",
          "EDM",
          "Rock",
          "Folk",
          "Rock",
          "Rock",
          "Hip hop",
          "Rock",
          "Jazz",
          "EDM",
          "Pop",
          "Rock",
          "Metal",
          "Rock",
          "Video game music",
          "Rock",
          "Pop",
          "EDM",
          "Rock",
          "Video game music",
          "Classical",
          "Pop",
          "Pop",
          "Pop",
          "Lofi",
          "Rap",
          "Metal",
          "Pop",
          "EDM",
          "Metal",
          "Jazz",
          "Jazz",
          "Folk",
          "EDM",
          "Pop",
          "Rock",
          "Rock",
          "Pop",
          "Rock",
          "Metal",
          "Pop",
          "Rock",
          "Pop",
          "Metal",
          "R&B",
          "K pop",
          "EDM",
          "Metal",
          "Metal",
          "Metal",
          "Metal",
          "Rock",
          "K pop",
          "Rock",
          "Gospel",
          "Metal",
          "Pop",
          "Metal",
          "Video game music",
          "R&B",
          "Rock",
          "Pop",
          "Folk",
          "Rock",
          "Rock",
          "Pop",
          "Rock",
          "R&B",
          "K pop",
          "Pop",
          "Pop",
          "Classical",
          "Rock",
          "Rock",
          "Rock",
          "R&B",
          "Video game music",
          "R&B",
          "Rock",
          "Pop",
          "Rock",
          "Country",
          "Rock",
          "Rock",
          "Rock",
          "Pop",
          "Rock",
          "Folk",
          "Rock",
          "Metal",
          "Classical",
          "R&B",
          "Metal",
          "Rock",
          "Pop",
          "Rock",
          "Rap",
          "Pop",
          "Rock",
          "Rock",
          "Metal",
          "Folk",
          "Rock",
          "Video game music",
          "Rock",
          "K pop",
          "Pop",
          "K pop",
          "Pop",
          "Pop",
          "Folk",
          "Country",
          "Metal",
          "Rock",
          "Rock",
          "Rock",
          "Country",
          "Rock",
          "Folk",
          "Metal",
          "Folk",
          "Pop",
          "Metal",
          "EDM",
          "K pop",
          "Rock",
          "Classical",
          "EDM",
          "Rock",
          "Pop",
          "Classical",
          "EDM",
          "Metal",
          "EDM",
          "Lofi",
          "EDM",
          "Rap",
          "Hip hop",
          "Rock",
          "Video game music",
          "Video game music",
          "Metal",
          "Pop",
          "Classical",
          "Rock",
          "Metal",
          "Country",
          "Country",
          "Country",
          "Pop",
          "Classical",
          "Pop",
          "Folk",
          "Pop",
          "Rock",
          "EDM",
          "Metal",
          "Video game music",
          "Rock",
          "Video game music",
          "Hip hop",
          "Video game music",
          "Video game music",
          "Metal",
          "Video game music",
          "Rock",
          "Rock",
          "Jazz",
          "Rock",
          "Pop",
          "Rock",
          "Pop",
          "Rock",
          "Rock",
          "Rock",
          "Pop",
          "Metal",
          "Rock",
          "Jazz",
          "Metal",
          "Metal",
          "Rock",
          "Rock",
          "Country",
          "Metal",
          "Rock",
          "Hip hop",
          "Metal",
          "Rock",
          "Pop",
          "Pop",
          "Pop",
          "Pop",
          "EDM",
          "Folk",
          "EDM",
          "Rock",
          "Rock",
          "Country",
          "Rock",
          "Rock",
          "Rock",
          "Metal",
          "Rock",
          "Rap",
          "Rock",
          "Rock",
          "Pop",
          "Pop",
          "Pop",
          "Pop",
          "Pop",
          "Video game music",
          "Rock",
          "EDM",
          "Lofi",
          "Country",
          "Rock",
          "Rock",
          "Country",
          "Rock",
          "Video game music",
          "EDM",
          "Folk",
          "Hip hop",
          "Pop",
          "Video game music",
          "Rock",
          "Folk",
          "K pop",
          "Rock",
          "Jazz",
          "Classical",
          "EDM",
          "Rock",
          "K pop",
          "Rap",
          "Pop",
          "Lofi",
          "Video game music",
          "Jazz",
          "EDM",
          "Metal",
          "EDM",
          "Metal",
          "Metal",
          "Metal",
          "Hip hop",
          "Folk",
          "Rock",
          "Rock",
          "Pop",
          "Classical",
          "Pop",
          "Metal",
          "Classical",
          "Hip hop",
          "Rock",
          "Metal",
          "Rock",
          "Rock",
          "Lofi",
          "Rock",
          "Pop",
          "Metal",
          "Rock",
          "Pop",
          "Classical",
          "Classical",
          "Classical",
          "Video game music",
          "Pop",
          "Metal",
          "Pop",
          "Classical",
          "K pop",
          "Classical",
          "Classical",
          "Country",
          "Classical",
          "Classical",
          "Rap",
          "Folk",
          "Classical",
          "Pop",
          "Rock",
          "Rock",
          "Rap",
          "R&B",
          "Rock",
          "Pop",
          "Hip hop",
          "Classical",
          "Classical",
          "Rock",
          "Classical",
          "EDM",
          "Country",
          "Classical",
          "Classical",
          "R&B",
          "Jazz",
          "Classical",
          "Metal",
          "EDM",
          "Classical",
          "Video game music",
          "Metal",
          "Classical",
          "Rock",
          "K pop",
          "Classical",
          "Rock",
          "R&B",
          "Pop",
          "Rap",
          "Classical",
          "Classical",
          "Hip hop",
          "K pop",
          "R&B",
          "Country",
          "Video game music",
          "Hip hop",
          "EDM",
          "Folk",
          "Rap",
          "Rock",
          "Rock",
          "Metal",
          "Classical",
          "Rock",
          "Pop",
          "Rock",
          "Lofi",
          "Rock",
          "Pop",
          "Rock",
          "Video game music",
          "Rock",
          "Pop",
          "Rock",
          "Metal",
          "Metal",
          "Hip hop",
          "Video game music",
          "Metal",
          "Hip hop",
          "Rock",
          "Rock",
          "Video game music",
          "Country",
          "Folk",
          "Metal",
          "Rock",
          "Rock",
          "Country",
          "Rock",
          "Classical",
          "Rock",
          "Country",
          "Rock",
          "Pop",
          "EDM",
          "Hip hop",
          "Lofi",
          "Lofi",
          "Classical",
          "Rock",
          "Rock",
          "Metal",
          "K pop",
          "Pop",
          "Pop",
          "Gospel",
          "Gospel",
          "Video game music",
          "Hip hop",
          "Pop",
          "Hip hop",
          "Lofi",
          "Hip hop",
          "K pop",
          "Rock",
          "EDM",
          "Metal",
          "Pop",
          "Rock",
          "K pop",
          "Video game music",
          "Rock",
          "Rap",
          "Rock",
          "Metal",
          "Rock",
          "Country",
          "Rock",
          "Rock",
          "Classical",
          "Pop",
          "Folk",
          "Pop",
          "Pop",
          "EDM",
          "Video game music",
          "Jazz",
          "Rock",
          "R&B",
          "Metal",
          "EDM",
          "Rock",
          "Classical",
          "Pop",
          "Jazz",
          "Pop",
          "Video game music",
          "Rock",
          "Gospel",
          "Pop",
          "Pop",
          "Rock",
          "Rock",
          "Rock",
          "Rock",
          "Metal",
          "Country",
          "Pop",
          "Pop",
          "Folk",
          "Rap",
          "Rock",
          "K pop",
          "Pop",
          "Rock",
          "Rap",
          "Classical",
          "Pop",
          "R&B",
          "Video game music",
          "Pop",
          "Rock",
          "Pop",
          "R&B",
          "Rock",
          "R&B",
          "K pop",
          "Folk",
          "K pop",
          "Metal",
          "R&B",
          "Pop",
          "Gospel",
          "Video game music",
          "R&B",
          "R&B",
          "Classical",
          "Video game music",
          "Pop",
          "R&B",
          "EDM",
          "Pop",
          "Video game music",
          "Pop",
          "Rock",
          "Pop",
          "Rock",
          "Rock",
          "Rock",
          "Pop",
          "Rap",
          "Metal",
          "Rock",
          "Rock",
          "Rock",
          "Classical",
          "R&B",
          "R&B",
          "Pop",
          "Gospel",
          "Lofi",
          "Rock",
          "Metal",
          "Latin",
          "EDM",
          "R&B",
          "Jazz",
          "Pop",
          "Rock",
          "Hip hop",
          "K pop",
          "Video game music",
          "Classical",
          "Rap",
          "Folk",
          "Rock",
          "Rock",
          "Pop",
          "Rock",
          "Rock",
          "Metal",
          "Rock",
          "Rock",
          "Jazz",
          "Jazz",
          "Rock",
          "Metal",
          "Metal",
          "Hip hop",
          "Rock",
          "Rap",
          "Rock",
          "Classical",
          "Metal",
          "Rock",
          "Video game music",
          "Folk",
          "Rock",
          "Rock",
          "Metal",
          "Classical",
          "Metal",
          "EDM",
          "K pop",
          "Metal",
          "Folk",
          "EDM",
          "Metal",
          "Classical",
          "EDM",
          "Metal",
          "Pop",
          "Pop",
          "Folk",
          "Metal",
          "Rock",
          "Folk",
          "Pop",
          "Rock",
          "Rock",
          "Rock",
          "Pop",
          "Rock",
          "R&B",
          "Rock",
          "Metal",
          "R&B",
          "Metal",
          "Folk",
          "Rock",
          "Rock",
          "Rock",
          "Rock",
          "Pop",
          "K pop",
          "Pop",
          "Video game music",
          "Metal",
          "Jazz",
          "Rock",
          "Classical",
          "Folk",
          "Rap",
          "Rock",
          "Country",
          "R&B",
          "K pop",
          "Latin",
          "R&B",
          "Hip hop",
          "Rap",
          "Classical",
          "Classical",
          "R&B",
          "R&B",
          "Hip hop",
          "Hip hop",
          "Video game music",
          "Pop",
          "Pop",
          "Rap",
          "R&B",
          "Rock",
          "Country",
          "Metal",
          "Pop",
          "Rock",
          "Folk",
          "Folk",
          "Metal",
          "Pop",
          "Rock",
          "Country",
          "Video game music",
          "Hip hop",
          "Rock",
          "Metal",
          "Rock",
          "Pop",
          "Country",
          "Pop",
          "Metal",
          "Rock",
          "Metal",
          "Video game music",
          "Hip hop",
          "Pop",
          "Pop",
          "Pop",
          "Pop",
          "Video game music",
          "EDM",
          "Metal",
          "Country",
          "Pop",
          "R&B",
          "Rock",
          "Pop",
          "Rap",
          "Classical",
          "Hip hop"
         ],
         "yaxis": "y"
        }
       ],
       "layout": {
        "legend": {
         "tracegroupgap": 0
        },
        "margin": {
         "t": 60
        },
        "template": {
         "data": {
          "bar": [
           {
            "error_x": {
             "color": "#2a3f5f"
            },
            "error_y": {
             "color": "#2a3f5f"
            },
            "marker": {
             "line": {
              "color": "#E5ECF6",
              "width": 0.5
             },
             "pattern": {
              "fillmode": "overlay",
              "size": 10,
              "solidity": 0.2
             }
            },
            "type": "bar"
           }
          ],
          "barpolar": [
           {
            "marker": {
             "line": {
              "color": "#E5ECF6",
              "width": 0.5
             },
             "pattern": {
              "fillmode": "overlay",
              "size": 10,
              "solidity": 0.2
             }
            },
            "type": "barpolar"
           }
          ],
          "carpet": [
           {
            "aaxis": {
             "endlinecolor": "#2a3f5f",
             "gridcolor": "white",
             "linecolor": "white",
             "minorgridcolor": "white",
             "startlinecolor": "#2a3f5f"
            },
            "baxis": {
             "endlinecolor": "#2a3f5f",
             "gridcolor": "white",
             "linecolor": "white",
             "minorgridcolor": "white",
             "startlinecolor": "#2a3f5f"
            },
            "type": "carpet"
           }
          ],
          "choropleth": [
           {
            "colorbar": {
             "outlinewidth": 0,
             "ticks": ""
            },
            "type": "choropleth"
           }
          ],
          "contour": [
           {
            "colorbar": {
             "outlinewidth": 0,
             "ticks": ""
            },
            "colorscale": [
             [
              0,
              "#0d0887"
             ],
             [
              0.1111111111111111,
              "#46039f"
             ],
             [
              0.2222222222222222,
              "#7201a8"
             ],
             [
              0.3333333333333333,
              "#9c179e"
             ],
             [
              0.4444444444444444,
              "#bd3786"
             ],
             [
              0.5555555555555556,
              "#d8576b"
             ],
             [
              0.6666666666666666,
              "#ed7953"
             ],
             [
              0.7777777777777778,
              "#fb9f3a"
             ],
             [
              0.8888888888888888,
              "#fdca26"
             ],
             [
              1,
              "#f0f921"
             ]
            ],
            "type": "contour"
           }
          ],
          "contourcarpet": [
           {
            "colorbar": {
             "outlinewidth": 0,
             "ticks": ""
            },
            "type": "contourcarpet"
           }
          ],
          "heatmap": [
           {
            "colorbar": {
             "outlinewidth": 0,
             "ticks": ""
            },
            "colorscale": [
             [
              0,
              "#0d0887"
             ],
             [
              0.1111111111111111,
              "#46039f"
             ],
             [
              0.2222222222222222,
              "#7201a8"
             ],
             [
              0.3333333333333333,
              "#9c179e"
             ],
             [
              0.4444444444444444,
              "#bd3786"
             ],
             [
              0.5555555555555556,
              "#d8576b"
             ],
             [
              0.6666666666666666,
              "#ed7953"
             ],
             [
              0.7777777777777778,
              "#fb9f3a"
             ],
             [
              0.8888888888888888,
              "#fdca26"
             ],
             [
              1,
              "#f0f921"
             ]
            ],
            "type": "heatmap"
           }
          ],
          "heatmapgl": [
           {
            "colorbar": {
             "outlinewidth": 0,
             "ticks": ""
            },
            "colorscale": [
             [
              0,
              "#0d0887"
             ],
             [
              0.1111111111111111,
              "#46039f"
             ],
             [
              0.2222222222222222,
              "#7201a8"
             ],
             [
              0.3333333333333333,
              "#9c179e"
             ],
             [
              0.4444444444444444,
              "#bd3786"
             ],
             [
              0.5555555555555556,
              "#d8576b"
             ],
             [
              0.6666666666666666,
              "#ed7953"
             ],
             [
              0.7777777777777778,
              "#fb9f3a"
             ],
             [
              0.8888888888888888,
              "#fdca26"
             ],
             [
              1,
              "#f0f921"
             ]
            ],
            "type": "heatmapgl"
           }
          ],
          "histogram": [
           {
            "marker": {
             "pattern": {
              "fillmode": "overlay",
              "size": 10,
              "solidity": 0.2
             }
            },
            "type": "histogram"
           }
          ],
          "histogram2d": [
           {
            "colorbar": {
             "outlinewidth": 0,
             "ticks": ""
            },
            "colorscale": [
             [
              0,
              "#0d0887"
             ],
             [
              0.1111111111111111,
              "#46039f"
             ],
             [
              0.2222222222222222,
              "#7201a8"
             ],
             [
              0.3333333333333333,
              "#9c179e"
             ],
             [
              0.4444444444444444,
              "#bd3786"
             ],
             [
              0.5555555555555556,
              "#d8576b"
             ],
             [
              0.6666666666666666,
              "#ed7953"
             ],
             [
              0.7777777777777778,
              "#fb9f3a"
             ],
             [
              0.8888888888888888,
              "#fdca26"
             ],
             [
              1,
              "#f0f921"
             ]
            ],
            "type": "histogram2d"
           }
          ],
          "histogram2dcontour": [
           {
            "colorbar": {
             "outlinewidth": 0,
             "ticks": ""
            },
            "colorscale": [
             [
              0,
              "#0d0887"
             ],
             [
              0.1111111111111111,
              "#46039f"
             ],
             [
              0.2222222222222222,
              "#7201a8"
             ],
             [
              0.3333333333333333,
              "#9c179e"
             ],
             [
              0.4444444444444444,
              "#bd3786"
             ],
             [
              0.5555555555555556,
              "#d8576b"
             ],
             [
              0.6666666666666666,
              "#ed7953"
             ],
             [
              0.7777777777777778,
              "#fb9f3a"
             ],
             [
              0.8888888888888888,
              "#fdca26"
             ],
             [
              1,
              "#f0f921"
             ]
            ],
            "type": "histogram2dcontour"
           }
          ],
          "mesh3d": [
           {
            "colorbar": {
             "outlinewidth": 0,
             "ticks": ""
            },
            "type": "mesh3d"
           }
          ],
          "parcoords": [
           {
            "line": {
             "colorbar": {
              "outlinewidth": 0,
              "ticks": ""
             }
            },
            "type": "parcoords"
           }
          ],
          "pie": [
           {
            "automargin": true,
            "type": "pie"
           }
          ],
          "scatter": [
           {
            "fillpattern": {
             "fillmode": "overlay",
             "size": 10,
             "solidity": 0.2
            },
            "type": "scatter"
           }
          ],
          "scatter3d": [
           {
            "line": {
             "colorbar": {
              "outlinewidth": 0,
              "ticks": ""
             }
            },
            "marker": {
             "colorbar": {
              "outlinewidth": 0,
              "ticks": ""
             }
            },
            "type": "scatter3d"
           }
          ],
          "scattercarpet": [
           {
            "marker": {
             "colorbar": {
              "outlinewidth": 0,
              "ticks": ""
             }
            },
            "type": "scattercarpet"
           }
          ],
          "scattergeo": [
           {
            "marker": {
             "colorbar": {
              "outlinewidth": 0,
              "ticks": ""
             }
            },
            "type": "scattergeo"
           }
          ],
          "scattergl": [
           {
            "marker": {
             "colorbar": {
              "outlinewidth": 0,
              "ticks": ""
             }
            },
            "type": "scattergl"
           }
          ],
          "scattermapbox": [
           {
            "marker": {
             "colorbar": {
              "outlinewidth": 0,
              "ticks": ""
             }
            },
            "type": "scattermapbox"
           }
          ],
          "scatterpolar": [
           {
            "marker": {
             "colorbar": {
              "outlinewidth": 0,
              "ticks": ""
             }
            },
            "type": "scatterpolar"
           }
          ],
          "scatterpolargl": [
           {
            "marker": {
             "colorbar": {
              "outlinewidth": 0,
              "ticks": ""
             }
            },
            "type": "scatterpolargl"
           }
          ],
          "scatterternary": [
           {
            "marker": {
             "colorbar": {
              "outlinewidth": 0,
              "ticks": ""
             }
            },
            "type": "scatterternary"
           }
          ],
          "surface": [
           {
            "colorbar": {
             "outlinewidth": 0,
             "ticks": ""
            },
            "colorscale": [
             [
              0,
              "#0d0887"
             ],
             [
              0.1111111111111111,
              "#46039f"
             ],
             [
              0.2222222222222222,
              "#7201a8"
             ],
             [
              0.3333333333333333,
              "#9c179e"
             ],
             [
              0.4444444444444444,
              "#bd3786"
             ],
             [
              0.5555555555555556,
              "#d8576b"
             ],
             [
              0.6666666666666666,
              "#ed7953"
             ],
             [
              0.7777777777777778,
              "#fb9f3a"
             ],
             [
              0.8888888888888888,
              "#fdca26"
             ],
             [
              1,
              "#f0f921"
             ]
            ],
            "type": "surface"
           }
          ],
          "table": [
           {
            "cells": {
             "fill": {
              "color": "#EBF0F8"
             },
             "line": {
              "color": "white"
             }
            },
            "header": {
             "fill": {
              "color": "#C8D4E3"
             },
             "line": {
              "color": "white"
             }
            },
            "type": "table"
           }
          ]
         },
         "layout": {
          "annotationdefaults": {
           "arrowcolor": "#2a3f5f",
           "arrowhead": 0,
           "arrowwidth": 1
          },
          "autotypenumbers": "strict",
          "coloraxis": {
           "colorbar": {
            "outlinewidth": 0,
            "ticks": ""
           }
          },
          "colorscale": {
           "diverging": [
            [
             0,
             "#8e0152"
            ],
            [
             0.1,
             "#c51b7d"
            ],
            [
             0.2,
             "#de77ae"
            ],
            [
             0.3,
             "#f1b6da"
            ],
            [
             0.4,
             "#fde0ef"
            ],
            [
             0.5,
             "#f7f7f7"
            ],
            [
             0.6,
             "#e6f5d0"
            ],
            [
             0.7,
             "#b8e186"
            ],
            [
             0.8,
             "#7fbc41"
            ],
            [
             0.9,
             "#4d9221"
            ],
            [
             1,
             "#276419"
            ]
           ],
           "sequential": [
            [
             0,
             "#0d0887"
            ],
            [
             0.1111111111111111,
             "#46039f"
            ],
            [
             0.2222222222222222,
             "#7201a8"
            ],
            [
             0.3333333333333333,
             "#9c179e"
            ],
            [
             0.4444444444444444,
             "#bd3786"
            ],
            [
             0.5555555555555556,
             "#d8576b"
            ],
            [
             0.6666666666666666,
             "#ed7953"
            ],
            [
             0.7777777777777778,
             "#fb9f3a"
            ],
            [
             0.8888888888888888,
             "#fdca26"
            ],
            [
             1,
             "#f0f921"
            ]
           ],
           "sequentialminus": [
            [
             0,
             "#0d0887"
            ],
            [
             0.1111111111111111,
             "#46039f"
            ],
            [
             0.2222222222222222,
             "#7201a8"
            ],
            [
             0.3333333333333333,
             "#9c179e"
            ],
            [
             0.4444444444444444,
             "#bd3786"
            ],
            [
             0.5555555555555556,
             "#d8576b"
            ],
            [
             0.6666666666666666,
             "#ed7953"
            ],
            [
             0.7777777777777778,
             "#fb9f3a"
            ],
            [
             0.8888888888888888,
             "#fdca26"
            ],
            [
             1,
             "#f0f921"
            ]
           ]
          },
          "colorway": [
           "#636efa",
           "#EF553B",
           "#00cc96",
           "#ab63fa",
           "#FFA15A",
           "#19d3f3",
           "#FF6692",
           "#B6E880",
           "#FF97FF",
           "#FECB52"
          ],
          "font": {
           "color": "#2a3f5f"
          },
          "geo": {
           "bgcolor": "white",
           "lakecolor": "white",
           "landcolor": "#E5ECF6",
           "showlakes": true,
           "showland": true,
           "subunitcolor": "white"
          },
          "hoverlabel": {
           "align": "left"
          },
          "hovermode": "closest",
          "mapbox": {
           "style": "light"
          },
          "paper_bgcolor": "white",
          "plot_bgcolor": "#E5ECF6",
          "polar": {
           "angularaxis": {
            "gridcolor": "white",
            "linecolor": "white",
            "ticks": ""
           },
           "bgcolor": "#E5ECF6",
           "radialaxis": {
            "gridcolor": "white",
            "linecolor": "white",
            "ticks": ""
           }
          },
          "scene": {
           "xaxis": {
            "backgroundcolor": "#E5ECF6",
            "gridcolor": "white",
            "gridwidth": 2,
            "linecolor": "white",
            "showbackground": true,
            "ticks": "",
            "zerolinecolor": "white"
           },
           "yaxis": {
            "backgroundcolor": "#E5ECF6",
            "gridcolor": "white",
            "gridwidth": 2,
            "linecolor": "white",
            "showbackground": true,
            "ticks": "",
            "zerolinecolor": "white"
           },
           "zaxis": {
            "backgroundcolor": "#E5ECF6",
            "gridcolor": "white",
            "gridwidth": 2,
            "linecolor": "white",
            "showbackground": true,
            "ticks": "",
            "zerolinecolor": "white"
           }
          },
          "shapedefaults": {
           "line": {
            "color": "#2a3f5f"
           }
          },
          "ternary": {
           "aaxis": {
            "gridcolor": "white",
            "linecolor": "white",
            "ticks": ""
           },
           "baxis": {
            "gridcolor": "white",
            "linecolor": "white",
            "ticks": ""
           },
           "bgcolor": "#E5ECF6",
           "caxis": {
            "gridcolor": "white",
            "linecolor": "white",
            "ticks": ""
           }
          },
          "title": {
           "x": 0.05
          },
          "xaxis": {
           "automargin": true,
           "gridcolor": "white",
           "linecolor": "white",
           "ticks": "",
           "title": {
            "standoff": 15
           },
           "zerolinecolor": "white",
           "zerolinewidth": 2
          },
          "yaxis": {
           "automargin": true,
           "gridcolor": "white",
           "linecolor": "white",
           "ticks": "",
           "title": {
            "standoff": 15
           },
           "zerolinecolor": "white",
           "zerolinewidth": 2
          }
         }
        },
        "title": {
         "text": "FAV GENRE VS AGE",
         "x": 0.5
        },
        "xaxis": {
         "anchor": "y",
         "domain": [
          0,
          1
         ],
         "title": {
          "text": "Age"
         }
        },
        "yaxis": {
         "anchor": "x",
         "domain": [
          0,
          1
         ],
         "title": {
          "text": "Fav genre"
         }
        }
       }
      },
      "text/html": [
       "<div>                            <div id=\"04ee221b-eb3f-4927-a9b1-a106f571f9b8\" class=\"plotly-graph-div\" style=\"height:525px; width:100%;\"></div>            <script type=\"text/javascript\">                require([\"plotly\"], function(Plotly) {                    window.PLOTLYENV=window.PLOTLYENV || {};                                    if (document.getElementById(\"04ee221b-eb3f-4927-a9b1-a106f571f9b8\")) {                    Plotly.newPlot(                        \"04ee221b-eb3f-4927-a9b1-a106f571f9b8\",                        [{\"hovertemplate\":\"Age=%{x}<br>Fav genre=%{y}<extra></extra>\",\"legendgroup\":\"\",\"marker\":{\"color\":\"#636efa\",\"symbol\":\"circle\"},\"mode\":\"markers\",\"name\":\"\",\"orientation\":\"h\",\"showlegend\":false,\"x\":[18.0,63.0,18.0,61.0,18.0,18.0,18.0,21.0,19.0,18.0,18.0,19.0,null,19.0,18.0,17.0,16.0,16.0,17.0,15.0,15.0,17.0,19.0,18.0,16.0,18.0,14.0,18.0,17.0,17.0,20.0,19.0,19.0,17.0,16.0,18.0,21.0,17.0,26.0,20.0,23.0,18.0,37.0,17.0,18.0,17.0,36.0,24.0,18.0,19.0,17.0,16.0,23.0,23.0,22.0,16.0,18.0,42.0,23.0,23.0,19.0,22.0,15.0,25.0,32.0,36.0,24.0,29.0,41.0,36.0,19.0,31.0,16.0,26.0,22.0,16.0,17.0,19.0,18.0,18.0,19.0,19.0,22.0,16.0,19.0,37.0,14.0,33.0,26.0,32.0,30.0,43.0,24.0,36.0,19.0,22.0,20.0,31.0,19.0,15.0,18.0,25.0,17.0,28.0,20.0,21.0,41.0,20.0,34.0,21.0,23.0,16.0,19.0,22.0,19.0,23.0,23.0,22.0,17.0,28.0,23.0,19.0,17.0,21.0,29.0,22.0,18.0,13.0,24.0,35.0,29.0,28.0,32.0,32.0,21.0,18.0,19.0,18.0,16.0,25.0,17.0,16.0,27.0,53.0,25.0,34.0,22.0,17.0,26.0,19.0,21.0,32.0,21.0,25.0,26.0,21.0,17.0,28.0,41.0,18.0,22.0,18.0,49.0,21.0,27.0,19.0,27.0,27.0,19.0,42.0,60.0,19.0,20.0,28.0,16.0,18.0,34.0,18.0,21.0,38.0,17.0,35.0,21.0,25.0,18.0,16.0,19.0,31.0,26.0,16.0,26.0,17.0,22.0,20.0,30.0,26.0,19.0,21.0,33.0,28.0,25.0,22.0,19.0,44.0,22.0,26.0,23.0,17.0,42.0,30.0,35.0,20.0,18.0,21.0,19.0,37.0,31.0,29.0,20.0,36.0,18.0,18.0,25.0,18.0,31.0,17.0,21.0,30.0,40.0,64.0,14.0,26.0,35.0,33.0,30.0,31.0,27.0,53.0,23.0,25.0,16.0,18.0,29.0,31.0,31.0,38.0,17.0,25.0,20.0,15.0,16.0,20.0,23.0,22.0,15.0,17.0,22.0,21.0,19.0,32.0,34.0,18.0,21.0,20.0,19.0,25.0,31.0,21.0,31.0,20.0,19.0,19.0,23.0,24.0,20.0,15.0,17.0,20.0,14.0,24.0,14.0,23.0,28.0,22.0,25.0,27.0,18.0,17.0,23.0,40.0,27.0,18.0,16.0,18.0,23.0,15.0,20.0,16.0,16.0,20.0,33.0,22.0,21.0,21.0,29.0,56.0,17.0,22.0,26.0,30.0,49.0,22.0,32.0,32.0,22.0,17.0,21.0,17.0,25.0,15.0,13.0,38.0,23.0,17.0,59.0,22.0,17.0,27.0,23.0,15.0,22.0,23.0,19.0,32.0,40.0,21.0,21.0,23.0,21.0,35.0,18.0,21.0,22.0,23.0,13.0,19.0,33.0,18.0,17.0,16.0,18.0,19.0,15.0,17.0,25.0,24.0,23.0,16.0,25.0,16.0,20.0,17.0,29.0,20.0,16.0,21.0,16.0,43.0,32.0,10.0,27.0,24.0,18.0,17.0,19.0,16.0,64.0,33.0,32.0,15.0,27.0,20.0,23.0,19.0,12.0,16.0,17.0,14.0,32.0,20.0,54.0,18.0,14.0,13.0,19.0,14.0,14.0,18.0,15.0,24.0,17.0,44.0,23.0,21.0,57.0,23.0,18.0,26.0,13.0,15.0,57.0,12.0,26.0,17.0,17.0,69.0,17.0,32.0,22.0,38.0,18.0,14.0,14.0,19.0,20.0,18.0,30.0,31.0,72.0,73.0,16.0,19.0,16.0,12.0,39.0,15.0,14.0,21.0,38.0,23.0,16.0,21.0,13.0,16.0,18.0,21.0,17.0,24.0,14.0,25.0,22.0,20.0,23.0,61.0,24.0,34.0,49.0,33.0,22.0,38.0,23.0,34.0,40.0,27.0,54.0,16.0,23.0,35.0,22.0,41.0,63.0,28.0,22.0,58.0,58.0,67.0,70.0,60.0,15.0,18.0,58.0,28.0,22.0,49.0,20.0,55.0,48.0,14.0,18.0,25.0,71.0,60.0,18.0,19.0,74.0,36.0,14.0,20.0,15.0,19.0,29.0,24.0,18.0,21.0,19.0,25.0,28.0,27.0,60.0,25.0,60.0,43.0,51.0,63.0,64.0,22.0,24.0,19.0,56.0,20.0,19.0,20.0,60.0,65.0,28.0,18.0,42.0,80.0,22.0,56.0,20.0,15.0,67.0,57.0,22.0,17.0,19.0,50.0,24.0,67.0,18.0,20.0,15.0,17.0,32.0,18.0,18.0,18.0,19.0,18.0,17.0,34.0,18.0,18.0,22.0,18.0,19.0,25.0,17.0,25.0,18.0,21.0,24.0,16.0,18.0,18.0,16.0,68.0,16.0,21.0,53.0,29.0,18.0,29.0,18.0,22.0,19.0,13.0,26.0,14.0,27.0,26.0,59.0,30.0,27.0,18.0,23.0,18.0,40.0,24.0,23.0,56.0,29.0,16.0,18.0,21.0,32.0,22.0,17.0,18.0,18.0,24.0,21.0,46.0,18.0,16.0,21.0,19.0,20.0,21.0,56.0,21.0,20.0,21.0,25.0,33.0,20.0,17.0,24.0,26.0,17.0,16.0,27.0,28.0,48.0,19.0,21.0,21.0,15.0,20.0,21.0,22.0,22.0,31.0,20.0,49.0,42.0,26.0,17.0,30.0,23.0,30.0,31.0,42.0,16.0,34.0,21.0,27.0,18.0,26.0,37.0,26.0,19.0,22.0,43.0,24.0,21.0,28.0,23.0,20.0,17.0,19.0,32.0,18.0,20.0,27.0,15.0,26.0,24.0,20.0,21.0,16.0,21.0,27.0,17.0,21.0,17.0,21.0,17.0,36.0,18.0,18.0,18.0,18.0,18.0,18.0,18.0,18.0,18.0,20.0,19.0,17.0,23.0,18.0,19.0,89.0,20.0,16.0,17.0,16.0,20.0,30.0,37.0,44.0,21.0,19.0,23.0,26.0,18.0,35.0,16.0,19.0,23.0,17.0,29.0,21.0,17.0,23.0,17.0,22.0,17.0,19.0,19.0,16.0,19.0,13.0,18.0,26.0,14.0,21.0,21.0,17.0,18.0,19.0,19.0,29.0],\"xaxis\":\"x\",\"y\":[\"Latin\",\"Rock\",\"Video game music\",\"Jazz\",\"R&B\",\"Jazz\",\"Video game music\",\"K pop\",\"Rock\",\"R&B\",\"Country\",\"EDM\",\"Hip hop\",\"Country\",\"Jazz\",\"Pop\",\"Hip hop\",\"Hip hop\",\"Rap\",\"Hip hop\",\"Hip hop\",\"Rap\",\"R&B\",\"Pop\",\"Rock\",\"Pop\",\"Rock\",\"Pop\",\"Pop\",\"Pop\",\"Rock\",\"Classical\",\"Metal\",\"Rock\",\"Classical\",\"Pop\",\"Pop\",\"Pop\",\"Rock\",\"EDM\",\"Video game music\",\"Rock\",\"Video game music\",\"Classical\",\"Metal\",\"Folk\",\"Classical\",\"Rock\",\"Metal\",\"Pop\",\"EDM\",\"K pop\",\"Rap\",\"Pop\",\"Rock\",\"Classical\",\"Rock\",\"Rock\",\"Folk\",\"Video game music\",\"K pop\",\"Rock\",\"Rock\",\"Metal\",\"Rock\",\"Metal\",\"Rock\",\"Hip hop\",\"Metal\",\"Rock\",\"Rock\",\"Rock\",\"Rock\",\"Hip hop\",\"Hip hop\",\"Jazz\",\"Metal\",\"R&B\",\"EDM\",\"Hip hop\",\"Rock\",\"Jazz\",\"K pop\",\"Rock\",\"R&B\",\"Rock\",\"Jazz\",\"Metal\",\"R&B\",\"Hip hop\",\"Metal\",\"Video game music\",\"Classical\",\"Rock\",\"Video game music\",\"Metal\",\"EDM\",\"Rock\",\"Metal\",\"Rock\",\"Metal\",\"Classical\",\"Metal\",\"Rock\",\"Rock\",\"Metal\",\"Pop\",\"Pop\",\"Metal\",\"Metal\",\"Metal\",\"Pop\",\"Pop\",\"Rock\",\"K pop\",\"Hip hop\",\"Metal\",\"EDM\",\"Rock\",\"Folk\",\"Rock\",\"Rock\",\"Hip hop\",\"Rock\",\"Jazz\",\"EDM\",\"Pop\",\"Rock\",\"Metal\",\"Rock\",\"Video game music\",\"Rock\",\"Pop\",\"EDM\",\"Rock\",\"Video game music\",\"Classical\",\"Pop\",\"Pop\",\"Pop\",\"Lofi\",\"Rap\",\"Metal\",\"Pop\",\"EDM\",\"Metal\",\"Jazz\",\"Jazz\",\"Folk\",\"EDM\",\"Pop\",\"Rock\",\"Rock\",\"Pop\",\"Rock\",\"Metal\",\"Pop\",\"Rock\",\"Pop\",\"Metal\",\"R&B\",\"K pop\",\"EDM\",\"Metal\",\"Metal\",\"Metal\",\"Metal\",\"Rock\",\"K pop\",\"Rock\",\"Gospel\",\"Metal\",\"Pop\",\"Metal\",\"Video game music\",\"R&B\",\"Rock\",\"Pop\",\"Folk\",\"Rock\",\"Rock\",\"Pop\",\"Rock\",\"R&B\",\"K pop\",\"Pop\",\"Pop\",\"Classical\",\"Rock\",\"Rock\",\"Rock\",\"R&B\",\"Video game music\",\"R&B\",\"Rock\",\"Pop\",\"Rock\",\"Country\",\"Rock\",\"Rock\",\"Rock\",\"Pop\",\"Rock\",\"Folk\",\"Rock\",\"Metal\",\"Classical\",\"R&B\",\"Metal\",\"Rock\",\"Pop\",\"Rock\",\"Rap\",\"Pop\",\"Rock\",\"Rock\",\"Metal\",\"Folk\",\"Rock\",\"Video game music\",\"Rock\",\"K pop\",\"Pop\",\"K pop\",\"Pop\",\"Pop\",\"Folk\",\"Country\",\"Metal\",\"Rock\",\"Rock\",\"Rock\",\"Country\",\"Rock\",\"Folk\",\"Metal\",\"Folk\",\"Pop\",\"Metal\",\"EDM\",\"K pop\",\"Rock\",\"Classical\",\"EDM\",\"Rock\",\"Pop\",\"Classical\",\"EDM\",\"Metal\",\"EDM\",\"Lofi\",\"EDM\",\"Rap\",\"Hip hop\",\"Rock\",\"Video game music\",\"Video game music\",\"Metal\",\"Pop\",\"Classical\",\"Rock\",\"Metal\",\"Country\",\"Country\",\"Country\",\"Pop\",\"Classical\",\"Pop\",\"Folk\",\"Pop\",\"Rock\",\"EDM\",\"Metal\",\"Video game music\",\"Rock\",\"Video game music\",\"Hip hop\",\"Video game music\",\"Video game music\",\"Metal\",\"Video game music\",\"Rock\",\"Rock\",\"Jazz\",\"Rock\",\"Pop\",\"Rock\",\"Pop\",\"Rock\",\"Rock\",\"Rock\",\"Pop\",\"Metal\",\"Rock\",\"Jazz\",\"Metal\",\"Metal\",\"Rock\",\"Rock\",\"Country\",\"Metal\",\"Rock\",\"Hip hop\",\"Metal\",\"Rock\",\"Pop\",\"Pop\",\"Pop\",\"Pop\",\"EDM\",\"Folk\",\"EDM\",\"Rock\",\"Rock\",\"Country\",\"Rock\",\"Rock\",\"Rock\",\"Metal\",\"Rock\",\"Rap\",\"Rock\",\"Rock\",\"Pop\",\"Pop\",\"Pop\",\"Pop\",\"Pop\",\"Video game music\",\"Rock\",\"EDM\",\"Lofi\",\"Country\",\"Rock\",\"Rock\",\"Country\",\"Rock\",\"Video game music\",\"EDM\",\"Folk\",\"Hip hop\",\"Pop\",\"Video game music\",\"Rock\",\"Folk\",\"K pop\",\"Rock\",\"Jazz\",\"Classical\",\"EDM\",\"Rock\",\"K pop\",\"Rap\",\"Pop\",\"Lofi\",\"Video game music\",\"Jazz\",\"EDM\",\"Metal\",\"EDM\",\"Metal\",\"Metal\",\"Metal\",\"Hip hop\",\"Folk\",\"Rock\",\"Rock\",\"Pop\",\"Classical\",\"Pop\",\"Metal\",\"Classical\",\"Hip hop\",\"Rock\",\"Metal\",\"Rock\",\"Rock\",\"Lofi\",\"Rock\",\"Pop\",\"Metal\",\"Rock\",\"Pop\",\"Classical\",\"Classical\",\"Classical\",\"Video game music\",\"Pop\",\"Metal\",\"Pop\",\"Classical\",\"K pop\",\"Classical\",\"Classical\",\"Country\",\"Classical\",\"Classical\",\"Rap\",\"Folk\",\"Classical\",\"Pop\",\"Rock\",\"Rock\",\"Rap\",\"R&B\",\"Rock\",\"Pop\",\"Hip hop\",\"Classical\",\"Classical\",\"Rock\",\"Classical\",\"EDM\",\"Country\",\"Classical\",\"Classical\",\"R&B\",\"Jazz\",\"Classical\",\"Metal\",\"EDM\",\"Classical\",\"Video game music\",\"Metal\",\"Classical\",\"Rock\",\"K pop\",\"Classical\",\"Rock\",\"R&B\",\"Pop\",\"Rap\",\"Classical\",\"Classical\",\"Hip hop\",\"K pop\",\"R&B\",\"Country\",\"Video game music\",\"Hip hop\",\"EDM\",\"Folk\",\"Rap\",\"Rock\",\"Rock\",\"Metal\",\"Classical\",\"Rock\",\"Pop\",\"Rock\",\"Lofi\",\"Rock\",\"Pop\",\"Rock\",\"Video game music\",\"Rock\",\"Pop\",\"Rock\",\"Metal\",\"Metal\",\"Hip hop\",\"Video game music\",\"Metal\",\"Hip hop\",\"Rock\",\"Rock\",\"Video game music\",\"Country\",\"Folk\",\"Metal\",\"Rock\",\"Rock\",\"Country\",\"Rock\",\"Classical\",\"Rock\",\"Country\",\"Rock\",\"Pop\",\"EDM\",\"Hip hop\",\"Lofi\",\"Lofi\",\"Classical\",\"Rock\",\"Rock\",\"Metal\",\"K pop\",\"Pop\",\"Pop\",\"Gospel\",\"Gospel\",\"Video game music\",\"Hip hop\",\"Pop\",\"Hip hop\",\"Lofi\",\"Hip hop\",\"K pop\",\"Rock\",\"EDM\",\"Metal\",\"Pop\",\"Rock\",\"K pop\",\"Video game music\",\"Rock\",\"Rap\",\"Rock\",\"Metal\",\"Rock\",\"Country\",\"Rock\",\"Rock\",\"Classical\",\"Pop\",\"Folk\",\"Pop\",\"Pop\",\"EDM\",\"Video game music\",\"Jazz\",\"Rock\",\"R&B\",\"Metal\",\"EDM\",\"Rock\",\"Classical\",\"Pop\",\"Jazz\",\"Pop\",\"Video game music\",\"Rock\",\"Gospel\",\"Pop\",\"Pop\",\"Rock\",\"Rock\",\"Rock\",\"Rock\",\"Metal\",\"Country\",\"Pop\",\"Pop\",\"Folk\",\"Rap\",\"Rock\",\"K pop\",\"Pop\",\"Rock\",\"Rap\",\"Classical\",\"Pop\",\"R&B\",\"Video game music\",\"Pop\",\"Rock\",\"Pop\",\"R&B\",\"Rock\",\"R&B\",\"K pop\",\"Folk\",\"K pop\",\"Metal\",\"R&B\",\"Pop\",\"Gospel\",\"Video game music\",\"R&B\",\"R&B\",\"Classical\",\"Video game music\",\"Pop\",\"R&B\",\"EDM\",\"Pop\",\"Video game music\",\"Pop\",\"Rock\",\"Pop\",\"Rock\",\"Rock\",\"Rock\",\"Pop\",\"Rap\",\"Metal\",\"Rock\",\"Rock\",\"Rock\",\"Classical\",\"R&B\",\"R&B\",\"Pop\",\"Gospel\",\"Lofi\",\"Rock\",\"Metal\",\"Latin\",\"EDM\",\"R&B\",\"Jazz\",\"Pop\",\"Rock\",\"Hip hop\",\"K pop\",\"Video game music\",\"Classical\",\"Rap\",\"Folk\",\"Rock\",\"Rock\",\"Pop\",\"Rock\",\"Rock\",\"Metal\",\"Rock\",\"Rock\",\"Jazz\",\"Jazz\",\"Rock\",\"Metal\",\"Metal\",\"Hip hop\",\"Rock\",\"Rap\",\"Rock\",\"Classical\",\"Metal\",\"Rock\",\"Video game music\",\"Folk\",\"Rock\",\"Rock\",\"Metal\",\"Classical\",\"Metal\",\"EDM\",\"K pop\",\"Metal\",\"Folk\",\"EDM\",\"Metal\",\"Classical\",\"EDM\",\"Metal\",\"Pop\",\"Pop\",\"Folk\",\"Metal\",\"Rock\",\"Folk\",\"Pop\",\"Rock\",\"Rock\",\"Rock\",\"Pop\",\"Rock\",\"R&B\",\"Rock\",\"Metal\",\"R&B\",\"Metal\",\"Folk\",\"Rock\",\"Rock\",\"Rock\",\"Rock\",\"Pop\",\"K pop\",\"Pop\",\"Video game music\",\"Metal\",\"Jazz\",\"Rock\",\"Classical\",\"Folk\",\"Rap\",\"Rock\",\"Country\",\"R&B\",\"K pop\",\"Latin\",\"R&B\",\"Hip hop\",\"Rap\",\"Classical\",\"Classical\",\"R&B\",\"R&B\",\"Hip hop\",\"Hip hop\",\"Video game music\",\"Pop\",\"Pop\",\"Rap\",\"R&B\",\"Rock\",\"Country\",\"Metal\",\"Pop\",\"Rock\",\"Folk\",\"Folk\",\"Metal\",\"Pop\",\"Rock\",\"Country\",\"Video game music\",\"Hip hop\",\"Rock\",\"Metal\",\"Rock\",\"Pop\",\"Country\",\"Pop\",\"Metal\",\"Rock\",\"Metal\",\"Video game music\",\"Hip hop\",\"Pop\",\"Pop\",\"Pop\",\"Pop\",\"Video game music\",\"EDM\",\"Metal\",\"Country\",\"Pop\",\"R&B\",\"Rock\",\"Pop\",\"Rap\",\"Classical\",\"Hip hop\"],\"yaxis\":\"y\",\"type\":\"scatter\"}],                        {\"template\":{\"data\":{\"histogram2dcontour\":[{\"type\":\"histogram2dcontour\",\"colorbar\":{\"outlinewidth\":0,\"ticks\":\"\"},\"colorscale\":[[0.0,\"#0d0887\"],[0.1111111111111111,\"#46039f\"],[0.2222222222222222,\"#7201a8\"],[0.3333333333333333,\"#9c179e\"],[0.4444444444444444,\"#bd3786\"],[0.5555555555555556,\"#d8576b\"],[0.6666666666666666,\"#ed7953\"],[0.7777777777777778,\"#fb9f3a\"],[0.8888888888888888,\"#fdca26\"],[1.0,\"#f0f921\"]]}],\"choropleth\":[{\"type\":\"choropleth\",\"colorbar\":{\"outlinewidth\":0,\"ticks\":\"\"}}],\"histogram2d\":[{\"type\":\"histogram2d\",\"colorbar\":{\"outlinewidth\":0,\"ticks\":\"\"},\"colorscale\":[[0.0,\"#0d0887\"],[0.1111111111111111,\"#46039f\"],[0.2222222222222222,\"#7201a8\"],[0.3333333333333333,\"#9c179e\"],[0.4444444444444444,\"#bd3786\"],[0.5555555555555556,\"#d8576b\"],[0.6666666666666666,\"#ed7953\"],[0.7777777777777778,\"#fb9f3a\"],[0.8888888888888888,\"#fdca26\"],[1.0,\"#f0f921\"]]}],\"heatmap\":[{\"type\":\"heatmap\",\"colorbar\":{\"outlinewidth\":0,\"ticks\":\"\"},\"colorscale\":[[0.0,\"#0d0887\"],[0.1111111111111111,\"#46039f\"],[0.2222222222222222,\"#7201a8\"],[0.3333333333333333,\"#9c179e\"],[0.4444444444444444,\"#bd3786\"],[0.5555555555555556,\"#d8576b\"],[0.6666666666666666,\"#ed7953\"],[0.7777777777777778,\"#fb9f3a\"],[0.8888888888888888,\"#fdca26\"],[1.0,\"#f0f921\"]]}],\"heatmapgl\":[{\"type\":\"heatmapgl\",\"colorbar\":{\"outlinewidth\":0,\"ticks\":\"\"},\"colorscale\":[[0.0,\"#0d0887\"],[0.1111111111111111,\"#46039f\"],[0.2222222222222222,\"#7201a8\"],[0.3333333333333333,\"#9c179e\"],[0.4444444444444444,\"#bd3786\"],[0.5555555555555556,\"#d8576b\"],[0.6666666666666666,\"#ed7953\"],[0.7777777777777778,\"#fb9f3a\"],[0.8888888888888888,\"#fdca26\"],[1.0,\"#f0f921\"]]}],\"contourcarpet\":[{\"type\":\"contourcarpet\",\"colorbar\":{\"outlinewidth\":0,\"ticks\":\"\"}}],\"contour\":[{\"type\":\"contour\",\"colorbar\":{\"outlinewidth\":0,\"ticks\":\"\"},\"colorscale\":[[0.0,\"#0d0887\"],[0.1111111111111111,\"#46039f\"],[0.2222222222222222,\"#7201a8\"],[0.3333333333333333,\"#9c179e\"],[0.4444444444444444,\"#bd3786\"],[0.5555555555555556,\"#d8576b\"],[0.6666666666666666,\"#ed7953\"],[0.7777777777777778,\"#fb9f3a\"],[0.8888888888888888,\"#fdca26\"],[1.0,\"#f0f921\"]]}],\"surface\":[{\"type\":\"surface\",\"colorbar\":{\"outlinewidth\":0,\"ticks\":\"\"},\"colorscale\":[[0.0,\"#0d0887\"],[0.1111111111111111,\"#46039f\"],[0.2222222222222222,\"#7201a8\"],[0.3333333333333333,\"#9c179e\"],[0.4444444444444444,\"#bd3786\"],[0.5555555555555556,\"#d8576b\"],[0.6666666666666666,\"#ed7953\"],[0.7777777777777778,\"#fb9f3a\"],[0.8888888888888888,\"#fdca26\"],[1.0,\"#f0f921\"]]}],\"mesh3d\":[{\"type\":\"mesh3d\",\"colorbar\":{\"outlinewidth\":0,\"ticks\":\"\"}}],\"scatter\":[{\"fillpattern\":{\"fillmode\":\"overlay\",\"size\":10,\"solidity\":0.2},\"type\":\"scatter\"}],\"parcoords\":[{\"type\":\"parcoords\",\"line\":{\"colorbar\":{\"outlinewidth\":0,\"ticks\":\"\"}}}],\"scatterpolargl\":[{\"type\":\"scatterpolargl\",\"marker\":{\"colorbar\":{\"outlinewidth\":0,\"ticks\":\"\"}}}],\"bar\":[{\"error_x\":{\"color\":\"#2a3f5f\"},\"error_y\":{\"color\":\"#2a3f5f\"},\"marker\":{\"line\":{\"color\":\"#E5ECF6\",\"width\":0.5},\"pattern\":{\"fillmode\":\"overlay\",\"size\":10,\"solidity\":0.2}},\"type\":\"bar\"}],\"scattergeo\":[{\"type\":\"scattergeo\",\"marker\":{\"colorbar\":{\"outlinewidth\":0,\"ticks\":\"\"}}}],\"scatterpolar\":[{\"type\":\"scatterpolar\",\"marker\":{\"colorbar\":{\"outlinewidth\":0,\"ticks\":\"\"}}}],\"histogram\":[{\"marker\":{\"pattern\":{\"fillmode\":\"overlay\",\"size\":10,\"solidity\":0.2}},\"type\":\"histogram\"}],\"scattergl\":[{\"type\":\"scattergl\",\"marker\":{\"colorbar\":{\"outlinewidth\":0,\"ticks\":\"\"}}}],\"scatter3d\":[{\"type\":\"scatter3d\",\"line\":{\"colorbar\":{\"outlinewidth\":0,\"ticks\":\"\"}},\"marker\":{\"colorbar\":{\"outlinewidth\":0,\"ticks\":\"\"}}}],\"scattermapbox\":[{\"type\":\"scattermapbox\",\"marker\":{\"colorbar\":{\"outlinewidth\":0,\"ticks\":\"\"}}}],\"scatterternary\":[{\"type\":\"scatterternary\",\"marker\":{\"colorbar\":{\"outlinewidth\":0,\"ticks\":\"\"}}}],\"scattercarpet\":[{\"type\":\"scattercarpet\",\"marker\":{\"colorbar\":{\"outlinewidth\":0,\"ticks\":\"\"}}}],\"carpet\":[{\"aaxis\":{\"endlinecolor\":\"#2a3f5f\",\"gridcolor\":\"white\",\"linecolor\":\"white\",\"minorgridcolor\":\"white\",\"startlinecolor\":\"#2a3f5f\"},\"baxis\":{\"endlinecolor\":\"#2a3f5f\",\"gridcolor\":\"white\",\"linecolor\":\"white\",\"minorgridcolor\":\"white\",\"startlinecolor\":\"#2a3f5f\"},\"type\":\"carpet\"}],\"table\":[{\"cells\":{\"fill\":{\"color\":\"#EBF0F8\"},\"line\":{\"color\":\"white\"}},\"header\":{\"fill\":{\"color\":\"#C8D4E3\"},\"line\":{\"color\":\"white\"}},\"type\":\"table\"}],\"barpolar\":[{\"marker\":{\"line\":{\"color\":\"#E5ECF6\",\"width\":0.5},\"pattern\":{\"fillmode\":\"overlay\",\"size\":10,\"solidity\":0.2}},\"type\":\"barpolar\"}],\"pie\":[{\"automargin\":true,\"type\":\"pie\"}]},\"layout\":{\"autotypenumbers\":\"strict\",\"colorway\":[\"#636efa\",\"#EF553B\",\"#00cc96\",\"#ab63fa\",\"#FFA15A\",\"#19d3f3\",\"#FF6692\",\"#B6E880\",\"#FF97FF\",\"#FECB52\"],\"font\":{\"color\":\"#2a3f5f\"},\"hovermode\":\"closest\",\"hoverlabel\":{\"align\":\"left\"},\"paper_bgcolor\":\"white\",\"plot_bgcolor\":\"#E5ECF6\",\"polar\":{\"bgcolor\":\"#E5ECF6\",\"angularaxis\":{\"gridcolor\":\"white\",\"linecolor\":\"white\",\"ticks\":\"\"},\"radialaxis\":{\"gridcolor\":\"white\",\"linecolor\":\"white\",\"ticks\":\"\"}},\"ternary\":{\"bgcolor\":\"#E5ECF6\",\"aaxis\":{\"gridcolor\":\"white\",\"linecolor\":\"white\",\"ticks\":\"\"},\"baxis\":{\"gridcolor\":\"white\",\"linecolor\":\"white\",\"ticks\":\"\"},\"caxis\":{\"gridcolor\":\"white\",\"linecolor\":\"white\",\"ticks\":\"\"}},\"coloraxis\":{\"colorbar\":{\"outlinewidth\":0,\"ticks\":\"\"}},\"colorscale\":{\"sequential\":[[0.0,\"#0d0887\"],[0.1111111111111111,\"#46039f\"],[0.2222222222222222,\"#7201a8\"],[0.3333333333333333,\"#9c179e\"],[0.4444444444444444,\"#bd3786\"],[0.5555555555555556,\"#d8576b\"],[0.6666666666666666,\"#ed7953\"],[0.7777777777777778,\"#fb9f3a\"],[0.8888888888888888,\"#fdca26\"],[1.0,\"#f0f921\"]],\"sequentialminus\":[[0.0,\"#0d0887\"],[0.1111111111111111,\"#46039f\"],[0.2222222222222222,\"#7201a8\"],[0.3333333333333333,\"#9c179e\"],[0.4444444444444444,\"#bd3786\"],[0.5555555555555556,\"#d8576b\"],[0.6666666666666666,\"#ed7953\"],[0.7777777777777778,\"#fb9f3a\"],[0.8888888888888888,\"#fdca26\"],[1.0,\"#f0f921\"]],\"diverging\":[[0,\"#8e0152\"],[0.1,\"#c51b7d\"],[0.2,\"#de77ae\"],[0.3,\"#f1b6da\"],[0.4,\"#fde0ef\"],[0.5,\"#f7f7f7\"],[0.6,\"#e6f5d0\"],[0.7,\"#b8e186\"],[0.8,\"#7fbc41\"],[0.9,\"#4d9221\"],[1,\"#276419\"]]},\"xaxis\":{\"gridcolor\":\"white\",\"linecolor\":\"white\",\"ticks\":\"\",\"title\":{\"standoff\":15},\"zerolinecolor\":\"white\",\"automargin\":true,\"zerolinewidth\":2},\"yaxis\":{\"gridcolor\":\"white\",\"linecolor\":\"white\",\"ticks\":\"\",\"title\":{\"standoff\":15},\"zerolinecolor\":\"white\",\"automargin\":true,\"zerolinewidth\":2},\"scene\":{\"xaxis\":{\"backgroundcolor\":\"#E5ECF6\",\"gridcolor\":\"white\",\"linecolor\":\"white\",\"showbackground\":true,\"ticks\":\"\",\"zerolinecolor\":\"white\",\"gridwidth\":2},\"yaxis\":{\"backgroundcolor\":\"#E5ECF6\",\"gridcolor\":\"white\",\"linecolor\":\"white\",\"showbackground\":true,\"ticks\":\"\",\"zerolinecolor\":\"white\",\"gridwidth\":2},\"zaxis\":{\"backgroundcolor\":\"#E5ECF6\",\"gridcolor\":\"white\",\"linecolor\":\"white\",\"showbackground\":true,\"ticks\":\"\",\"zerolinecolor\":\"white\",\"gridwidth\":2}},\"shapedefaults\":{\"line\":{\"color\":\"#2a3f5f\"}},\"annotationdefaults\":{\"arrowcolor\":\"#2a3f5f\",\"arrowhead\":0,\"arrowwidth\":1},\"geo\":{\"bgcolor\":\"white\",\"landcolor\":\"#E5ECF6\",\"subunitcolor\":\"white\",\"showland\":true,\"showlakes\":true,\"lakecolor\":\"white\"},\"title\":{\"x\":0.05},\"mapbox\":{\"style\":\"light\"}}},\"xaxis\":{\"anchor\":\"y\",\"domain\":[0.0,1.0],\"title\":{\"text\":\"Age\"}},\"yaxis\":{\"anchor\":\"x\",\"domain\":[0.0,1.0],\"title\":{\"text\":\"Fav genre\"}},\"legend\":{\"tracegroupgap\":0},\"margin\":{\"t\":60},\"title\":{\"text\":\"FAV GENRE VS AGE\",\"x\":0.5}},                        {\"responsive\": true}                    ).then(function(){\n",
       "                            \n",
       "var gd = document.getElementById('04ee221b-eb3f-4927-a9b1-a106f571f9b8');\n",
       "var x = new MutationObserver(function (mutations, observer) {{\n",
       "        var display = window.getComputedStyle(gd).display;\n",
       "        if (!display || display === 'none') {{\n",
       "            console.log([gd, 'removed!']);\n",
       "            Plotly.purge(gd);\n",
       "            observer.disconnect();\n",
       "        }}\n",
       "}});\n",
       "\n",
       "// Listen for the removal of the full notebook cells\n",
       "var notebookContainer = gd.closest('#notebook-container');\n",
       "if (notebookContainer) {{\n",
       "    x.observe(notebookContainer, {childList: true});\n",
       "}}\n",
       "\n",
       "// Listen for the clearing of the current output cell\n",
       "var outputEl = gd.closest('.output');\n",
       "if (outputEl) {{\n",
       "    x.observe(outputEl, {childList: true});\n",
       "}}\n",
       "\n",
       "                        })                };                });            </script>        </div>"
      ]
     },
     "metadata": {},
     "output_type": "display_data"
    }
   ],
   "source": [
    "#buble chart age vs fav genre\n",
    "fig = px.scatter(dat, x=\"Age\", y=\"Fav genre\",)\n",
    "fig.update_layout(title_text='FAV GENRE VS AGE', title_x=0.5)\n",
    "fig.show()"
   ]
  },
  {
   "cell_type": "code",
   "execution_count": 57,
   "id": "ea79a5f7",
   "metadata": {},
   "outputs": [
    {
     "data": {
      "application/vnd.plotly.v1+json": {
       "config": {
        "plotlyServerURL": "https://plot.ly"
       },
       "data": [
        {
         "hovertemplate": "Hours per day=%{x}<br>Primary streaming service=%{y}<extra></extra>",
         "legendgroup": "",
         "marker": {
          "color": "#636efa",
          "symbol": "circle"
         },
         "mode": "markers",
         "name": "",
         "orientation": "h",
         "showlegend": false,
         "type": "scatter",
         "x": [
          3,
          1.5,
          4,
          2.5,
          4,
          5,
          3,
          1,
          6,
          1,
          3,
          8,
          3,
          2,
          4,
          2,
          8,
          12,
          24,
          3,
          8,
          4,
          5,
          2,
          3,
          2,
          12,
          6,
          2,
          1,
          5,
          2,
          6,
          4,
          1,
          5,
          4,
          3,
          0.5,
          4,
          2,
          5,
          0.25,
          3,
          4,
          1,
          1,
          3,
          5,
          3,
          2,
          6,
          1,
          12,
          4,
          2,
          6,
          0,
          7,
          1,
          1,
          1,
          2,
          2,
          5,
          6,
          3,
          4,
          3,
          2,
          3,
          2,
          4,
          2,
          0.5,
          5,
          5,
          10,
          2,
          4,
          5,
          3,
          2,
          2.5,
          3,
          1,
          7,
          1,
          1,
          3,
          5,
          6,
          4,
          1,
          4,
          10,
          3,
          2,
          4,
          8,
          2,
          0.5,
          5,
          1,
          3,
          2,
          3,
          2,
          4,
          3,
          2,
          3,
          4,
          2,
          8,
          4,
          2,
          1,
          3,
          0.5,
          2,
          3,
          2,
          1,
          5,
          10,
          4,
          2,
          1,
          6,
          1,
          6,
          7,
          1,
          3,
          2,
          3,
          2,
          3,
          1.5,
          4,
          2,
          10,
          7,
          1,
          2,
          6,
          2,
          3,
          8,
          3,
          3,
          3,
          2,
          1,
          2,
          2,
          4,
          4,
          1,
          2,
          2,
          1,
          3,
          10,
          1,
          3,
          1.5,
          3,
          2.5,
          2,
          5,
          2,
          2,
          2,
          2,
          1,
          1.5,
          5,
          0.5,
          2,
          0.5,
          2,
          2.5,
          2,
          2,
          1,
          4,
          5,
          2,
          2,
          2,
          1,
          4,
          1,
          4,
          5,
          5,
          7,
          2,
          3,
          2,
          3,
          3,
          3,
          5,
          6,
          2,
          2,
          1,
          1,
          3,
          3,
          1,
          6,
          4,
          2,
          2,
          3,
          8,
          3,
          2,
          7,
          12,
          9,
          2,
          1,
          1,
          2,
          4,
          2,
          6,
          4,
          1,
          6,
          2,
          5,
          1.5,
          5,
          2,
          4,
          2,
          5,
          6,
          1,
          6,
          4,
          2,
          2,
          2,
          4,
          2,
          6,
          3,
          5,
          0.5,
          1,
          10,
          2,
          0.5,
          1,
          2,
          3,
          3,
          2,
          1,
          8,
          1,
          1,
          1,
          5,
          5,
          4,
          8,
          0.7,
          3,
          7,
          1.5,
          4,
          4,
          10,
          2,
          2,
          6,
          0.5,
          2,
          5,
          3,
          4.5,
          3,
          20,
          1,
          2.5,
          1,
          2,
          5,
          3,
          3,
          0.5,
          8,
          2,
          3,
          3,
          5,
          1.5,
          1,
          2,
          1,
          4,
          1,
          2,
          2,
          2,
          1,
          6,
          2,
          4,
          1.5,
          3,
          4,
          10,
          3,
          3,
          3,
          2,
          2,
          3,
          2,
          5,
          6,
          3,
          5,
          5,
          6,
          6,
          3,
          10,
          2,
          2,
          3,
          1.5,
          10,
          2,
          3,
          2.5,
          3,
          0.5,
          16,
          6,
          3,
          0.5,
          5,
          2,
          2,
          2,
          1.5,
          1,
          10,
          2,
          15,
          0.5,
          3,
          2,
          4,
          2,
          1,
          24,
          1,
          2,
          2,
          3,
          3,
          2,
          7,
          6,
          3,
          5,
          4,
          3,
          2,
          3,
          2,
          2,
          3,
          2,
          3,
          0,
          1,
          2,
          2,
          6,
          5,
          2,
          4,
          8,
          4,
          1.5,
          2,
          5,
          6,
          2,
          2,
          1,
          1,
          2,
          2,
          1,
          14,
          3,
          3,
          2,
          0.5,
          6,
          1,
          2,
          4,
          3,
          12,
          3,
          1,
          10,
          5,
          0.5,
          5,
          3,
          2,
          13,
          4,
          6,
          3,
          4,
          3,
          2,
          2,
          1,
          6,
          9,
          1,
          1,
          0.5,
          1,
          1.5,
          6,
          4,
          6,
          4,
          1.5,
          2,
          2,
          4,
          3,
          4,
          2,
          2,
          6,
          0,
          1,
          4,
          2,
          3,
          4,
          2,
          3,
          1,
          10,
          10,
          10,
          4,
          4,
          3,
          2,
          1,
          6,
          1,
          1,
          4,
          2,
          2,
          2,
          6,
          3,
          1,
          4,
          0.5,
          8,
          15,
          1.5,
          2,
          3,
          1,
          0.25,
          1,
          1,
          5,
          1,
          1,
          7,
          3,
          3,
          7,
          8,
          2,
          2,
          2,
          2,
          4,
          8,
          4,
          1,
          5,
          2,
          1,
          5,
          8,
          2,
          2,
          1,
          8,
          8,
          1,
          1,
          8,
          2,
          6,
          3,
          4,
          2,
          3,
          4,
          2,
          1,
          1,
          1,
          2,
          7,
          5,
          3,
          1,
          6,
          2,
          3,
          1.5,
          4,
          2,
          2,
          2,
          1,
          3,
          3,
          2,
          6,
          3,
          3,
          2,
          2,
          2,
          3,
          4,
          2,
          5,
          2,
          1,
          7,
          3,
          3,
          4,
          3,
          1,
          7,
          1,
          4,
          4,
          3,
          2,
          4,
          5,
          6,
          1,
          1,
          3,
          1,
          8,
          1,
          8,
          1,
          1,
          10,
          10,
          5,
          10,
          2,
          6,
          2,
          3,
          8,
          8,
          8,
          8,
          12,
          6,
          4,
          8,
          2,
          1,
          2,
          3,
          1,
          0,
          2,
          0.1,
          2,
          12,
          1,
          1,
          3,
          2,
          2,
          3,
          1,
          3,
          3,
          5,
          8,
          4,
          5,
          3,
          4,
          1,
          4,
          1,
          2,
          6,
          2,
          1,
          4,
          8,
          2,
          2,
          10,
          0,
          6,
          3,
          2,
          0.25,
          4,
          2,
          2,
          3,
          6,
          3,
          2,
          5,
          4,
          4,
          0,
          12,
          0.5,
          1,
          3,
          12,
          4,
          3,
          1,
          4,
          2,
          3,
          3,
          1,
          2,
          1,
          0.5,
          2,
          11,
          10,
          5,
          1.5,
          2,
          3,
          2,
          3,
          4,
          1,
          5,
          2,
          7,
          2,
          1,
          1,
          4,
          6,
          3,
          4,
          4,
          1,
          2,
          24,
          5,
          3,
          4,
          9,
          1,
          1,
          2,
          1.5,
          2,
          4,
          1,
          1,
          3,
          4,
          8,
          5,
          3,
          8,
          1,
          4,
          1,
          2,
          1,
          3,
          5,
          5,
          4,
          6,
          6,
          1,
          18,
          1,
          7,
          0.5,
          2,
          2,
          1,
          6,
          5,
          2
         ],
         "xaxis": "x",
         "y": [
          "Spotify",
          "Pandora",
          "Spotify",
          "YouTube Music",
          "Spotify",
          "Spotify",
          "YouTube Music",
          "Spotify",
          "Spotify",
          "I do not use a streaming service.",
          "Spotify",
          "YouTube Music",
          "Spotify",
          "Spotify",
          "Spotify",
          "Spotify",
          "Spotify",
          "Spotify",
          "Spotify",
          "Spotify",
          "Apple Music",
          "Spotify",
          "I do not use a streaming service.",
          "Spotify",
          "Other streaming service",
          "Spotify",
          "Spotify",
          "YouTube Music",
          "Spotify",
          "Apple Music",
          "Apple Music",
          "Spotify",
          "Spotify",
          "Spotify",
          "Spotify",
          "Spotify",
          "Spotify",
          "Other streaming service",
          "Other streaming service",
          "Spotify",
          "YouTube Music",
          "Spotify",
          "YouTube Music",
          "Spotify",
          "Spotify",
          "I do not use a streaming service.",
          "Spotify",
          "Spotify",
          "Spotify",
          "Spotify",
          "Apple Music",
          "Spotify",
          "Apple Music",
          "Spotify",
          "Spotify",
          "Apple Music",
          "Spotify",
          "I do not use a streaming service.",
          "Spotify",
          "I do not use a streaming service.",
          "YouTube Music",
          "Pandora",
          "Other streaming service",
          "Spotify",
          "Spotify",
          "Spotify",
          "Spotify",
          "Spotify",
          "Apple Music",
          "I do not use a streaming service.",
          "YouTube Music",
          "Spotify",
          "Spotify",
          "Spotify",
          "Apple Music",
          "Spotify",
          "Spotify",
          "Spotify",
          "YouTube Music",
          "YouTube Music",
          "Spotify",
          "Spotify",
          "Spotify",
          "Spotify",
          "Spotify",
          "Spotify",
          "Spotify",
          "I do not use a streaming service.",
          "Spotify",
          "Spotify",
          "Spotify",
          "I do not use a streaming service.",
          "Spotify",
          "YouTube Music",
          "YouTube Music",
          "Spotify",
          "Spotify",
          "Spotify",
          "Spotify",
          "Spotify",
          "Spotify",
          "I do not use a streaming service.",
          "Apple Music",
          "YouTube Music",
          "Spotify",
          "YouTube Music",
          "Spotify",
          "Spotify",
          "Other streaming service",
          "YouTube Music",
          "Spotify",
          "Spotify",
          "YouTube Music",
          "Spotify",
          "Spotify",
          "Spotify",
          "Spotify",
          "Spotify",
          "Spotify",
          "Spotify",
          "Spotify",
          "Apple Music",
          "Spotify",
          "YouTube Music",
          "Other streaming service",
          "Spotify",
          "Spotify",
          "Spotify",
          "Spotify",
          "Spotify",
          "YouTube Music",
          "Spotify",
          "Spotify",
          "Other streaming service",
          "Spotify",
          "Spotify",
          "Spotify",
          "Apple Music",
          "YouTube Music",
          "Spotify",
          "Spotify",
          "Spotify",
          "Spotify",
          "Spotify",
          "Spotify",
          "Spotify",
          "Other streaming service",
          "Spotify",
          "Spotify",
          "Spotify",
          "Spotify",
          "Spotify",
          "I do not use a streaming service.",
          "Spotify",
          "Spotify",
          "Spotify",
          "Spotify",
          "I do not use a streaming service.",
          "YouTube Music",
          "Spotify",
          "Spotify",
          "Other streaming service",
          "Other streaming service",
          "Spotify",
          "Spotify",
          "Spotify",
          "Spotify",
          "Spotify",
          "Spotify",
          "YouTube Music",
          "Pandora",
          "YouTube Music",
          "Apple Music",
          "Spotify",
          "I do not use a streaming service.",
          "Spotify",
          "Spotify",
          "YouTube Music",
          "Spotify",
          "Spotify",
          "Spotify",
          "Other streaming service",
          "I do not use a streaming service.",
          "Apple Music",
          "Spotify",
          "Apple Music",
          "Spotify",
          "Spotify",
          "Spotify",
          "Spotify",
          "Spotify",
          "Spotify",
          "Spotify",
          "Apple Music",
          "Spotify",
          "Other streaming service",
          "Spotify",
          null,
          "Spotify",
          "YouTube Music",
          "Spotify",
          "YouTube Music",
          "Spotify",
          "Other streaming service",
          "Spotify",
          "Spotify",
          "I do not use a streaming service.",
          "Spotify",
          "YouTube Music",
          "Spotify",
          "Spotify",
          "Spotify",
          "Spotify",
          "Spotify",
          "Spotify",
          "Spotify",
          "Spotify",
          "Spotify",
          "Spotify",
          "I do not use a streaming service.",
          "Spotify",
          "Spotify",
          "Spotify",
          "YouTube Music",
          "YouTube Music",
          "Spotify",
          "Spotify",
          "Other streaming service",
          "Apple Music",
          "I do not use a streaming service.",
          "Spotify",
          "YouTube Music",
          "Spotify",
          "Other streaming service",
          "Spotify",
          "Spotify",
          "Spotify",
          "I do not use a streaming service.",
          "Spotify",
          "Spotify",
          "Apple Music",
          "Spotify",
          "Spotify",
          "YouTube Music",
          "Spotify",
          "Spotify",
          "Spotify",
          "Apple Music",
          "Spotify",
          "Spotify",
          "Spotify",
          "Spotify",
          "Other streaming service",
          "Spotify",
          "I do not use a streaming service.",
          "I do not use a streaming service.",
          "YouTube Music",
          "Spotify",
          "Spotify",
          "Apple Music",
          "YouTube Music",
          "I do not use a streaming service.",
          "Spotify",
          "Spotify",
          "Spotify",
          "I do not use a streaming service.",
          "Spotify",
          "Spotify",
          "YouTube Music",
          "YouTube Music",
          "Spotify",
          "Other streaming service",
          "Spotify",
          "I do not use a streaming service.",
          "Other streaming service",
          "Spotify",
          "Spotify",
          "I do not use a streaming service.",
          "Spotify",
          "Spotify",
          "Other streaming service",
          "Spotify",
          "Apple Music",
          "Spotify",
          "Spotify",
          "Spotify",
          "Spotify",
          "Apple Music",
          "Other streaming service",
          "Other streaming service",
          "Spotify",
          "Spotify",
          "Spotify",
          "Spotify",
          "Spotify",
          "I do not use a streaming service.",
          "Apple Music",
          "Spotify",
          "Spotify",
          "Apple Music",
          "Spotify",
          "Spotify",
          "Spotify",
          "Apple Music",
          "Apple Music",
          "I do not use a streaming service.",
          "Spotify",
          "Spotify",
          "Spotify",
          "Spotify",
          "Spotify",
          "Spotify",
          "Spotify",
          "I do not use a streaming service.",
          "YouTube Music",
          "Spotify",
          "Spotify",
          "Spotify",
          "Spotify",
          "Spotify",
          "Spotify",
          "Spotify",
          "Apple Music",
          "Spotify",
          "YouTube Music",
          "Spotify",
          "Apple Music",
          "Spotify",
          "Spotify",
          "Spotify",
          "Spotify",
          "Spotify",
          "Spotify",
          "Spotify",
          "Spotify",
          "Spotify",
          "Spotify",
          "Spotify",
          "YouTube Music",
          "Spotify",
          "Spotify",
          "I do not use a streaming service.",
          "I do not use a streaming service.",
          "Spotify",
          "Spotify",
          "Spotify",
          "YouTube Music",
          "Spotify",
          "YouTube Music",
          "Spotify",
          "YouTube Music",
          "Spotify",
          "YouTube Music",
          "Spotify",
          "Spotify",
          "Other streaming service",
          "Spotify",
          "Spotify",
          "YouTube Music",
          "Spotify",
          "I do not use a streaming service.",
          "Spotify",
          "I do not use a streaming service.",
          "Spotify",
          "Spotify",
          "Spotify",
          "Spotify",
          "Spotify",
          "Pandora",
          "YouTube Music",
          "Spotify",
          "Spotify",
          "Spotify",
          "Apple Music",
          "Spotify",
          "YouTube Music",
          "Other streaming service",
          "Apple Music",
          "I do not use a streaming service.",
          "Pandora",
          "YouTube Music",
          "I do not use a streaming service.",
          "I do not use a streaming service.",
          "Apple Music",
          "YouTube Music",
          "Other streaming service",
          "Other streaming service",
          "Spotify",
          "Spotify",
          "Spotify",
          "I do not use a streaming service.",
          "Spotify",
          "Spotify",
          "Other streaming service",
          "Apple Music",
          "Spotify",
          "YouTube Music",
          "Apple Music",
          "Spotify",
          "YouTube Music",
          "Apple Music",
          "Spotify",
          "Spotify",
          "Apple Music",
          "Other streaming service",
          "Spotify",
          "Spotify",
          "Spotify",
          "YouTube Music",
          "Spotify",
          "YouTube Music",
          "Spotify",
          "Spotify",
          "Spotify",
          "Spotify",
          "Pandora",
          "Spotify",
          "Spotify",
          "YouTube Music",
          "Spotify",
          "YouTube Music",
          "Spotify",
          "Other streaming service",
          "Spotify",
          "YouTube Music",
          "Spotify",
          "Spotify",
          "I do not use a streaming service.",
          "Spotify",
          "Pandora",
          "Spotify",
          "YouTube Music",
          "Spotify",
          "Spotify",
          "Spotify",
          "Spotify",
          "Spotify",
          "Spotify",
          "Apple Music",
          "Spotify",
          "Other streaming service",
          "Apple Music",
          "Spotify",
          "Spotify",
          "Spotify",
          "Spotify",
          "Spotify",
          "Apple Music",
          "Apple Music",
          "Spotify",
          "Spotify",
          "I do not use a streaming service.",
          "Spotify",
          "Pandora",
          "Spotify",
          "Spotify",
          "Spotify",
          "I do not use a streaming service.",
          "I do not use a streaming service.",
          "Spotify",
          "YouTube Music",
          "I do not use a streaming service.",
          "Other streaming service",
          "Spotify",
          "YouTube Music",
          "Spotify",
          "I do not use a streaming service.",
          "Spotify",
          "YouTube Music",
          "Spotify",
          "Spotify",
          "Spotify",
          "Spotify",
          "YouTube Music",
          "YouTube Music",
          "Other streaming service",
          "I do not use a streaming service.",
          "YouTube Music",
          "Spotify",
          "YouTube Music",
          "Other streaming service",
          "Other streaming service",
          "Spotify",
          "YouTube Music",
          "YouTube Music",
          "YouTube Music",
          "Spotify",
          "Spotify",
          "Spotify",
          "Spotify",
          "I do not use a streaming service.",
          "YouTube Music",
          "I do not use a streaming service.",
          "Spotify",
          "I do not use a streaming service.",
          "Pandora",
          "Spotify",
          "Spotify",
          "Spotify",
          "I do not use a streaming service.",
          "Spotify",
          "Spotify",
          "Apple Music",
          "Spotify",
          "Spotify",
          "Spotify",
          "Spotify",
          "Other streaming service",
          "Spotify",
          "YouTube Music",
          "Other streaming service",
          "Other streaming service",
          "I do not use a streaming service.",
          "YouTube Music",
          "YouTube Music",
          "Spotify",
          "YouTube Music",
          "Spotify",
          "Apple Music",
          "Spotify",
          "I do not use a streaming service.",
          "Spotify",
          "Spotify",
          "Apple Music",
          "Spotify",
          "I do not use a streaming service.",
          "Spotify",
          "I do not use a streaming service.",
          "I do not use a streaming service.",
          "Other streaming service",
          "YouTube Music",
          "Spotify",
          "I do not use a streaming service.",
          "Spotify",
          "Apple Music",
          "Spotify",
          "Spotify",
          "I do not use a streaming service.",
          "Spotify",
          "Apple Music",
          "Other streaming service",
          "Spotify",
          "Spotify",
          "Spotify",
          "YouTube Music",
          "Spotify",
          "Spotify",
          "Spotify",
          "Spotify",
          "Spotify",
          "Other streaming service",
          "Spotify",
          "YouTube Music",
          "Spotify",
          "I do not use a streaming service.",
          "Spotify",
          "Spotify",
          "I do not use a streaming service.",
          "Spotify",
          "Spotify",
          "Spotify",
          "Spotify",
          "Spotify",
          "Spotify",
          "Spotify",
          "Spotify",
          "Spotify",
          "Pandora",
          "Spotify",
          "Spotify",
          "Pandora",
          "Spotify",
          "Spotify",
          "Spotify",
          "Spotify",
          "Spotify",
          "Other streaming service",
          "YouTube Music",
          "I do not use a streaming service.",
          "Spotify",
          "Spotify",
          "Spotify",
          "Other streaming service",
          "Spotify",
          "Spotify",
          "Apple Music",
          "I do not use a streaming service.",
          "Spotify",
          "Spotify",
          "Spotify",
          "Spotify",
          "Other streaming service",
          "Other streaming service",
          "Other streaming service",
          "Spotify",
          "Spotify",
          "Spotify",
          "YouTube Music",
          "Spotify",
          "Spotify",
          "Spotify",
          "Spotify",
          "Spotify",
          "I do not use a streaming service.",
          "Spotify",
          "Spotify",
          "Spotify",
          "I do not use a streaming service.",
          "Spotify",
          "Other streaming service",
          "I do not use a streaming service.",
          "Spotify",
          "Spotify",
          "Apple Music",
          "Spotify",
          "Spotify",
          "Spotify",
          "Spotify",
          "YouTube Music",
          "Spotify",
          "YouTube Music",
          "Spotify",
          "Spotify",
          "Spotify",
          "I do not use a streaming service.",
          "Spotify",
          "YouTube Music",
          "I do not use a streaming service.",
          "Spotify",
          "Spotify",
          "YouTube Music",
          "Spotify",
          "Spotify",
          "Spotify",
          "YouTube Music",
          "I do not use a streaming service.",
          "Spotify",
          "Spotify",
          "Spotify",
          "I do not use a streaming service.",
          "Spotify",
          "Apple Music",
          "Spotify",
          "Other streaming service",
          "Other streaming service",
          "YouTube Music",
          "YouTube Music",
          "YouTube Music",
          "Spotify",
          "Spotify",
          "Spotify",
          "Spotify",
          "Spotify",
          "Spotify",
          "I do not use a streaming service.",
          "I do not use a streaming service.",
          "I do not use a streaming service.",
          "I do not use a streaming service.",
          "YouTube Music",
          "Apple Music",
          "Spotify",
          "Spotify",
          "Spotify",
          "YouTube Music",
          "Other streaming service",
          "Spotify",
          "Spotify",
          "Spotify",
          "Spotify",
          "Spotify",
          "YouTube Music",
          "Spotify",
          "Spotify",
          "Spotify",
          "Spotify",
          "Spotify",
          "Spotify",
          "Spotify",
          "YouTube Music",
          "YouTube Music",
          "Spotify",
          "Spotify",
          "Apple Music",
          "Apple Music",
          "Spotify",
          "Spotify",
          "I do not use a streaming service.",
          "I do not use a streaming service.",
          "Spotify",
          "Spotify",
          "Spotify",
          "Spotify",
          "Spotify",
          "YouTube Music",
          "Spotify",
          "Spotify",
          "Spotify",
          "Spotify",
          "Spotify",
          "Spotify",
          "YouTube Music",
          "YouTube Music",
          "Spotify",
          "YouTube Music",
          "Spotify",
          "Spotify",
          "Spotify",
          "Spotify",
          "Spotify",
          "Spotify",
          "Spotify",
          "Spotify",
          "I do not use a streaming service.",
          "YouTube Music",
          "Apple Music",
          "Spotify",
          "Spotify",
          "Spotify",
          "Spotify",
          "Spotify",
          "Spotify",
          "Spotify",
          "Spotify",
          "Spotify",
          "Spotify",
          "Spotify",
          "Apple Music",
          "YouTube Music",
          "Other streaming service",
          "I do not use a streaming service.",
          "Spotify",
          "Spotify",
          "Spotify",
          "Other streaming service",
          "Spotify",
          "YouTube Music"
         ],
         "yaxis": "y"
        }
       ],
       "layout": {
        "legend": {
         "tracegroupgap": 0
        },
        "margin": {
         "t": 60
        },
        "template": {
         "data": {
          "bar": [
           {
            "error_x": {
             "color": "#2a3f5f"
            },
            "error_y": {
             "color": "#2a3f5f"
            },
            "marker": {
             "line": {
              "color": "#E5ECF6",
              "width": 0.5
             },
             "pattern": {
              "fillmode": "overlay",
              "size": 10,
              "solidity": 0.2
             }
            },
            "type": "bar"
           }
          ],
          "barpolar": [
           {
            "marker": {
             "line": {
              "color": "#E5ECF6",
              "width": 0.5
             },
             "pattern": {
              "fillmode": "overlay",
              "size": 10,
              "solidity": 0.2
             }
            },
            "type": "barpolar"
           }
          ],
          "carpet": [
           {
            "aaxis": {
             "endlinecolor": "#2a3f5f",
             "gridcolor": "white",
             "linecolor": "white",
             "minorgridcolor": "white",
             "startlinecolor": "#2a3f5f"
            },
            "baxis": {
             "endlinecolor": "#2a3f5f",
             "gridcolor": "white",
             "linecolor": "white",
             "minorgridcolor": "white",
             "startlinecolor": "#2a3f5f"
            },
            "type": "carpet"
           }
          ],
          "choropleth": [
           {
            "colorbar": {
             "outlinewidth": 0,
             "ticks": ""
            },
            "type": "choropleth"
           }
          ],
          "contour": [
           {
            "colorbar": {
             "outlinewidth": 0,
             "ticks": ""
            },
            "colorscale": [
             [
              0,
              "#0d0887"
             ],
             [
              0.1111111111111111,
              "#46039f"
             ],
             [
              0.2222222222222222,
              "#7201a8"
             ],
             [
              0.3333333333333333,
              "#9c179e"
             ],
             [
              0.4444444444444444,
              "#bd3786"
             ],
             [
              0.5555555555555556,
              "#d8576b"
             ],
             [
              0.6666666666666666,
              "#ed7953"
             ],
             [
              0.7777777777777778,
              "#fb9f3a"
             ],
             [
              0.8888888888888888,
              "#fdca26"
             ],
             [
              1,
              "#f0f921"
             ]
            ],
            "type": "contour"
           }
          ],
          "contourcarpet": [
           {
            "colorbar": {
             "outlinewidth": 0,
             "ticks": ""
            },
            "type": "contourcarpet"
           }
          ],
          "heatmap": [
           {
            "colorbar": {
             "outlinewidth": 0,
             "ticks": ""
            },
            "colorscale": [
             [
              0,
              "#0d0887"
             ],
             [
              0.1111111111111111,
              "#46039f"
             ],
             [
              0.2222222222222222,
              "#7201a8"
             ],
             [
              0.3333333333333333,
              "#9c179e"
             ],
             [
              0.4444444444444444,
              "#bd3786"
             ],
             [
              0.5555555555555556,
              "#d8576b"
             ],
             [
              0.6666666666666666,
              "#ed7953"
             ],
             [
              0.7777777777777778,
              "#fb9f3a"
             ],
             [
              0.8888888888888888,
              "#fdca26"
             ],
             [
              1,
              "#f0f921"
             ]
            ],
            "type": "heatmap"
           }
          ],
          "heatmapgl": [
           {
            "colorbar": {
             "outlinewidth": 0,
             "ticks": ""
            },
            "colorscale": [
             [
              0,
              "#0d0887"
             ],
             [
              0.1111111111111111,
              "#46039f"
             ],
             [
              0.2222222222222222,
              "#7201a8"
             ],
             [
              0.3333333333333333,
              "#9c179e"
             ],
             [
              0.4444444444444444,
              "#bd3786"
             ],
             [
              0.5555555555555556,
              "#d8576b"
             ],
             [
              0.6666666666666666,
              "#ed7953"
             ],
             [
              0.7777777777777778,
              "#fb9f3a"
             ],
             [
              0.8888888888888888,
              "#fdca26"
             ],
             [
              1,
              "#f0f921"
             ]
            ],
            "type": "heatmapgl"
           }
          ],
          "histogram": [
           {
            "marker": {
             "pattern": {
              "fillmode": "overlay",
              "size": 10,
              "solidity": 0.2
             }
            },
            "type": "histogram"
           }
          ],
          "histogram2d": [
           {
            "colorbar": {
             "outlinewidth": 0,
             "ticks": ""
            },
            "colorscale": [
             [
              0,
              "#0d0887"
             ],
             [
              0.1111111111111111,
              "#46039f"
             ],
             [
              0.2222222222222222,
              "#7201a8"
             ],
             [
              0.3333333333333333,
              "#9c179e"
             ],
             [
              0.4444444444444444,
              "#bd3786"
             ],
             [
              0.5555555555555556,
              "#d8576b"
             ],
             [
              0.6666666666666666,
              "#ed7953"
             ],
             [
              0.7777777777777778,
              "#fb9f3a"
             ],
             [
              0.8888888888888888,
              "#fdca26"
             ],
             [
              1,
              "#f0f921"
             ]
            ],
            "type": "histogram2d"
           }
          ],
          "histogram2dcontour": [
           {
            "colorbar": {
             "outlinewidth": 0,
             "ticks": ""
            },
            "colorscale": [
             [
              0,
              "#0d0887"
             ],
             [
              0.1111111111111111,
              "#46039f"
             ],
             [
              0.2222222222222222,
              "#7201a8"
             ],
             [
              0.3333333333333333,
              "#9c179e"
             ],
             [
              0.4444444444444444,
              "#bd3786"
             ],
             [
              0.5555555555555556,
              "#d8576b"
             ],
             [
              0.6666666666666666,
              "#ed7953"
             ],
             [
              0.7777777777777778,
              "#fb9f3a"
             ],
             [
              0.8888888888888888,
              "#fdca26"
             ],
             [
              1,
              "#f0f921"
             ]
            ],
            "type": "histogram2dcontour"
           }
          ],
          "mesh3d": [
           {
            "colorbar": {
             "outlinewidth": 0,
             "ticks": ""
            },
            "type": "mesh3d"
           }
          ],
          "parcoords": [
           {
            "line": {
             "colorbar": {
              "outlinewidth": 0,
              "ticks": ""
             }
            },
            "type": "parcoords"
           }
          ],
          "pie": [
           {
            "automargin": true,
            "type": "pie"
           }
          ],
          "scatter": [
           {
            "fillpattern": {
             "fillmode": "overlay",
             "size": 10,
             "solidity": 0.2
            },
            "type": "scatter"
           }
          ],
          "scatter3d": [
           {
            "line": {
             "colorbar": {
              "outlinewidth": 0,
              "ticks": ""
             }
            },
            "marker": {
             "colorbar": {
              "outlinewidth": 0,
              "ticks": ""
             }
            },
            "type": "scatter3d"
           }
          ],
          "scattercarpet": [
           {
            "marker": {
             "colorbar": {
              "outlinewidth": 0,
              "ticks": ""
             }
            },
            "type": "scattercarpet"
           }
          ],
          "scattergeo": [
           {
            "marker": {
             "colorbar": {
              "outlinewidth": 0,
              "ticks": ""
             }
            },
            "type": "scattergeo"
           }
          ],
          "scattergl": [
           {
            "marker": {
             "colorbar": {
              "outlinewidth": 0,
              "ticks": ""
             }
            },
            "type": "scattergl"
           }
          ],
          "scattermapbox": [
           {
            "marker": {
             "colorbar": {
              "outlinewidth": 0,
              "ticks": ""
             }
            },
            "type": "scattermapbox"
           }
          ],
          "scatterpolar": [
           {
            "marker": {
             "colorbar": {
              "outlinewidth": 0,
              "ticks": ""
             }
            },
            "type": "scatterpolar"
           }
          ],
          "scatterpolargl": [
           {
            "marker": {
             "colorbar": {
              "outlinewidth": 0,
              "ticks": ""
             }
            },
            "type": "scatterpolargl"
           }
          ],
          "scatterternary": [
           {
            "marker": {
             "colorbar": {
              "outlinewidth": 0,
              "ticks": ""
             }
            },
            "type": "scatterternary"
           }
          ],
          "surface": [
           {
            "colorbar": {
             "outlinewidth": 0,
             "ticks": ""
            },
            "colorscale": [
             [
              0,
              "#0d0887"
             ],
             [
              0.1111111111111111,
              "#46039f"
             ],
             [
              0.2222222222222222,
              "#7201a8"
             ],
             [
              0.3333333333333333,
              "#9c179e"
             ],
             [
              0.4444444444444444,
              "#bd3786"
             ],
             [
              0.5555555555555556,
              "#d8576b"
             ],
             [
              0.6666666666666666,
              "#ed7953"
             ],
             [
              0.7777777777777778,
              "#fb9f3a"
             ],
             [
              0.8888888888888888,
              "#fdca26"
             ],
             [
              1,
              "#f0f921"
             ]
            ],
            "type": "surface"
           }
          ],
          "table": [
           {
            "cells": {
             "fill": {
              "color": "#EBF0F8"
             },
             "line": {
              "color": "white"
             }
            },
            "header": {
             "fill": {
              "color": "#C8D4E3"
             },
             "line": {
              "color": "white"
             }
            },
            "type": "table"
           }
          ]
         },
         "layout": {
          "annotationdefaults": {
           "arrowcolor": "#2a3f5f",
           "arrowhead": 0,
           "arrowwidth": 1
          },
          "autotypenumbers": "strict",
          "coloraxis": {
           "colorbar": {
            "outlinewidth": 0,
            "ticks": ""
           }
          },
          "colorscale": {
           "diverging": [
            [
             0,
             "#8e0152"
            ],
            [
             0.1,
             "#c51b7d"
            ],
            [
             0.2,
             "#de77ae"
            ],
            [
             0.3,
             "#f1b6da"
            ],
            [
             0.4,
             "#fde0ef"
            ],
            [
             0.5,
             "#f7f7f7"
            ],
            [
             0.6,
             "#e6f5d0"
            ],
            [
             0.7,
             "#b8e186"
            ],
            [
             0.8,
             "#7fbc41"
            ],
            [
             0.9,
             "#4d9221"
            ],
            [
             1,
             "#276419"
            ]
           ],
           "sequential": [
            [
             0,
             "#0d0887"
            ],
            [
             0.1111111111111111,
             "#46039f"
            ],
            [
             0.2222222222222222,
             "#7201a8"
            ],
            [
             0.3333333333333333,
             "#9c179e"
            ],
            [
             0.4444444444444444,
             "#bd3786"
            ],
            [
             0.5555555555555556,
             "#d8576b"
            ],
            [
             0.6666666666666666,
             "#ed7953"
            ],
            [
             0.7777777777777778,
             "#fb9f3a"
            ],
            [
             0.8888888888888888,
             "#fdca26"
            ],
            [
             1,
             "#f0f921"
            ]
           ],
           "sequentialminus": [
            [
             0,
             "#0d0887"
            ],
            [
             0.1111111111111111,
             "#46039f"
            ],
            [
             0.2222222222222222,
             "#7201a8"
            ],
            [
             0.3333333333333333,
             "#9c179e"
            ],
            [
             0.4444444444444444,
             "#bd3786"
            ],
            [
             0.5555555555555556,
             "#d8576b"
            ],
            [
             0.6666666666666666,
             "#ed7953"
            ],
            [
             0.7777777777777778,
             "#fb9f3a"
            ],
            [
             0.8888888888888888,
             "#fdca26"
            ],
            [
             1,
             "#f0f921"
            ]
           ]
          },
          "colorway": [
           "#636efa",
           "#EF553B",
           "#00cc96",
           "#ab63fa",
           "#FFA15A",
           "#19d3f3",
           "#FF6692",
           "#B6E880",
           "#FF97FF",
           "#FECB52"
          ],
          "font": {
           "color": "#2a3f5f"
          },
          "geo": {
           "bgcolor": "white",
           "lakecolor": "white",
           "landcolor": "#E5ECF6",
           "showlakes": true,
           "showland": true,
           "subunitcolor": "white"
          },
          "hoverlabel": {
           "align": "left"
          },
          "hovermode": "closest",
          "mapbox": {
           "style": "light"
          },
          "paper_bgcolor": "white",
          "plot_bgcolor": "#E5ECF6",
          "polar": {
           "angularaxis": {
            "gridcolor": "white",
            "linecolor": "white",
            "ticks": ""
           },
           "bgcolor": "#E5ECF6",
           "radialaxis": {
            "gridcolor": "white",
            "linecolor": "white",
            "ticks": ""
           }
          },
          "scene": {
           "xaxis": {
            "backgroundcolor": "#E5ECF6",
            "gridcolor": "white",
            "gridwidth": 2,
            "linecolor": "white",
            "showbackground": true,
            "ticks": "",
            "zerolinecolor": "white"
           },
           "yaxis": {
            "backgroundcolor": "#E5ECF6",
            "gridcolor": "white",
            "gridwidth": 2,
            "linecolor": "white",
            "showbackground": true,
            "ticks": "",
            "zerolinecolor": "white"
           },
           "zaxis": {
            "backgroundcolor": "#E5ECF6",
            "gridcolor": "white",
            "gridwidth": 2,
            "linecolor": "white",
            "showbackground": true,
            "ticks": "",
            "zerolinecolor": "white"
           }
          },
          "shapedefaults": {
           "line": {
            "color": "#2a3f5f"
           }
          },
          "ternary": {
           "aaxis": {
            "gridcolor": "white",
            "linecolor": "white",
            "ticks": ""
           },
           "baxis": {
            "gridcolor": "white",
            "linecolor": "white",
            "ticks": ""
           },
           "bgcolor": "#E5ECF6",
           "caxis": {
            "gridcolor": "white",
            "linecolor": "white",
            "ticks": ""
           }
          },
          "title": {
           "x": 0.05
          },
          "xaxis": {
           "automargin": true,
           "gridcolor": "white",
           "linecolor": "white",
           "ticks": "",
           "title": {
            "standoff": 15
           },
           "zerolinecolor": "white",
           "zerolinewidth": 2
          },
          "yaxis": {
           "automargin": true,
           "gridcolor": "white",
           "linecolor": "white",
           "ticks": "",
           "title": {
            "standoff": 15
           },
           "zerolinecolor": "white",
           "zerolinewidth": 2
          }
         }
        },
        "xaxis": {
         "anchor": "y",
         "domain": [
          0,
          1
         ],
         "title": {
          "text": "Hours per day"
         }
        },
        "yaxis": {
         "anchor": "x",
         "domain": [
          0,
          1
         ],
         "title": {
          "text": "Primary streaming service"
         }
        }
       }
      },
      "text/html": [
       "<div>                            <div id=\"b6bfeec8-59d8-41c2-a20c-b9ec3a29a00f\" class=\"plotly-graph-div\" style=\"height:525px; width:100%;\"></div>            <script type=\"text/javascript\">                require([\"plotly\"], function(Plotly) {                    window.PLOTLYENV=window.PLOTLYENV || {};                                    if (document.getElementById(\"b6bfeec8-59d8-41c2-a20c-b9ec3a29a00f\")) {                    Plotly.newPlot(                        \"b6bfeec8-59d8-41c2-a20c-b9ec3a29a00f\",                        [{\"hovertemplate\":\"Hours per day=%{x}<br>Primary streaming service=%{y}<extra></extra>\",\"legendgroup\":\"\",\"marker\":{\"color\":\"#636efa\",\"symbol\":\"circle\"},\"mode\":\"markers\",\"name\":\"\",\"orientation\":\"h\",\"showlegend\":false,\"x\":[3.0,1.5,4.0,2.5,4.0,5.0,3.0,1.0,6.0,1.0,3.0,8.0,3.0,2.0,4.0,2.0,8.0,12.0,24.0,3.0,8.0,4.0,5.0,2.0,3.0,2.0,12.0,6.0,2.0,1.0,5.0,2.0,6.0,4.0,1.0,5.0,4.0,3.0,0.5,4.0,2.0,5.0,0.25,3.0,4.0,1.0,1.0,3.0,5.0,3.0,2.0,6.0,1.0,12.0,4.0,2.0,6.0,0.0,7.0,1.0,1.0,1.0,2.0,2.0,5.0,6.0,3.0,4.0,3.0,2.0,3.0,2.0,4.0,2.0,0.5,5.0,5.0,10.0,2.0,4.0,5.0,3.0,2.0,2.5,3.0,1.0,7.0,1.0,1.0,3.0,5.0,6.0,4.0,1.0,4.0,10.0,3.0,2.0,4.0,8.0,2.0,0.5,5.0,1.0,3.0,2.0,3.0,2.0,4.0,3.0,2.0,3.0,4.0,2.0,8.0,4.0,2.0,1.0,3.0,0.5,2.0,3.0,2.0,1.0,5.0,10.0,4.0,2.0,1.0,6.0,1.0,6.0,7.0,1.0,3.0,2.0,3.0,2.0,3.0,1.5,4.0,2.0,10.0,7.0,1.0,2.0,6.0,2.0,3.0,8.0,3.0,3.0,3.0,2.0,1.0,2.0,2.0,4.0,4.0,1.0,2.0,2.0,1.0,3.0,10.0,1.0,3.0,1.5,3.0,2.5,2.0,5.0,2.0,2.0,2.0,2.0,1.0,1.5,5.0,0.5,2.0,0.5,2.0,2.5,2.0,2.0,1.0,4.0,5.0,2.0,2.0,2.0,1.0,4.0,1.0,4.0,5.0,5.0,7.0,2.0,3.0,2.0,3.0,3.0,3.0,5.0,6.0,2.0,2.0,1.0,1.0,3.0,3.0,1.0,6.0,4.0,2.0,2.0,3.0,8.0,3.0,2.0,7.0,12.0,9.0,2.0,1.0,1.0,2.0,4.0,2.0,6.0,4.0,1.0,6.0,2.0,5.0,1.5,5.0,2.0,4.0,2.0,5.0,6.0,1.0,6.0,4.0,2.0,2.0,2.0,4.0,2.0,6.0,3.0,5.0,0.5,1.0,10.0,2.0,0.5,1.0,2.0,3.0,3.0,2.0,1.0,8.0,1.0,1.0,1.0,5.0,5.0,4.0,8.0,0.7,3.0,7.0,1.5,4.0,4.0,10.0,2.0,2.0,6.0,0.5,2.0,5.0,3.0,4.5,3.0,20.0,1.0,2.5,1.0,2.0,5.0,3.0,3.0,0.5,8.0,2.0,3.0,3.0,5.0,1.5,1.0,2.0,1.0,4.0,1.0,2.0,2.0,2.0,1.0,6.0,2.0,4.0,1.5,3.0,4.0,10.0,3.0,3.0,3.0,2.0,2.0,3.0,2.0,5.0,6.0,3.0,5.0,5.0,6.0,6.0,3.0,10.0,2.0,2.0,3.0,1.5,10.0,2.0,3.0,2.5,3.0,0.5,16.0,6.0,3.0,0.5,5.0,2.0,2.0,2.0,1.5,1.0,10.0,2.0,15.0,0.5,3.0,2.0,4.0,2.0,1.0,24.0,1.0,2.0,2.0,3.0,3.0,2.0,7.0,6.0,3.0,5.0,4.0,3.0,2.0,3.0,2.0,2.0,3.0,2.0,3.0,0.0,1.0,2.0,2.0,6.0,5.0,2.0,4.0,8.0,4.0,1.5,2.0,5.0,6.0,2.0,2.0,1.0,1.0,2.0,2.0,1.0,14.0,3.0,3.0,2.0,0.5,6.0,1.0,2.0,4.0,3.0,12.0,3.0,1.0,10.0,5.0,0.5,5.0,3.0,2.0,13.0,4.0,6.0,3.0,4.0,3.0,2.0,2.0,1.0,6.0,9.0,1.0,1.0,0.5,1.0,1.5,6.0,4.0,6.0,4.0,1.5,2.0,2.0,4.0,3.0,4.0,2.0,2.0,6.0,0.0,1.0,4.0,2.0,3.0,4.0,2.0,3.0,1.0,10.0,10.0,10.0,4.0,4.0,3.0,2.0,1.0,6.0,1.0,1.0,4.0,2.0,2.0,2.0,6.0,3.0,1.0,4.0,0.5,8.0,15.0,1.5,2.0,3.0,1.0,0.25,1.0,1.0,5.0,1.0,1.0,7.0,3.0,3.0,7.0,8.0,2.0,2.0,2.0,2.0,4.0,8.0,4.0,1.0,5.0,2.0,1.0,5.0,8.0,2.0,2.0,1.0,8.0,8.0,1.0,1.0,8.0,2.0,6.0,3.0,4.0,2.0,3.0,4.0,2.0,1.0,1.0,1.0,2.0,7.0,5.0,3.0,1.0,6.0,2.0,3.0,1.5,4.0,2.0,2.0,2.0,1.0,3.0,3.0,2.0,6.0,3.0,3.0,2.0,2.0,2.0,3.0,4.0,2.0,5.0,2.0,1.0,7.0,3.0,3.0,4.0,3.0,1.0,7.0,1.0,4.0,4.0,3.0,2.0,4.0,5.0,6.0,1.0,1.0,3.0,1.0,8.0,1.0,8.0,1.0,1.0,10.0,10.0,5.0,10.0,2.0,6.0,2.0,3.0,8.0,8.0,8.0,8.0,12.0,6.0,4.0,8.0,2.0,1.0,2.0,3.0,1.0,0.0,2.0,0.1,2.0,12.0,1.0,1.0,3.0,2.0,2.0,3.0,1.0,3.0,3.0,5.0,8.0,4.0,5.0,3.0,4.0,1.0,4.0,1.0,2.0,6.0,2.0,1.0,4.0,8.0,2.0,2.0,10.0,0.0,6.0,3.0,2.0,0.25,4.0,2.0,2.0,3.0,6.0,3.0,2.0,5.0,4.0,4.0,0.0,12.0,0.5,1.0,3.0,12.0,4.0,3.0,1.0,4.0,2.0,3.0,3.0,1.0,2.0,1.0,0.5,2.0,11.0,10.0,5.0,1.5,2.0,3.0,2.0,3.0,4.0,1.0,5.0,2.0,7.0,2.0,1.0,1.0,4.0,6.0,3.0,4.0,4.0,1.0,2.0,24.0,5.0,3.0,4.0,9.0,1.0,1.0,2.0,1.5,2.0,4.0,1.0,1.0,3.0,4.0,8.0,5.0,3.0,8.0,1.0,4.0,1.0,2.0,1.0,3.0,5.0,5.0,4.0,6.0,6.0,1.0,18.0,1.0,7.0,0.5,2.0,2.0,1.0,6.0,5.0,2.0],\"xaxis\":\"x\",\"y\":[\"Spotify\",\"Pandora\",\"Spotify\",\"YouTube Music\",\"Spotify\",\"Spotify\",\"YouTube Music\",\"Spotify\",\"Spotify\",\"I do not use a streaming service.\",\"Spotify\",\"YouTube Music\",\"Spotify\",\"Spotify\",\"Spotify\",\"Spotify\",\"Spotify\",\"Spotify\",\"Spotify\",\"Spotify\",\"Apple Music\",\"Spotify\",\"I do not use a streaming service.\",\"Spotify\",\"Other streaming service\",\"Spotify\",\"Spotify\",\"YouTube Music\",\"Spotify\",\"Apple Music\",\"Apple Music\",\"Spotify\",\"Spotify\",\"Spotify\",\"Spotify\",\"Spotify\",\"Spotify\",\"Other streaming service\",\"Other streaming service\",\"Spotify\",\"YouTube Music\",\"Spotify\",\"YouTube Music\",\"Spotify\",\"Spotify\",\"I do not use a streaming service.\",\"Spotify\",\"Spotify\",\"Spotify\",\"Spotify\",\"Apple Music\",\"Spotify\",\"Apple Music\",\"Spotify\",\"Spotify\",\"Apple Music\",\"Spotify\",\"I do not use a streaming service.\",\"Spotify\",\"I do not use a streaming service.\",\"YouTube Music\",\"Pandora\",\"Other streaming service\",\"Spotify\",\"Spotify\",\"Spotify\",\"Spotify\",\"Spotify\",\"Apple Music\",\"I do not use a streaming service.\",\"YouTube Music\",\"Spotify\",\"Spotify\",\"Spotify\",\"Apple Music\",\"Spotify\",\"Spotify\",\"Spotify\",\"YouTube Music\",\"YouTube Music\",\"Spotify\",\"Spotify\",\"Spotify\",\"Spotify\",\"Spotify\",\"Spotify\",\"Spotify\",\"I do not use a streaming service.\",\"Spotify\",\"Spotify\",\"Spotify\",\"I do not use a streaming service.\",\"Spotify\",\"YouTube Music\",\"YouTube Music\",\"Spotify\",\"Spotify\",\"Spotify\",\"Spotify\",\"Spotify\",\"Spotify\",\"I do not use a streaming service.\",\"Apple Music\",\"YouTube Music\",\"Spotify\",\"YouTube Music\",\"Spotify\",\"Spotify\",\"Other streaming service\",\"YouTube Music\",\"Spotify\",\"Spotify\",\"YouTube Music\",\"Spotify\",\"Spotify\",\"Spotify\",\"Spotify\",\"Spotify\",\"Spotify\",\"Spotify\",\"Spotify\",\"Apple Music\",\"Spotify\",\"YouTube Music\",\"Other streaming service\",\"Spotify\",\"Spotify\",\"Spotify\",\"Spotify\",\"Spotify\",\"YouTube Music\",\"Spotify\",\"Spotify\",\"Other streaming service\",\"Spotify\",\"Spotify\",\"Spotify\",\"Apple Music\",\"YouTube Music\",\"Spotify\",\"Spotify\",\"Spotify\",\"Spotify\",\"Spotify\",\"Spotify\",\"Spotify\",\"Other streaming service\",\"Spotify\",\"Spotify\",\"Spotify\",\"Spotify\",\"Spotify\",\"I do not use a streaming service.\",\"Spotify\",\"Spotify\",\"Spotify\",\"Spotify\",\"I do not use a streaming service.\",\"YouTube Music\",\"Spotify\",\"Spotify\",\"Other streaming service\",\"Other streaming service\",\"Spotify\",\"Spotify\",\"Spotify\",\"Spotify\",\"Spotify\",\"Spotify\",\"YouTube Music\",\"Pandora\",\"YouTube Music\",\"Apple Music\",\"Spotify\",\"I do not use a streaming service.\",\"Spotify\",\"Spotify\",\"YouTube Music\",\"Spotify\",\"Spotify\",\"Spotify\",\"Other streaming service\",\"I do not use a streaming service.\",\"Apple Music\",\"Spotify\",\"Apple Music\",\"Spotify\",\"Spotify\",\"Spotify\",\"Spotify\",\"Spotify\",\"Spotify\",\"Spotify\",\"Apple Music\",\"Spotify\",\"Other streaming service\",\"Spotify\",null,\"Spotify\",\"YouTube Music\",\"Spotify\",\"YouTube Music\",\"Spotify\",\"Other streaming service\",\"Spotify\",\"Spotify\",\"I do not use a streaming service.\",\"Spotify\",\"YouTube Music\",\"Spotify\",\"Spotify\",\"Spotify\",\"Spotify\",\"Spotify\",\"Spotify\",\"Spotify\",\"Spotify\",\"Spotify\",\"Spotify\",\"I do not use a streaming service.\",\"Spotify\",\"Spotify\",\"Spotify\",\"YouTube Music\",\"YouTube Music\",\"Spotify\",\"Spotify\",\"Other streaming service\",\"Apple Music\",\"I do not use a streaming service.\",\"Spotify\",\"YouTube Music\",\"Spotify\",\"Other streaming service\",\"Spotify\",\"Spotify\",\"Spotify\",\"I do not use a streaming service.\",\"Spotify\",\"Spotify\",\"Apple Music\",\"Spotify\",\"Spotify\",\"YouTube Music\",\"Spotify\",\"Spotify\",\"Spotify\",\"Apple Music\",\"Spotify\",\"Spotify\",\"Spotify\",\"Spotify\",\"Other streaming service\",\"Spotify\",\"I do not use a streaming service.\",\"I do not use a streaming service.\",\"YouTube Music\",\"Spotify\",\"Spotify\",\"Apple Music\",\"YouTube Music\",\"I do not use a streaming service.\",\"Spotify\",\"Spotify\",\"Spotify\",\"I do not use a streaming service.\",\"Spotify\",\"Spotify\",\"YouTube Music\",\"YouTube Music\",\"Spotify\",\"Other streaming service\",\"Spotify\",\"I do not use a streaming service.\",\"Other streaming service\",\"Spotify\",\"Spotify\",\"I do not use a streaming service.\",\"Spotify\",\"Spotify\",\"Other streaming service\",\"Spotify\",\"Apple Music\",\"Spotify\",\"Spotify\",\"Spotify\",\"Spotify\",\"Apple Music\",\"Other streaming service\",\"Other streaming service\",\"Spotify\",\"Spotify\",\"Spotify\",\"Spotify\",\"Spotify\",\"I do not use a streaming service.\",\"Apple Music\",\"Spotify\",\"Spotify\",\"Apple Music\",\"Spotify\",\"Spotify\",\"Spotify\",\"Apple Music\",\"Apple Music\",\"I do not use a streaming service.\",\"Spotify\",\"Spotify\",\"Spotify\",\"Spotify\",\"Spotify\",\"Spotify\",\"Spotify\",\"I do not use a streaming service.\",\"YouTube Music\",\"Spotify\",\"Spotify\",\"Spotify\",\"Spotify\",\"Spotify\",\"Spotify\",\"Spotify\",\"Apple Music\",\"Spotify\",\"YouTube Music\",\"Spotify\",\"Apple Music\",\"Spotify\",\"Spotify\",\"Spotify\",\"Spotify\",\"Spotify\",\"Spotify\",\"Spotify\",\"Spotify\",\"Spotify\",\"Spotify\",\"Spotify\",\"YouTube Music\",\"Spotify\",\"Spotify\",\"I do not use a streaming service.\",\"I do not use a streaming service.\",\"Spotify\",\"Spotify\",\"Spotify\",\"YouTube Music\",\"Spotify\",\"YouTube Music\",\"Spotify\",\"YouTube Music\",\"Spotify\",\"YouTube Music\",\"Spotify\",\"Spotify\",\"Other streaming service\",\"Spotify\",\"Spotify\",\"YouTube Music\",\"Spotify\",\"I do not use a streaming service.\",\"Spotify\",\"I do not use a streaming service.\",\"Spotify\",\"Spotify\",\"Spotify\",\"Spotify\",\"Spotify\",\"Pandora\",\"YouTube Music\",\"Spotify\",\"Spotify\",\"Spotify\",\"Apple Music\",\"Spotify\",\"YouTube Music\",\"Other streaming service\",\"Apple Music\",\"I do not use a streaming service.\",\"Pandora\",\"YouTube Music\",\"I do not use a streaming service.\",\"I do not use a streaming service.\",\"Apple Music\",\"YouTube Music\",\"Other streaming service\",\"Other streaming service\",\"Spotify\",\"Spotify\",\"Spotify\",\"I do not use a streaming service.\",\"Spotify\",\"Spotify\",\"Other streaming service\",\"Apple Music\",\"Spotify\",\"YouTube Music\",\"Apple Music\",\"Spotify\",\"YouTube Music\",\"Apple Music\",\"Spotify\",\"Spotify\",\"Apple Music\",\"Other streaming service\",\"Spotify\",\"Spotify\",\"Spotify\",\"YouTube Music\",\"Spotify\",\"YouTube Music\",\"Spotify\",\"Spotify\",\"Spotify\",\"Spotify\",\"Pandora\",\"Spotify\",\"Spotify\",\"YouTube Music\",\"Spotify\",\"YouTube Music\",\"Spotify\",\"Other streaming service\",\"Spotify\",\"YouTube Music\",\"Spotify\",\"Spotify\",\"I do not use a streaming service.\",\"Spotify\",\"Pandora\",\"Spotify\",\"YouTube Music\",\"Spotify\",\"Spotify\",\"Spotify\",\"Spotify\",\"Spotify\",\"Spotify\",\"Apple Music\",\"Spotify\",\"Other streaming service\",\"Apple Music\",\"Spotify\",\"Spotify\",\"Spotify\",\"Spotify\",\"Spotify\",\"Apple Music\",\"Apple Music\",\"Spotify\",\"Spotify\",\"I do not use a streaming service.\",\"Spotify\",\"Pandora\",\"Spotify\",\"Spotify\",\"Spotify\",\"I do not use a streaming service.\",\"I do not use a streaming service.\",\"Spotify\",\"YouTube Music\",\"I do not use a streaming service.\",\"Other streaming service\",\"Spotify\",\"YouTube Music\",\"Spotify\",\"I do not use a streaming service.\",\"Spotify\",\"YouTube Music\",\"Spotify\",\"Spotify\",\"Spotify\",\"Spotify\",\"YouTube Music\",\"YouTube Music\",\"Other streaming service\",\"I do not use a streaming service.\",\"YouTube Music\",\"Spotify\",\"YouTube Music\",\"Other streaming service\",\"Other streaming service\",\"Spotify\",\"YouTube Music\",\"YouTube Music\",\"YouTube Music\",\"Spotify\",\"Spotify\",\"Spotify\",\"Spotify\",\"I do not use a streaming service.\",\"YouTube Music\",\"I do not use a streaming service.\",\"Spotify\",\"I do not use a streaming service.\",\"Pandora\",\"Spotify\",\"Spotify\",\"Spotify\",\"I do not use a streaming service.\",\"Spotify\",\"Spotify\",\"Apple Music\",\"Spotify\",\"Spotify\",\"Spotify\",\"Spotify\",\"Other streaming service\",\"Spotify\",\"YouTube Music\",\"Other streaming service\",\"Other streaming service\",\"I do not use a streaming service.\",\"YouTube Music\",\"YouTube Music\",\"Spotify\",\"YouTube Music\",\"Spotify\",\"Apple Music\",\"Spotify\",\"I do not use a streaming service.\",\"Spotify\",\"Spotify\",\"Apple Music\",\"Spotify\",\"I do not use a streaming service.\",\"Spotify\",\"I do not use a streaming service.\",\"I do not use a streaming service.\",\"Other streaming service\",\"YouTube Music\",\"Spotify\",\"I do not use a streaming service.\",\"Spotify\",\"Apple Music\",\"Spotify\",\"Spotify\",\"I do not use a streaming service.\",\"Spotify\",\"Apple Music\",\"Other streaming service\",\"Spotify\",\"Spotify\",\"Spotify\",\"YouTube Music\",\"Spotify\",\"Spotify\",\"Spotify\",\"Spotify\",\"Spotify\",\"Other streaming service\",\"Spotify\",\"YouTube Music\",\"Spotify\",\"I do not use a streaming service.\",\"Spotify\",\"Spotify\",\"I do not use a streaming service.\",\"Spotify\",\"Spotify\",\"Spotify\",\"Spotify\",\"Spotify\",\"Spotify\",\"Spotify\",\"Spotify\",\"Spotify\",\"Pandora\",\"Spotify\",\"Spotify\",\"Pandora\",\"Spotify\",\"Spotify\",\"Spotify\",\"Spotify\",\"Spotify\",\"Other streaming service\",\"YouTube Music\",\"I do not use a streaming service.\",\"Spotify\",\"Spotify\",\"Spotify\",\"Other streaming service\",\"Spotify\",\"Spotify\",\"Apple Music\",\"I do not use a streaming service.\",\"Spotify\",\"Spotify\",\"Spotify\",\"Spotify\",\"Other streaming service\",\"Other streaming service\",\"Other streaming service\",\"Spotify\",\"Spotify\",\"Spotify\",\"YouTube Music\",\"Spotify\",\"Spotify\",\"Spotify\",\"Spotify\",\"Spotify\",\"I do not use a streaming service.\",\"Spotify\",\"Spotify\",\"Spotify\",\"I do not use a streaming service.\",\"Spotify\",\"Other streaming service\",\"I do not use a streaming service.\",\"Spotify\",\"Spotify\",\"Apple Music\",\"Spotify\",\"Spotify\",\"Spotify\",\"Spotify\",\"YouTube Music\",\"Spotify\",\"YouTube Music\",\"Spotify\",\"Spotify\",\"Spotify\",\"I do not use a streaming service.\",\"Spotify\",\"YouTube Music\",\"I do not use a streaming service.\",\"Spotify\",\"Spotify\",\"YouTube Music\",\"Spotify\",\"Spotify\",\"Spotify\",\"YouTube Music\",\"I do not use a streaming service.\",\"Spotify\",\"Spotify\",\"Spotify\",\"I do not use a streaming service.\",\"Spotify\",\"Apple Music\",\"Spotify\",\"Other streaming service\",\"Other streaming service\",\"YouTube Music\",\"YouTube Music\",\"YouTube Music\",\"Spotify\",\"Spotify\",\"Spotify\",\"Spotify\",\"Spotify\",\"Spotify\",\"I do not use a streaming service.\",\"I do not use a streaming service.\",\"I do not use a streaming service.\",\"I do not use a streaming service.\",\"YouTube Music\",\"Apple Music\",\"Spotify\",\"Spotify\",\"Spotify\",\"YouTube Music\",\"Other streaming service\",\"Spotify\",\"Spotify\",\"Spotify\",\"Spotify\",\"Spotify\",\"YouTube Music\",\"Spotify\",\"Spotify\",\"Spotify\",\"Spotify\",\"Spotify\",\"Spotify\",\"Spotify\",\"YouTube Music\",\"YouTube Music\",\"Spotify\",\"Spotify\",\"Apple Music\",\"Apple Music\",\"Spotify\",\"Spotify\",\"I do not use a streaming service.\",\"I do not use a streaming service.\",\"Spotify\",\"Spotify\",\"Spotify\",\"Spotify\",\"Spotify\",\"YouTube Music\",\"Spotify\",\"Spotify\",\"Spotify\",\"Spotify\",\"Spotify\",\"Spotify\",\"YouTube Music\",\"YouTube Music\",\"Spotify\",\"YouTube Music\",\"Spotify\",\"Spotify\",\"Spotify\",\"Spotify\",\"Spotify\",\"Spotify\",\"Spotify\",\"Spotify\",\"I do not use a streaming service.\",\"YouTube Music\",\"Apple Music\",\"Spotify\",\"Spotify\",\"Spotify\",\"Spotify\",\"Spotify\",\"Spotify\",\"Spotify\",\"Spotify\",\"Spotify\",\"Spotify\",\"Spotify\",\"Apple Music\",\"YouTube Music\",\"Other streaming service\",\"I do not use a streaming service.\",\"Spotify\",\"Spotify\",\"Spotify\",\"Other streaming service\",\"Spotify\",\"YouTube Music\"],\"yaxis\":\"y\",\"type\":\"scatter\"}],                        {\"template\":{\"data\":{\"histogram2dcontour\":[{\"type\":\"histogram2dcontour\",\"colorbar\":{\"outlinewidth\":0,\"ticks\":\"\"},\"colorscale\":[[0.0,\"#0d0887\"],[0.1111111111111111,\"#46039f\"],[0.2222222222222222,\"#7201a8\"],[0.3333333333333333,\"#9c179e\"],[0.4444444444444444,\"#bd3786\"],[0.5555555555555556,\"#d8576b\"],[0.6666666666666666,\"#ed7953\"],[0.7777777777777778,\"#fb9f3a\"],[0.8888888888888888,\"#fdca26\"],[1.0,\"#f0f921\"]]}],\"choropleth\":[{\"type\":\"choropleth\",\"colorbar\":{\"outlinewidth\":0,\"ticks\":\"\"}}],\"histogram2d\":[{\"type\":\"histogram2d\",\"colorbar\":{\"outlinewidth\":0,\"ticks\":\"\"},\"colorscale\":[[0.0,\"#0d0887\"],[0.1111111111111111,\"#46039f\"],[0.2222222222222222,\"#7201a8\"],[0.3333333333333333,\"#9c179e\"],[0.4444444444444444,\"#bd3786\"],[0.5555555555555556,\"#d8576b\"],[0.6666666666666666,\"#ed7953\"],[0.7777777777777778,\"#fb9f3a\"],[0.8888888888888888,\"#fdca26\"],[1.0,\"#f0f921\"]]}],\"heatmap\":[{\"type\":\"heatmap\",\"colorbar\":{\"outlinewidth\":0,\"ticks\":\"\"},\"colorscale\":[[0.0,\"#0d0887\"],[0.1111111111111111,\"#46039f\"],[0.2222222222222222,\"#7201a8\"],[0.3333333333333333,\"#9c179e\"],[0.4444444444444444,\"#bd3786\"],[0.5555555555555556,\"#d8576b\"],[0.6666666666666666,\"#ed7953\"],[0.7777777777777778,\"#fb9f3a\"],[0.8888888888888888,\"#fdca26\"],[1.0,\"#f0f921\"]]}],\"heatmapgl\":[{\"type\":\"heatmapgl\",\"colorbar\":{\"outlinewidth\":0,\"ticks\":\"\"},\"colorscale\":[[0.0,\"#0d0887\"],[0.1111111111111111,\"#46039f\"],[0.2222222222222222,\"#7201a8\"],[0.3333333333333333,\"#9c179e\"],[0.4444444444444444,\"#bd3786\"],[0.5555555555555556,\"#d8576b\"],[0.6666666666666666,\"#ed7953\"],[0.7777777777777778,\"#fb9f3a\"],[0.8888888888888888,\"#fdca26\"],[1.0,\"#f0f921\"]]}],\"contourcarpet\":[{\"type\":\"contourcarpet\",\"colorbar\":{\"outlinewidth\":0,\"ticks\":\"\"}}],\"contour\":[{\"type\":\"contour\",\"colorbar\":{\"outlinewidth\":0,\"ticks\":\"\"},\"colorscale\":[[0.0,\"#0d0887\"],[0.1111111111111111,\"#46039f\"],[0.2222222222222222,\"#7201a8\"],[0.3333333333333333,\"#9c179e\"],[0.4444444444444444,\"#bd3786\"],[0.5555555555555556,\"#d8576b\"],[0.6666666666666666,\"#ed7953\"],[0.7777777777777778,\"#fb9f3a\"],[0.8888888888888888,\"#fdca26\"],[1.0,\"#f0f921\"]]}],\"surface\":[{\"type\":\"surface\",\"colorbar\":{\"outlinewidth\":0,\"ticks\":\"\"},\"colorscale\":[[0.0,\"#0d0887\"],[0.1111111111111111,\"#46039f\"],[0.2222222222222222,\"#7201a8\"],[0.3333333333333333,\"#9c179e\"],[0.4444444444444444,\"#bd3786\"],[0.5555555555555556,\"#d8576b\"],[0.6666666666666666,\"#ed7953\"],[0.7777777777777778,\"#fb9f3a\"],[0.8888888888888888,\"#fdca26\"],[1.0,\"#f0f921\"]]}],\"mesh3d\":[{\"type\":\"mesh3d\",\"colorbar\":{\"outlinewidth\":0,\"ticks\":\"\"}}],\"scatter\":[{\"fillpattern\":{\"fillmode\":\"overlay\",\"size\":10,\"solidity\":0.2},\"type\":\"scatter\"}],\"parcoords\":[{\"type\":\"parcoords\",\"line\":{\"colorbar\":{\"outlinewidth\":0,\"ticks\":\"\"}}}],\"scatterpolargl\":[{\"type\":\"scatterpolargl\",\"marker\":{\"colorbar\":{\"outlinewidth\":0,\"ticks\":\"\"}}}],\"bar\":[{\"error_x\":{\"color\":\"#2a3f5f\"},\"error_y\":{\"color\":\"#2a3f5f\"},\"marker\":{\"line\":{\"color\":\"#E5ECF6\",\"width\":0.5},\"pattern\":{\"fillmode\":\"overlay\",\"size\":10,\"solidity\":0.2}},\"type\":\"bar\"}],\"scattergeo\":[{\"type\":\"scattergeo\",\"marker\":{\"colorbar\":{\"outlinewidth\":0,\"ticks\":\"\"}}}],\"scatterpolar\":[{\"type\":\"scatterpolar\",\"marker\":{\"colorbar\":{\"outlinewidth\":0,\"ticks\":\"\"}}}],\"histogram\":[{\"marker\":{\"pattern\":{\"fillmode\":\"overlay\",\"size\":10,\"solidity\":0.2}},\"type\":\"histogram\"}],\"scattergl\":[{\"type\":\"scattergl\",\"marker\":{\"colorbar\":{\"outlinewidth\":0,\"ticks\":\"\"}}}],\"scatter3d\":[{\"type\":\"scatter3d\",\"line\":{\"colorbar\":{\"outlinewidth\":0,\"ticks\":\"\"}},\"marker\":{\"colorbar\":{\"outlinewidth\":0,\"ticks\":\"\"}}}],\"scattermapbox\":[{\"type\":\"scattermapbox\",\"marker\":{\"colorbar\":{\"outlinewidth\":0,\"ticks\":\"\"}}}],\"scatterternary\":[{\"type\":\"scatterternary\",\"marker\":{\"colorbar\":{\"outlinewidth\":0,\"ticks\":\"\"}}}],\"scattercarpet\":[{\"type\":\"scattercarpet\",\"marker\":{\"colorbar\":{\"outlinewidth\":0,\"ticks\":\"\"}}}],\"carpet\":[{\"aaxis\":{\"endlinecolor\":\"#2a3f5f\",\"gridcolor\":\"white\",\"linecolor\":\"white\",\"minorgridcolor\":\"white\",\"startlinecolor\":\"#2a3f5f\"},\"baxis\":{\"endlinecolor\":\"#2a3f5f\",\"gridcolor\":\"white\",\"linecolor\":\"white\",\"minorgridcolor\":\"white\",\"startlinecolor\":\"#2a3f5f\"},\"type\":\"carpet\"}],\"table\":[{\"cells\":{\"fill\":{\"color\":\"#EBF0F8\"},\"line\":{\"color\":\"white\"}},\"header\":{\"fill\":{\"color\":\"#C8D4E3\"},\"line\":{\"color\":\"white\"}},\"type\":\"table\"}],\"barpolar\":[{\"marker\":{\"line\":{\"color\":\"#E5ECF6\",\"width\":0.5},\"pattern\":{\"fillmode\":\"overlay\",\"size\":10,\"solidity\":0.2}},\"type\":\"barpolar\"}],\"pie\":[{\"automargin\":true,\"type\":\"pie\"}]},\"layout\":{\"autotypenumbers\":\"strict\",\"colorway\":[\"#636efa\",\"#EF553B\",\"#00cc96\",\"#ab63fa\",\"#FFA15A\",\"#19d3f3\",\"#FF6692\",\"#B6E880\",\"#FF97FF\",\"#FECB52\"],\"font\":{\"color\":\"#2a3f5f\"},\"hovermode\":\"closest\",\"hoverlabel\":{\"align\":\"left\"},\"paper_bgcolor\":\"white\",\"plot_bgcolor\":\"#E5ECF6\",\"polar\":{\"bgcolor\":\"#E5ECF6\",\"angularaxis\":{\"gridcolor\":\"white\",\"linecolor\":\"white\",\"ticks\":\"\"},\"radialaxis\":{\"gridcolor\":\"white\",\"linecolor\":\"white\",\"ticks\":\"\"}},\"ternary\":{\"bgcolor\":\"#E5ECF6\",\"aaxis\":{\"gridcolor\":\"white\",\"linecolor\":\"white\",\"ticks\":\"\"},\"baxis\":{\"gridcolor\":\"white\",\"linecolor\":\"white\",\"ticks\":\"\"},\"caxis\":{\"gridcolor\":\"white\",\"linecolor\":\"white\",\"ticks\":\"\"}},\"coloraxis\":{\"colorbar\":{\"outlinewidth\":0,\"ticks\":\"\"}},\"colorscale\":{\"sequential\":[[0.0,\"#0d0887\"],[0.1111111111111111,\"#46039f\"],[0.2222222222222222,\"#7201a8\"],[0.3333333333333333,\"#9c179e\"],[0.4444444444444444,\"#bd3786\"],[0.5555555555555556,\"#d8576b\"],[0.6666666666666666,\"#ed7953\"],[0.7777777777777778,\"#fb9f3a\"],[0.8888888888888888,\"#fdca26\"],[1.0,\"#f0f921\"]],\"sequentialminus\":[[0.0,\"#0d0887\"],[0.1111111111111111,\"#46039f\"],[0.2222222222222222,\"#7201a8\"],[0.3333333333333333,\"#9c179e\"],[0.4444444444444444,\"#bd3786\"],[0.5555555555555556,\"#d8576b\"],[0.6666666666666666,\"#ed7953\"],[0.7777777777777778,\"#fb9f3a\"],[0.8888888888888888,\"#fdca26\"],[1.0,\"#f0f921\"]],\"diverging\":[[0,\"#8e0152\"],[0.1,\"#c51b7d\"],[0.2,\"#de77ae\"],[0.3,\"#f1b6da\"],[0.4,\"#fde0ef\"],[0.5,\"#f7f7f7\"],[0.6,\"#e6f5d0\"],[0.7,\"#b8e186\"],[0.8,\"#7fbc41\"],[0.9,\"#4d9221\"],[1,\"#276419\"]]},\"xaxis\":{\"gridcolor\":\"white\",\"linecolor\":\"white\",\"ticks\":\"\",\"title\":{\"standoff\":15},\"zerolinecolor\":\"white\",\"automargin\":true,\"zerolinewidth\":2},\"yaxis\":{\"gridcolor\":\"white\",\"linecolor\":\"white\",\"ticks\":\"\",\"title\":{\"standoff\":15},\"zerolinecolor\":\"white\",\"automargin\":true,\"zerolinewidth\":2},\"scene\":{\"xaxis\":{\"backgroundcolor\":\"#E5ECF6\",\"gridcolor\":\"white\",\"linecolor\":\"white\",\"showbackground\":true,\"ticks\":\"\",\"zerolinecolor\":\"white\",\"gridwidth\":2},\"yaxis\":{\"backgroundcolor\":\"#E5ECF6\",\"gridcolor\":\"white\",\"linecolor\":\"white\",\"showbackground\":true,\"ticks\":\"\",\"zerolinecolor\":\"white\",\"gridwidth\":2},\"zaxis\":{\"backgroundcolor\":\"#E5ECF6\",\"gridcolor\":\"white\",\"linecolor\":\"white\",\"showbackground\":true,\"ticks\":\"\",\"zerolinecolor\":\"white\",\"gridwidth\":2}},\"shapedefaults\":{\"line\":{\"color\":\"#2a3f5f\"}},\"annotationdefaults\":{\"arrowcolor\":\"#2a3f5f\",\"arrowhead\":0,\"arrowwidth\":1},\"geo\":{\"bgcolor\":\"white\",\"landcolor\":\"#E5ECF6\",\"subunitcolor\":\"white\",\"showland\":true,\"showlakes\":true,\"lakecolor\":\"white\"},\"title\":{\"x\":0.05},\"mapbox\":{\"style\":\"light\"}}},\"xaxis\":{\"anchor\":\"y\",\"domain\":[0.0,1.0],\"title\":{\"text\":\"Hours per day\"}},\"yaxis\":{\"anchor\":\"x\",\"domain\":[0.0,1.0],\"title\":{\"text\":\"Primary streaming service\"}},\"legend\":{\"tracegroupgap\":0},\"margin\":{\"t\":60}},                        {\"responsive\": true}                    ).then(function(){\n",
       "                            \n",
       "var gd = document.getElementById('b6bfeec8-59d8-41c2-a20c-b9ec3a29a00f');\n",
       "var x = new MutationObserver(function (mutations, observer) {{\n",
       "        var display = window.getComputedStyle(gd).display;\n",
       "        if (!display || display === 'none') {{\n",
       "            console.log([gd, 'removed!']);\n",
       "            Plotly.purge(gd);\n",
       "            observer.disconnect();\n",
       "        }}\n",
       "}});\n",
       "\n",
       "// Listen for the removal of the full notebook cells\n",
       "var notebookContainer = gd.closest('#notebook-container');\n",
       "if (notebookContainer) {{\n",
       "    x.observe(notebookContainer, {childList: true});\n",
       "}}\n",
       "\n",
       "// Listen for the clearing of the current output cell\n",
       "var outputEl = gd.closest('.output');\n",
       "if (outputEl) {{\n",
       "    x.observe(outputEl, {childList: true});\n",
       "}}\n",
       "\n",
       "                        })                };                });            </script>        </div>"
      ]
     },
     "metadata": {},
     "output_type": "display_data"
    }
   ],
   "source": [
    "#bubble chart hours per day vs primary streaming service \n",
    "fig = px.scatter(dat, x=\"Hours per day\", y=\"Primary streaming service\")\n",
    "fig.show()"
   ]
  },
  {
   "cell_type": "markdown",
   "id": "94c192ce",
   "metadata": {},
   "source": [
    "# Tree Map"
   ]
  },
  {
   "cell_type": "code",
   "execution_count": 33,
   "id": "4e273a98",
   "metadata": {},
   "outputs": [
    {
     "ename": "ValueError",
     "evalue": "Value of 'values' is not the name of a column in 'data_frame'. Expected one of ['total_bill', 'tip', 'sex', 'smoker', 'day', 'time', 'size'] but received: Age",
     "output_type": "error",
     "traceback": [
      "\u001b[1;31m---------------------------------------------------------------------------\u001b[0m",
      "\u001b[1;31mValueError\u001b[0m                                Traceback (most recent call last)",
      "\u001b[1;32m~\\AppData\\Local\\Temp\\ipykernel_7072\\3754351160.py\u001b[0m in \u001b[0;36m<module>\u001b[1;34m\u001b[0m\n\u001b[0;32m      1\u001b[0m \u001b[1;31m# Simple treemap showing country level data and sizing the rectangles based on the pop field\u001b[0m\u001b[1;33m\u001b[0m\u001b[1;33m\u001b[0m\u001b[0m\n\u001b[1;32m----> 2\u001b[1;33m \u001b[0mpx\u001b[0m\u001b[1;33m.\u001b[0m\u001b[0mtreemap\u001b[0m\u001b[1;33m(\u001b[0m\u001b[0mdata_frame\u001b[0m\u001b[1;33m=\u001b[0m\u001b[0mdat\u001b[0m\u001b[1;33m,\u001b[0m \u001b[0mpath\u001b[0m\u001b[1;33m=\u001b[0m\u001b[1;33m[\u001b[0m\u001b[1;34m'Fav genre'\u001b[0m\u001b[1;33m]\u001b[0m\u001b[1;33m,\u001b[0m \u001b[0mvalues\u001b[0m\u001b[1;33m=\u001b[0m\u001b[1;34m'Age'\u001b[0m\u001b[1;33m)\u001b[0m\u001b[1;33m\u001b[0m\u001b[1;33m\u001b[0m\u001b[0m\n\u001b[0m",
      "\u001b[1;32mC:\\ProgramData\\Anaconda3\\lib\\site-packages\\plotly\\express\\_chart_types.py\u001b[0m in \u001b[0;36mtreemap\u001b[1;34m(data_frame, names, values, parents, ids, path, color, color_continuous_scale, range_color, color_continuous_midpoint, color_discrete_sequence, color_discrete_map, hover_name, hover_data, custom_data, labels, title, template, width, height, branchvalues, maxdepth)\u001b[0m\n\u001b[0;32m   1589\u001b[0m     \u001b[1;32mif\u001b[0m \u001b[0mpath\u001b[0m \u001b[1;32mis\u001b[0m \u001b[1;32mnot\u001b[0m \u001b[1;32mNone\u001b[0m \u001b[1;32mand\u001b[0m \u001b[0mbranchvalues\u001b[0m \u001b[1;32mis\u001b[0m \u001b[1;32mNone\u001b[0m\u001b[1;33m:\u001b[0m\u001b[1;33m\u001b[0m\u001b[1;33m\u001b[0m\u001b[0m\n\u001b[0;32m   1590\u001b[0m         \u001b[0mbranchvalues\u001b[0m \u001b[1;33m=\u001b[0m \u001b[1;34m\"total\"\u001b[0m\u001b[1;33m\u001b[0m\u001b[1;33m\u001b[0m\u001b[0m\n\u001b[1;32m-> 1591\u001b[1;33m     return make_figure(\n\u001b[0m\u001b[0;32m   1592\u001b[0m         \u001b[0margs\u001b[0m\u001b[1;33m=\u001b[0m\u001b[0mlocals\u001b[0m\u001b[1;33m(\u001b[0m\u001b[1;33m)\u001b[0m\u001b[1;33m,\u001b[0m\u001b[1;33m\u001b[0m\u001b[1;33m\u001b[0m\u001b[0m\n\u001b[0;32m   1593\u001b[0m         \u001b[0mconstructor\u001b[0m\u001b[1;33m=\u001b[0m\u001b[0mgo\u001b[0m\u001b[1;33m.\u001b[0m\u001b[0mTreemap\u001b[0m\u001b[1;33m,\u001b[0m\u001b[1;33m\u001b[0m\u001b[1;33m\u001b[0m\u001b[0m\n",
      "\u001b[1;32mC:\\ProgramData\\Anaconda3\\lib\\site-packages\\plotly\\express\\_core.py\u001b[0m in \u001b[0;36mmake_figure\u001b[1;34m(args, constructor, trace_patch, layout_patch)\u001b[0m\n\u001b[0;32m   1988\u001b[0m     \u001b[0mapply_default_cascade\u001b[0m\u001b[1;33m(\u001b[0m\u001b[0margs\u001b[0m\u001b[1;33m)\u001b[0m\u001b[1;33m\u001b[0m\u001b[1;33m\u001b[0m\u001b[0m\n\u001b[0;32m   1989\u001b[0m \u001b[1;33m\u001b[0m\u001b[0m\n\u001b[1;32m-> 1990\u001b[1;33m     \u001b[0margs\u001b[0m \u001b[1;33m=\u001b[0m \u001b[0mbuild_dataframe\u001b[0m\u001b[1;33m(\u001b[0m\u001b[0margs\u001b[0m\u001b[1;33m,\u001b[0m \u001b[0mconstructor\u001b[0m\u001b[1;33m)\u001b[0m\u001b[1;33m\u001b[0m\u001b[1;33m\u001b[0m\u001b[0m\n\u001b[0m\u001b[0;32m   1991\u001b[0m     \u001b[1;32mif\u001b[0m \u001b[0mconstructor\u001b[0m \u001b[1;32min\u001b[0m \u001b[1;33m[\u001b[0m\u001b[0mgo\u001b[0m\u001b[1;33m.\u001b[0m\u001b[0mTreemap\u001b[0m\u001b[1;33m,\u001b[0m \u001b[0mgo\u001b[0m\u001b[1;33m.\u001b[0m\u001b[0mSunburst\u001b[0m\u001b[1;33m,\u001b[0m \u001b[0mgo\u001b[0m\u001b[1;33m.\u001b[0m\u001b[0mIcicle\u001b[0m\u001b[1;33m]\u001b[0m \u001b[1;32mand\u001b[0m \u001b[0margs\u001b[0m\u001b[1;33m[\u001b[0m\u001b[1;34m\"path\"\u001b[0m\u001b[1;33m]\u001b[0m \u001b[1;32mis\u001b[0m \u001b[1;32mnot\u001b[0m \u001b[1;32mNone\u001b[0m\u001b[1;33m:\u001b[0m\u001b[1;33m\u001b[0m\u001b[1;33m\u001b[0m\u001b[0m\n\u001b[0;32m   1992\u001b[0m         \u001b[0margs\u001b[0m \u001b[1;33m=\u001b[0m \u001b[0mprocess_dataframe_hierarchy\u001b[0m\u001b[1;33m(\u001b[0m\u001b[0margs\u001b[0m\u001b[1;33m)\u001b[0m\u001b[1;33m\u001b[0m\u001b[1;33m\u001b[0m\u001b[0m\n",
      "\u001b[1;32mC:\\ProgramData\\Anaconda3\\lib\\site-packages\\plotly\\express\\_core.py\u001b[0m in \u001b[0;36mbuild_dataframe\u001b[1;34m(args, constructor)\u001b[0m\n\u001b[0;32m   1403\u001b[0m     \u001b[1;31m# now that things have been prepped, we do the systematic rewriting of `args`\u001b[0m\u001b[1;33m\u001b[0m\u001b[1;33m\u001b[0m\u001b[0m\n\u001b[0;32m   1404\u001b[0m \u001b[1;33m\u001b[0m\u001b[0m\n\u001b[1;32m-> 1405\u001b[1;33m     df_output, wide_id_vars = process_args_into_dataframe(\n\u001b[0m\u001b[0;32m   1406\u001b[0m         \u001b[0margs\u001b[0m\u001b[1;33m,\u001b[0m \u001b[0mwide_mode\u001b[0m\u001b[1;33m,\u001b[0m \u001b[0mvar_name\u001b[0m\u001b[1;33m,\u001b[0m \u001b[0mvalue_name\u001b[0m\u001b[1;33m\u001b[0m\u001b[1;33m\u001b[0m\u001b[0m\n\u001b[0;32m   1407\u001b[0m     )\n",
      "\u001b[1;32mC:\\ProgramData\\Anaconda3\\lib\\site-packages\\plotly\\express\\_core.py\u001b[0m in \u001b[0;36mprocess_args_into_dataframe\u001b[1;34m(args, wide_mode, var_name, value_name)\u001b[0m\n\u001b[0;32m   1205\u001b[0m                         \u001b[1;32mif\u001b[0m \u001b[0margument\u001b[0m \u001b[1;33m==\u001b[0m \u001b[1;34m\"index\"\u001b[0m\u001b[1;33m:\u001b[0m\u001b[1;33m\u001b[0m\u001b[1;33m\u001b[0m\u001b[0m\n\u001b[0;32m   1206\u001b[0m                             \u001b[0merr_msg\u001b[0m \u001b[1;33m+=\u001b[0m \u001b[1;34m\"\\n To use the index, pass it in directly as `df.index`.\"\u001b[0m\u001b[1;33m\u001b[0m\u001b[1;33m\u001b[0m\u001b[0m\n\u001b[1;32m-> 1207\u001b[1;33m                         \u001b[1;32mraise\u001b[0m \u001b[0mValueError\u001b[0m\u001b[1;33m(\u001b[0m\u001b[0merr_msg\u001b[0m\u001b[1;33m)\u001b[0m\u001b[1;33m\u001b[0m\u001b[1;33m\u001b[0m\u001b[0m\n\u001b[0m\u001b[0;32m   1208\u001b[0m                 \u001b[1;32melif\u001b[0m \u001b[0mlength\u001b[0m \u001b[1;32mand\u001b[0m \u001b[0mlen\u001b[0m\u001b[1;33m(\u001b[0m\u001b[0mdf_input\u001b[0m\u001b[1;33m[\u001b[0m\u001b[0margument\u001b[0m\u001b[1;33m]\u001b[0m\u001b[1;33m)\u001b[0m \u001b[1;33m!=\u001b[0m \u001b[0mlength\u001b[0m\u001b[1;33m:\u001b[0m\u001b[1;33m\u001b[0m\u001b[1;33m\u001b[0m\u001b[0m\n\u001b[0;32m   1209\u001b[0m                     raise ValueError(\n",
      "\u001b[1;31mValueError\u001b[0m: Value of 'values' is not the name of a column in 'data_frame'. Expected one of ['total_bill', 'tip', 'sex', 'smoker', 'day', 'time', 'size'] but received: Age"
     ]
    }
   ],
   "source": [
    "# Simple treemap showing country level data and sizing the rectangles based on the pop field\n",
    "px.treemap(dat, path=['Fav genre'], values='Age')"
   ]
  },
  {
   "cell_type": "code",
   "execution_count": null,
   "id": "ee2a8ca9",
   "metadata": {},
   "outputs": [],
   "source": []
  }
 ],
 "metadata": {
  "kernelspec": {
   "display_name": "Python 3 (ipykernel)",
   "language": "python",
   "name": "python3"
  },
  "language_info": {
   "codemirror_mode": {
    "name": "ipython",
    "version": 3
   },
   "file_extension": ".py",
   "mimetype": "text/x-python",
   "name": "python",
   "nbconvert_exporter": "python",
   "pygments_lexer": "ipython3",
   "version": "3.9.13"
  }
 },
 "nbformat": 4,
 "nbformat_minor": 5
}
